{
 "cells": [
  {
   "cell_type": "code",
   "execution_count": null,
   "metadata": {},
   "outputs": [],
   "source": []
  },
  {
   "cell_type": "markdown",
   "metadata": {
    "toc": true
   },
   "source": [
    "<h1>Содержание<span class=\"tocSkip\"></span></h1>\n",
    "<div class=\"toc\"><ul class=\"toc-item\"><li><span><a href=\"#Подготовка-данных\" data-toc-modified-id=\"Подготовка-данных-1\"><span class=\"toc-item-num\">1&nbsp;&nbsp;</span>Подготовка данных</a></span><ul class=\"toc-item\"><li><span><a href=\"#Вывод\" data-toc-modified-id=\"Вывод-1.1\"><span class=\"toc-item-num\">1.1&nbsp;&nbsp;</span>Вывод</a></span></li></ul></li><li><span><a href=\"#Исследование-задачи\" data-toc-modified-id=\"Исследование-задачи-2\"><span class=\"toc-item-num\">2&nbsp;&nbsp;</span>Исследование задачи</a></span><ul class=\"toc-item\"><li><span><a href=\"#Логистическая-регрессия\" data-toc-modified-id=\"Логистическая-регрессия-2.1\"><span class=\"toc-item-num\">2.1&nbsp;&nbsp;</span>Логистическая регрессия</a></span></li><li><span><a href=\"#Дерево-решений\" data-toc-modified-id=\"Дерево-решений-2.2\"><span class=\"toc-item-num\">2.2&nbsp;&nbsp;</span>Дерево решений</a></span></li><li><span><a href=\"#Случайный-лес\" data-toc-modified-id=\"Случайный-лес-2.3\"><span class=\"toc-item-num\">2.3&nbsp;&nbsp;</span>Случайный лес</a></span></li><li><span><a href=\"#Вывод\" data-toc-modified-id=\"Вывод-2.4\"><span class=\"toc-item-num\">2.4&nbsp;&nbsp;</span>Вывод</a></span></li></ul></li><li><span><a href=\"#Борьба-с-дисбалансом\" data-toc-modified-id=\"Борьба-с-дисбалансом-3\"><span class=\"toc-item-num\">3&nbsp;&nbsp;</span>Борьба с дисбалансом</a></span><ul class=\"toc-item\"><li><span><a href=\"#Upsample\" data-toc-modified-id=\"Upsample-3.1\"><span class=\"toc-item-num\">3.1&nbsp;&nbsp;</span>Upsample</a></span></li><li><span><a href=\"#Downsample\" data-toc-modified-id=\"Downsample-3.2\"><span class=\"toc-item-num\">3.2&nbsp;&nbsp;</span>Downsample</a></span></li><li><span><a href=\"#Автоматическая-балансировка-классов\" data-toc-modified-id=\"Автоматическая-балансировка-классов-3.3\"><span class=\"toc-item-num\">3.3&nbsp;&nbsp;</span>Автоматическая балансировка классов</a></span></li><li><span><a href=\"#Вывод\" data-toc-modified-id=\"Вывод-3.4\"><span class=\"toc-item-num\">3.4&nbsp;&nbsp;</span>Вывод</a></span></li></ul></li><li><span><a href=\"#Тестирование-модели\" data-toc-modified-id=\"Тестирование-модели-4\"><span class=\"toc-item-num\">4&nbsp;&nbsp;</span>Тестирование модели</a></span></li><li><span><a href=\"#Вывод\" data-toc-modified-id=\"Вывод-5\"><span class=\"toc-item-num\">5&nbsp;&nbsp;</span>Вывод</a></span></li><li><span><a href=\"#Чек-лист-готовности-проекта\" data-toc-modified-id=\"Чек-лист-готовности-проекта-6\"><span class=\"toc-item-num\">6&nbsp;&nbsp;</span>Чек-лист готовности проекта</a></span></li></ul></div>"
   ]
  },
  {
   "cell_type": "markdown",
   "metadata": {},
   "source": [
    "# Отток клиентов"
   ]
  },
  {
   "cell_type": "markdown",
   "metadata": {},
   "source": [
    "Из «Бета-Банка» стали уходить клиенты. Каждый месяц. Немного, но заметно. Банковские маркетологи посчитали: сохранять текущих клиентов дешевле, чем привлекать новых.\n",
    "\n",
    "Нужно спрогнозировать, уйдёт клиент из банка в ближайшее время или нет. Вам предоставлены исторические данные о поведении клиентов и расторжении договоров с банком. \n",
    "\n",
    "Постройте модель с предельно большим значением *F1*-меры. Чтобы сдать проект успешно, нужно довести метрику до 0.59. Проверьте *F1*-меру на тестовой выборке самостоятельно.\n",
    "\n",
    "Дополнительно измеряйте *AUC-ROC*, сравнивайте её значение с *F1*-мерой.\n",
    "\n",
    "Источник данных: [https://www.kaggle.com/barelydedicated/bank-customer-churn-modeling](https://www.kaggle.com/barelydedicated/bank-customer-churn-modeling)"
   ]
  },
  {
   "cell_type": "markdown",
   "metadata": {},
   "source": [
    "## Подготовка данных"
   ]
  },
  {
   "cell_type": "code",
   "execution_count": 1,
   "metadata": {},
   "outputs": [],
   "source": [
    "import pandas as pd\n",
    "from sklearn.model_selection import train_test_split\n",
    "from sklearn.linear_model import LogisticRegression\n",
    "from sklearn.tree import DecisionTreeClassifier\n",
    "from sklearn.ensemble import RandomForestClassifier\n",
    "from sklearn.preprocessing import StandardScaler\n",
    "from sklearn.utils import shuffle\n",
    "import matplotlib.pyplot as plt\n",
    "from sklearn.metrics import f1_score, precision_score, recall_score, accuracy_score, roc_auc_score, roc_curve\n",
    "\n",
    "pd.set_option('display.max_columns', None)\n",
    "seed = 42"
   ]
  },
  {
   "cell_type": "code",
   "execution_count": 2,
   "metadata": {
    "scrolled": true
   },
   "outputs": [
    {
     "data": {
      "text/html": [
       "<div>\n",
       "<style scoped>\n",
       "    .dataframe tbody tr th:only-of-type {\n",
       "        vertical-align: middle;\n",
       "    }\n",
       "\n",
       "    .dataframe tbody tr th {\n",
       "        vertical-align: top;\n",
       "    }\n",
       "\n",
       "    .dataframe thead th {\n",
       "        text-align: right;\n",
       "    }\n",
       "</style>\n",
       "<table border=\"1\" class=\"dataframe\">\n",
       "  <thead>\n",
       "    <tr style=\"text-align: right;\">\n",
       "      <th></th>\n",
       "      <th>RowNumber</th>\n",
       "      <th>CustomerId</th>\n",
       "      <th>Surname</th>\n",
       "      <th>CreditScore</th>\n",
       "      <th>Geography</th>\n",
       "      <th>Gender</th>\n",
       "      <th>Age</th>\n",
       "      <th>Tenure</th>\n",
       "      <th>Balance</th>\n",
       "      <th>NumOfProducts</th>\n",
       "      <th>HasCrCard</th>\n",
       "      <th>IsActiveMember</th>\n",
       "      <th>EstimatedSalary</th>\n",
       "      <th>Exited</th>\n",
       "    </tr>\n",
       "  </thead>\n",
       "  <tbody>\n",
       "    <tr>\n",
       "      <th>0</th>\n",
       "      <td>1</td>\n",
       "      <td>15634602</td>\n",
       "      <td>Hargrave</td>\n",
       "      <td>619</td>\n",
       "      <td>France</td>\n",
       "      <td>Female</td>\n",
       "      <td>42</td>\n",
       "      <td>2.0</td>\n",
       "      <td>0.00</td>\n",
       "      <td>1</td>\n",
       "      <td>1</td>\n",
       "      <td>1</td>\n",
       "      <td>101348.88</td>\n",
       "      <td>1</td>\n",
       "    </tr>\n",
       "    <tr>\n",
       "      <th>1</th>\n",
       "      <td>2</td>\n",
       "      <td>15647311</td>\n",
       "      <td>Hill</td>\n",
       "      <td>608</td>\n",
       "      <td>Spain</td>\n",
       "      <td>Female</td>\n",
       "      <td>41</td>\n",
       "      <td>1.0</td>\n",
       "      <td>83807.86</td>\n",
       "      <td>1</td>\n",
       "      <td>0</td>\n",
       "      <td>1</td>\n",
       "      <td>112542.58</td>\n",
       "      <td>0</td>\n",
       "    </tr>\n",
       "    <tr>\n",
       "      <th>2</th>\n",
       "      <td>3</td>\n",
       "      <td>15619304</td>\n",
       "      <td>Onio</td>\n",
       "      <td>502</td>\n",
       "      <td>France</td>\n",
       "      <td>Female</td>\n",
       "      <td>42</td>\n",
       "      <td>8.0</td>\n",
       "      <td>159660.80</td>\n",
       "      <td>3</td>\n",
       "      <td>1</td>\n",
       "      <td>0</td>\n",
       "      <td>113931.57</td>\n",
       "      <td>1</td>\n",
       "    </tr>\n",
       "    <tr>\n",
       "      <th>3</th>\n",
       "      <td>4</td>\n",
       "      <td>15701354</td>\n",
       "      <td>Boni</td>\n",
       "      <td>699</td>\n",
       "      <td>France</td>\n",
       "      <td>Female</td>\n",
       "      <td>39</td>\n",
       "      <td>1.0</td>\n",
       "      <td>0.00</td>\n",
       "      <td>2</td>\n",
       "      <td>0</td>\n",
       "      <td>0</td>\n",
       "      <td>93826.63</td>\n",
       "      <td>0</td>\n",
       "    </tr>\n",
       "    <tr>\n",
       "      <th>4</th>\n",
       "      <td>5</td>\n",
       "      <td>15737888</td>\n",
       "      <td>Mitchell</td>\n",
       "      <td>850</td>\n",
       "      <td>Spain</td>\n",
       "      <td>Female</td>\n",
       "      <td>43</td>\n",
       "      <td>2.0</td>\n",
       "      <td>125510.82</td>\n",
       "      <td>1</td>\n",
       "      <td>1</td>\n",
       "      <td>1</td>\n",
       "      <td>79084.10</td>\n",
       "      <td>0</td>\n",
       "    </tr>\n",
       "    <tr>\n",
       "      <th>5</th>\n",
       "      <td>6</td>\n",
       "      <td>15574012</td>\n",
       "      <td>Chu</td>\n",
       "      <td>645</td>\n",
       "      <td>Spain</td>\n",
       "      <td>Male</td>\n",
       "      <td>44</td>\n",
       "      <td>8.0</td>\n",
       "      <td>113755.78</td>\n",
       "      <td>2</td>\n",
       "      <td>1</td>\n",
       "      <td>0</td>\n",
       "      <td>149756.71</td>\n",
       "      <td>1</td>\n",
       "    </tr>\n",
       "    <tr>\n",
       "      <th>6</th>\n",
       "      <td>7</td>\n",
       "      <td>15592531</td>\n",
       "      <td>Bartlett</td>\n",
       "      <td>822</td>\n",
       "      <td>France</td>\n",
       "      <td>Male</td>\n",
       "      <td>50</td>\n",
       "      <td>7.0</td>\n",
       "      <td>0.00</td>\n",
       "      <td>2</td>\n",
       "      <td>1</td>\n",
       "      <td>1</td>\n",
       "      <td>10062.80</td>\n",
       "      <td>0</td>\n",
       "    </tr>\n",
       "    <tr>\n",
       "      <th>7</th>\n",
       "      <td>8</td>\n",
       "      <td>15656148</td>\n",
       "      <td>Obinna</td>\n",
       "      <td>376</td>\n",
       "      <td>Germany</td>\n",
       "      <td>Female</td>\n",
       "      <td>29</td>\n",
       "      <td>4.0</td>\n",
       "      <td>115046.74</td>\n",
       "      <td>4</td>\n",
       "      <td>1</td>\n",
       "      <td>0</td>\n",
       "      <td>119346.88</td>\n",
       "      <td>1</td>\n",
       "    </tr>\n",
       "    <tr>\n",
       "      <th>8</th>\n",
       "      <td>9</td>\n",
       "      <td>15792365</td>\n",
       "      <td>He</td>\n",
       "      <td>501</td>\n",
       "      <td>France</td>\n",
       "      <td>Male</td>\n",
       "      <td>44</td>\n",
       "      <td>4.0</td>\n",
       "      <td>142051.07</td>\n",
       "      <td>2</td>\n",
       "      <td>0</td>\n",
       "      <td>1</td>\n",
       "      <td>74940.50</td>\n",
       "      <td>0</td>\n",
       "    </tr>\n",
       "    <tr>\n",
       "      <th>9</th>\n",
       "      <td>10</td>\n",
       "      <td>15592389</td>\n",
       "      <td>H?</td>\n",
       "      <td>684</td>\n",
       "      <td>France</td>\n",
       "      <td>Male</td>\n",
       "      <td>27</td>\n",
       "      <td>2.0</td>\n",
       "      <td>134603.88</td>\n",
       "      <td>1</td>\n",
       "      <td>1</td>\n",
       "      <td>1</td>\n",
       "      <td>71725.73</td>\n",
       "      <td>0</td>\n",
       "    </tr>\n",
       "  </tbody>\n",
       "</table>\n",
       "</div>"
      ],
      "text/plain": [
       "   RowNumber  CustomerId   Surname  CreditScore Geography  Gender  Age  \\\n",
       "0          1    15634602  Hargrave          619    France  Female   42   \n",
       "1          2    15647311      Hill          608     Spain  Female   41   \n",
       "2          3    15619304      Onio          502    France  Female   42   \n",
       "3          4    15701354      Boni          699    France  Female   39   \n",
       "4          5    15737888  Mitchell          850     Spain  Female   43   \n",
       "5          6    15574012       Chu          645     Spain    Male   44   \n",
       "6          7    15592531  Bartlett          822    France    Male   50   \n",
       "7          8    15656148    Obinna          376   Germany  Female   29   \n",
       "8          9    15792365        He          501    France    Male   44   \n",
       "9         10    15592389        H?          684    France    Male   27   \n",
       "\n",
       "   Tenure    Balance  NumOfProducts  HasCrCard  IsActiveMember  \\\n",
       "0     2.0       0.00              1          1               1   \n",
       "1     1.0   83807.86              1          0               1   \n",
       "2     8.0  159660.80              3          1               0   \n",
       "3     1.0       0.00              2          0               0   \n",
       "4     2.0  125510.82              1          1               1   \n",
       "5     8.0  113755.78              2          1               0   \n",
       "6     7.0       0.00              2          1               1   \n",
       "7     4.0  115046.74              4          1               0   \n",
       "8     4.0  142051.07              2          0               1   \n",
       "9     2.0  134603.88              1          1               1   \n",
       "\n",
       "   EstimatedSalary  Exited  \n",
       "0        101348.88       1  \n",
       "1        112542.58       0  \n",
       "2        113931.57       1  \n",
       "3         93826.63       0  \n",
       "4         79084.10       0  \n",
       "5        149756.71       1  \n",
       "6         10062.80       0  \n",
       "7        119346.88       1  \n",
       "8         74940.50       0  \n",
       "9         71725.73       0  "
      ]
     },
     "execution_count": 2,
     "metadata": {},
     "output_type": "execute_result"
    }
   ],
   "source": [
    "# Датасет загружен с Kaggle по ссылке \n",
    "# https://www.kaggle.com/datasets/barelydedicated/bank-customer-churn-modeling/download?datasetVersionNumber=1\n",
    "# data = pd.read_csv('Churn_Modelling.csv', sep=',')\n",
    "# Но оказалось, что это другой датасет. Используем тот, что в задании на предыдущей странице\n",
    "\n",
    "data = pd.read_csv('/datasets/Churn.csv', sep=',')\n",
    "data.head(10)"
   ]
  },
  {
   "cell_type": "code",
   "execution_count": 3,
   "metadata": {
    "scrolled": false
   },
   "outputs": [
    {
     "name": "stdout",
     "output_type": "stream",
     "text": [
      "<class 'pandas.core.frame.DataFrame'>\n",
      "RangeIndex: 10000 entries, 0 to 9999\n",
      "Data columns (total 14 columns):\n",
      " #   Column           Non-Null Count  Dtype  \n",
      "---  ------           --------------  -----  \n",
      " 0   RowNumber        10000 non-null  int64  \n",
      " 1   CustomerId       10000 non-null  int64  \n",
      " 2   Surname          10000 non-null  object \n",
      " 3   CreditScore      10000 non-null  int64  \n",
      " 4   Geography        10000 non-null  object \n",
      " 5   Gender           10000 non-null  object \n",
      " 6   Age              10000 non-null  int64  \n",
      " 7   Tenure           9091 non-null   float64\n",
      " 8   Balance          10000 non-null  float64\n",
      " 9   NumOfProducts    10000 non-null  int64  \n",
      " 10  HasCrCard        10000 non-null  int64  \n",
      " 11  IsActiveMember   10000 non-null  int64  \n",
      " 12  EstimatedSalary  10000 non-null  float64\n",
      " 13  Exited           10000 non-null  int64  \n",
      "dtypes: float64(3), int64(8), object(3)\n",
      "memory usage: 1.1+ MB\n"
     ]
    }
   ],
   "source": [
    "data.info()"
   ]
  },
  {
   "cell_type": "markdown",
   "metadata": {},
   "source": [
    "Пропуски значений `Tenure` не подходят для обучения. Удаляем эти строки, приводим тип данных к целочисленному."
   ]
  },
  {
   "cell_type": "code",
   "execution_count": 4,
   "metadata": {},
   "outputs": [],
   "source": [
    "data = data.dropna(subset=['Tenure']).reset_index(drop=True)\n",
    "data['Tenure'] = data['Tenure'].astype('int')"
   ]
  },
  {
   "cell_type": "code",
   "execution_count": 5,
   "metadata": {
    "scrolled": true
   },
   "outputs": [
    {
     "data": {
      "text/plain": [
       "0"
      ]
     },
     "execution_count": 5,
     "metadata": {},
     "output_type": "execute_result"
    }
   ],
   "source": [
    "data.duplicated().sum()"
   ]
  },
  {
   "cell_type": "markdown",
   "metadata": {},
   "source": [
    "В данных нет повторяющихся строк."
   ]
  },
  {
   "cell_type": "markdown",
   "metadata": {},
   "source": [
    "Создадим спимок `num_row`, в котором хранятся названия столбцов с числовыми признаками. Посмотрим свойства."
   ]
  },
  {
   "cell_type": "code",
   "execution_count": 6,
   "metadata": {
    "scrolled": true
   },
   "outputs": [
    {
     "data": {
      "text/html": [
       "<div>\n",
       "<style scoped>\n",
       "    .dataframe tbody tr th:only-of-type {\n",
       "        vertical-align: middle;\n",
       "    }\n",
       "\n",
       "    .dataframe tbody tr th {\n",
       "        vertical-align: top;\n",
       "    }\n",
       "\n",
       "    .dataframe thead th {\n",
       "        text-align: right;\n",
       "    }\n",
       "</style>\n",
       "<table border=\"1\" class=\"dataframe\">\n",
       "  <thead>\n",
       "    <tr style=\"text-align: right;\">\n",
       "      <th></th>\n",
       "      <th>CreditScore</th>\n",
       "      <th>Age</th>\n",
       "      <th>Tenure</th>\n",
       "      <th>Balance</th>\n",
       "      <th>NumOfProducts</th>\n",
       "      <th>EstimatedSalary</th>\n",
       "    </tr>\n",
       "  </thead>\n",
       "  <tbody>\n",
       "    <tr>\n",
       "      <th>count</th>\n",
       "      <td>9091.000000</td>\n",
       "      <td>9091.000000</td>\n",
       "      <td>9091.000000</td>\n",
       "      <td>9091.000000</td>\n",
       "      <td>9091.000000</td>\n",
       "      <td>9091.000000</td>\n",
       "    </tr>\n",
       "    <tr>\n",
       "      <th>mean</th>\n",
       "      <td>650.736553</td>\n",
       "      <td>38.949181</td>\n",
       "      <td>4.997690</td>\n",
       "      <td>76522.740015</td>\n",
       "      <td>1.530195</td>\n",
       "      <td>100181.214924</td>\n",
       "    </tr>\n",
       "    <tr>\n",
       "      <th>std</th>\n",
       "      <td>96.410471</td>\n",
       "      <td>10.555581</td>\n",
       "      <td>2.894723</td>\n",
       "      <td>62329.528576</td>\n",
       "      <td>0.581003</td>\n",
       "      <td>57624.755647</td>\n",
       "    </tr>\n",
       "    <tr>\n",
       "      <th>min</th>\n",
       "      <td>350.000000</td>\n",
       "      <td>18.000000</td>\n",
       "      <td>0.000000</td>\n",
       "      <td>0.000000</td>\n",
       "      <td>1.000000</td>\n",
       "      <td>11.580000</td>\n",
       "    </tr>\n",
       "    <tr>\n",
       "      <th>25%</th>\n",
       "      <td>584.000000</td>\n",
       "      <td>32.000000</td>\n",
       "      <td>2.000000</td>\n",
       "      <td>0.000000</td>\n",
       "      <td>1.000000</td>\n",
       "      <td>51227.745000</td>\n",
       "    </tr>\n",
       "    <tr>\n",
       "      <th>50%</th>\n",
       "      <td>652.000000</td>\n",
       "      <td>37.000000</td>\n",
       "      <td>5.000000</td>\n",
       "      <td>97318.250000</td>\n",
       "      <td>1.000000</td>\n",
       "      <td>100240.200000</td>\n",
       "    </tr>\n",
       "    <tr>\n",
       "      <th>75%</th>\n",
       "      <td>717.000000</td>\n",
       "      <td>44.000000</td>\n",
       "      <td>7.000000</td>\n",
       "      <td>127561.890000</td>\n",
       "      <td>2.000000</td>\n",
       "      <td>149567.210000</td>\n",
       "    </tr>\n",
       "    <tr>\n",
       "      <th>max</th>\n",
       "      <td>850.000000</td>\n",
       "      <td>92.000000</td>\n",
       "      <td>10.000000</td>\n",
       "      <td>250898.090000</td>\n",
       "      <td>4.000000</td>\n",
       "      <td>199992.480000</td>\n",
       "    </tr>\n",
       "  </tbody>\n",
       "</table>\n",
       "</div>"
      ],
      "text/plain": [
       "       CreditScore          Age       Tenure        Balance  NumOfProducts  \\\n",
       "count  9091.000000  9091.000000  9091.000000    9091.000000    9091.000000   \n",
       "mean    650.736553    38.949181     4.997690   76522.740015       1.530195   \n",
       "std      96.410471    10.555581     2.894723   62329.528576       0.581003   \n",
       "min     350.000000    18.000000     0.000000       0.000000       1.000000   \n",
       "25%     584.000000    32.000000     2.000000       0.000000       1.000000   \n",
       "50%     652.000000    37.000000     5.000000   97318.250000       1.000000   \n",
       "75%     717.000000    44.000000     7.000000  127561.890000       2.000000   \n",
       "max     850.000000    92.000000    10.000000  250898.090000       4.000000   \n",
       "\n",
       "       EstimatedSalary  \n",
       "count      9091.000000  \n",
       "mean     100181.214924  \n",
       "std       57624.755647  \n",
       "min          11.580000  \n",
       "25%       51227.745000  \n",
       "50%      100240.200000  \n",
       "75%      149567.210000  \n",
       "max      199992.480000  "
      ]
     },
     "execution_count": 6,
     "metadata": {},
     "output_type": "execute_result"
    }
   ],
   "source": [
    "num_row = ['CreditScore', 'Age', 'Tenure', 'Balance', 'NumOfProducts', 'EstimatedSalary']\n",
    "data[num_row].describe()"
   ]
  },
  {
   "cell_type": "code",
   "execution_count": 7,
   "metadata": {
    "scrolled": false
   },
   "outputs": [
    {
     "data": {
      "image/png": "[encoded data removed]",
      "text/plain": [
       "<Figure size 1080x1080 with 6 Axes>"
      ]
     },
     "metadata": {
      "needs_background": "light"
     },
     "output_type": "display_data"
    }
   ],
   "source": [
    "data[num_row].hist(\n",
    "    bins=24,\n",
    "    figsize=(15, 15), \n",
    "    grid=True, \n",
    "    legend=True\n",
    ")\n",
    "plt.show()"
   ]
  },
  {
   "cell_type": "markdown",
   "metadata": {},
   "source": [
    "В `CreditScore`, `Age` и `Balance` имеем распределения, близкие к нормальному. При этом в `Balance` отдельно выделяется категория с нулевой суммой на счету."
   ]
  },
  {
   "cell_type": "markdown",
   "metadata": {},
   "source": [
    "Создадим спимок `cat_row`, в котором хранятся названия столбцов с категориальными признаками. Эти признаки потребуют кодирования."
   ]
  },
  {
   "cell_type": "code",
   "execution_count": 8,
   "metadata": {},
   "outputs": [],
   "source": [
    "cat_row = ['Geography', 'Gender']"
   ]
  },
  {
   "cell_type": "code",
   "execution_count": 9,
   "metadata": {
    "scrolled": true
   },
   "outputs": [
    {
     "data": {
      "text/plain": [
       "\"Geography: ['France' 'Spain' 'Germany']\""
      ]
     },
     "metadata": {},
     "output_type": "display_data"
    },
    {
     "data": {
      "text/plain": [
       "\"Gender: ['Female' 'Male']\""
      ]
     },
     "metadata": {},
     "output_type": "display_data"
    },
    {
     "data": {
      "image/png": "[encoded data removed]",
      "text/plain": [
       "<Figure size 720x216 with 1 Axes>"
      ]
     },
     "metadata": {
      "needs_background": "light"
     },
     "output_type": "display_data"
    }
   ],
   "source": [
    "for row in cat_row:\n",
    "    display(f'{row}: {data[row].unique()}')\n",
    "    data[row].hist(\n",
    "    bins=3,\n",
    "    figsize=(10, 3), \n",
    "    grid=True, \n",
    "    legend=True)\n",
    "\n",
    "plt.show()"
   ]
  },
  {
   "cell_type": "markdown",
   "metadata": {},
   "source": [
    "Создадим спимок `bool_row`, в котором хранятся названия столбцов с булевыми признаками. Посмотрим распределения."
   ]
  },
  {
   "cell_type": "code",
   "execution_count": 10,
   "metadata": {
    "scrolled": false
   },
   "outputs": [
    {
     "data": {
      "text/plain": [
       "'HasCrCard: [1 0]'"
      ]
     },
     "metadata": {},
     "output_type": "display_data"
    },
    {
     "data": {
      "image/png": "[encoded data removed]",
      "text/plain": [
       "<Figure size 720x216 with 1 Axes>"
      ]
     },
     "metadata": {
      "needs_background": "light"
     },
     "output_type": "display_data"
    },
    {
     "data": {
      "text/plain": [
       "'IsActiveMember: [1 0]'"
      ]
     },
     "metadata": {},
     "output_type": "display_data"
    },
    {
     "data": {
      "image/png": "[encoded data removed]",
      "text/plain": [
       "<Figure size 720x216 with 1 Axes>"
      ]
     },
     "metadata": {
      "needs_background": "light"
     },
     "output_type": "display_data"
    },
    {
     "data": {
      "text/plain": [
       "'Exited: [1 0]'"
      ]
     },
     "metadata": {},
     "output_type": "display_data"
    },
    {
     "data": {
      "image/png": "[encoded data removed]",
      "text/plain": [
       "<Figure size 720x216 with 1 Axes>"
      ]
     },
     "metadata": {
      "needs_background": "light"
     },
     "output_type": "display_data"
    }
   ],
   "source": [
    "bool_row = ['HasCrCard', 'IsActiveMember', 'Exited']\n",
    "\n",
    "for row in bool_row:\n",
    "    display(f'{row}: {data[row].unique()}')\n",
    "    data[row].hist(\n",
    "    bins=3,\n",
    "    figsize=(10, 3), \n",
    "    grid=True, \n",
    "    legend=True)\n",
    "    plt.show()"
   ]
  },
  {
   "cell_type": "code",
   "execution_count": 11,
   "metadata": {
    "scrolled": true
   },
   "outputs": [
    {
     "data": {
      "text/plain": [
       "0.2039379606203938"
      ]
     },
     "execution_count": 11,
     "metadata": {},
     "output_type": "execute_result"
    }
   ],
   "source": [
    "data['Exited'].mean()"
   ]
  },
  {
   "cell_type": "markdown",
   "metadata": {},
   "source": [
    "Среднее значение целевого признака - 0.2. Можно сделать вывод о дисбалансе классов."
   ]
  },
  {
   "cell_type": "markdown",
   "metadata": {},
   "source": [
    "### Вывод"
   ]
  },
  {
   "cell_type": "markdown",
   "metadata": {},
   "source": [
    "Проанализированы и подготовлены к дальнейшей работе данные из таблицы клиентов '/datasets/Churn.csv'.\n",
    "\n",
    "В таблице содержатся следующие признаки:\n",
    "- RowNumber — индекс строки в данных\n",
    "- CustomerId — уникальный идентификатор клиента\n",
    "- Surname — фамилия\n",
    "- CreditScore — кредитный рейтинг\n",
    "- Geography — страна проживания\n",
    "- Gender — пол\n",
    "- Age — возраст\n",
    "- Tenure — сколько лет человек является клиентом банка\n",
    "- Balance — баланс на счёте\n",
    "- NumOfProducts — количество продуктов банка, используемых клиентом\n",
    "- HasCrCard — наличие кредитной карты\n",
    "- IsActiveMember — активность клиента\n",
    "- EstimatedSalary — предполагаемая зарплата\n",
    "\n",
    "Целевой признак:\n",
    "- Exited — факт ухода клиента"
   ]
  },
  {
   "cell_type": "markdown",
   "metadata": {},
   "source": [
    "- В данных отсутствуют дубликаты строк. \n",
    "- Удалены строки с пропусками значений в столбце `Tenure`.\n",
    "- Значения в столбцах `CreditScore`, `Age` и `Balance` имеют распределения, близкие к нормальному. При этом в `Balance` отдельно выделяется категория с нулевой суммой на счету.\n",
    "- Среднее значение целевого признака - 0.2. То есть 20% клиентов покинули банк. Можно сделать вывод о дисбалансе классов."
   ]
  },
  {
   "cell_type": "markdown",
   "metadata": {},
   "source": [
    "## Исследование задачи"
   ]
  },
  {
   "cell_type": "markdown",
   "metadata": {},
   "source": [
    "Для анализа нам не понадобятся идентификационные данные клиентов. Они уникальны и не должны влиять на целевой признак. Удалим столбцы `RowNumber`, `CustomerId`, `Surname`."
   ]
  },
  {
   "cell_type": "code",
   "execution_count": 12,
   "metadata": {},
   "outputs": [],
   "source": [
    "data['NotZeroBalance'] = 1\n",
    "data.loc[data['Balance']==0, 'NotZeroBalance'] = data.loc[data['Balance']==0, 'Balance']\n",
    "data['NotZeroBalance'] = data['NotZeroBalance'].astype('int')"
   ]
  },
  {
   "cell_type": "code",
   "execution_count": 13,
   "metadata": {},
   "outputs": [],
   "source": [
    "data_set = data.drop(['RowNumber', 'CustomerId', 'Surname'], axis=1)"
   ]
  },
  {
   "cell_type": "markdown",
   "metadata": {},
   "source": [
    "Произведем прямое кодирование признаков с удалением первого столбца."
   ]
  },
  {
   "cell_type": "code",
   "execution_count": 14,
   "metadata": {},
   "outputs": [],
   "source": [
    "data_set_ohe = pd.get_dummies(data_set, drop_first=True)"
   ]
  },
  {
   "cell_type": "code",
   "execution_count": 15,
   "metadata": {},
   "outputs": [
    {
     "data": {
      "text/html": [
       "<div>\n",
       "<style scoped>\n",
       "    .dataframe tbody tr th:only-of-type {\n",
       "        vertical-align: middle;\n",
       "    }\n",
       "\n",
       "    .dataframe tbody tr th {\n",
       "        vertical-align: top;\n",
       "    }\n",
       "\n",
       "    .dataframe thead th {\n",
       "        text-align: right;\n",
       "    }\n",
       "</style>\n",
       "<table border=\"1\" class=\"dataframe\">\n",
       "  <thead>\n",
       "    <tr style=\"text-align: right;\">\n",
       "      <th></th>\n",
       "      <th>CreditScore</th>\n",
       "      <th>Age</th>\n",
       "      <th>Tenure</th>\n",
       "      <th>Balance</th>\n",
       "      <th>NumOfProducts</th>\n",
       "      <th>HasCrCard</th>\n",
       "      <th>IsActiveMember</th>\n",
       "      <th>EstimatedSalary</th>\n",
       "      <th>Exited</th>\n",
       "      <th>NotZeroBalance</th>\n",
       "      <th>Geography_Germany</th>\n",
       "      <th>Geography_Spain</th>\n",
       "      <th>Gender_Male</th>\n",
       "    </tr>\n",
       "  </thead>\n",
       "  <tbody>\n",
       "    <tr>\n",
       "      <th>2761</th>\n",
       "      <td>680</td>\n",
       "      <td>33</td>\n",
       "      <td>1</td>\n",
       "      <td>123082.08</td>\n",
       "      <td>1</td>\n",
       "      <td>1</td>\n",
       "      <td>0</td>\n",
       "      <td>134960.98</td>\n",
       "      <td>0</td>\n",
       "      <td>1</td>\n",
       "      <td>0</td>\n",
       "      <td>0</td>\n",
       "      <td>1</td>\n",
       "    </tr>\n",
       "    <tr>\n",
       "      <th>7989</th>\n",
       "      <td>797</td>\n",
       "      <td>45</td>\n",
       "      <td>8</td>\n",
       "      <td>0.00</td>\n",
       "      <td>1</td>\n",
       "      <td>0</td>\n",
       "      <td>0</td>\n",
       "      <td>125110.02</td>\n",
       "      <td>0</td>\n",
       "      <td>0</td>\n",
       "      <td>0</td>\n",
       "      <td>0</td>\n",
       "      <td>1</td>\n",
       "    </tr>\n",
       "    <tr>\n",
       "      <th>9070</th>\n",
       "      <td>683</td>\n",
       "      <td>32</td>\n",
       "      <td>9</td>\n",
       "      <td>0.00</td>\n",
       "      <td>2</td>\n",
       "      <td>1</td>\n",
       "      <td>1</td>\n",
       "      <td>24991.92</td>\n",
       "      <td>0</td>\n",
       "      <td>0</td>\n",
       "      <td>0</td>\n",
       "      <td>0</td>\n",
       "      <td>0</td>\n",
       "    </tr>\n",
       "  </tbody>\n",
       "</table>\n",
       "</div>"
      ],
      "text/plain": [
       "      CreditScore  Age  Tenure    Balance  NumOfProducts  HasCrCard  \\\n",
       "2761          680   33       1  123082.08              1          1   \n",
       "7989          797   45       8       0.00              1          0   \n",
       "9070          683   32       9       0.00              2          1   \n",
       "\n",
       "      IsActiveMember  EstimatedSalary  Exited  NotZeroBalance  \\\n",
       "2761               0        134960.98       0               1   \n",
       "7989               0        125110.02       0               0   \n",
       "9070               1         24991.92       0               0   \n",
       "\n",
       "      Geography_Germany  Geography_Spain  Gender_Male  \n",
       "2761                  0                0            1  \n",
       "7989                  0                0            1  \n",
       "9070                  0                0            0  "
      ]
     },
     "execution_count": 15,
     "metadata": {},
     "output_type": "execute_result"
    }
   ],
   "source": [
    "data_set_ohe.sample(3)"
   ]
  },
  {
   "cell_type": "markdown",
   "metadata": {},
   "source": [
    "Произведем стандартизацию."
   ]
  },
  {
   "cell_type": "code",
   "execution_count": 16,
   "metadata": {},
   "outputs": [],
   "source": [
    "#scaler = StandardScaler()\n",
    "#scaler.fit(data_set_ohe[num_row])\n",
    "#data_set_ohe_scaler = data_set_ohe\n",
    "#data_set_ohe_scaler[num_row] = scaler.transform(data_set_ohe_scaler[num_row])"
   ]
  },
  {
   "cell_type": "code",
   "execution_count": 17,
   "metadata": {},
   "outputs": [],
   "source": [
    "target = data_set_ohe['Exited']\n",
    "features = data_set_ohe.drop(['Exited'] , axis=1)"
   ]
  },
  {
   "cell_type": "markdown",
   "metadata": {},
   "source": [
    "Разделим данные на обучающую, валидационную и тестовую выборки."
   ]
  },
  {
   "cell_type": "code",
   "execution_count": 18,
   "metadata": {},
   "outputs": [],
   "source": [
    "features_train, features_valid, target_train, target_valid = train_test_split(\n",
    "    features, \n",
    "    target, \n",
    "    test_size=0.4, \n",
    "    random_state=seed#,\n",
    "    #stratify=features['NotZeroBalance']\n",
    ") "
   ]
  },
  {
   "cell_type": "code",
   "execution_count": 19,
   "metadata": {},
   "outputs": [],
   "source": [
    "features_valid, features_test, target_valid, target_test = train_test_split(\n",
    "    features_valid, \n",
    "    target_valid, \n",
    "    test_size=0.5, \n",
    "    random_state=seed#,\n",
    "    #stratify=features_valid['NotZeroBalance']\n",
    ") "
   ]
  },
  {
   "cell_type": "code",
   "execution_count": 20,
   "metadata": {},
   "outputs": [],
   "source": [
    "#features_valid = features_valid.drop('NotZeroBalance', axis=1)\n",
    "#features_test = features_test.drop('NotZeroBalance', axis=1)\n",
    "#features_train = features_train.drop('NotZeroBalance', axis=1)"
   ]
  },
  {
   "cell_type": "code",
   "execution_count": 21,
   "metadata": {},
   "outputs": [
    {
     "data": {
      "text/plain": [
       "'Размер обучающей выборки: 5454'"
      ]
     },
     "metadata": {},
     "output_type": "display_data"
    },
    {
     "data": {
      "text/plain": [
       "'Размер валидационной выборки: 1818'"
      ]
     },
     "metadata": {},
     "output_type": "display_data"
    },
    {
     "data": {
      "text/plain": [
       "'Размер тестовой выборки: 1819'"
      ]
     },
     "metadata": {},
     "output_type": "display_data"
    }
   ],
   "source": [
    "display(f'Размер обучающей выборки: {features_train.shape[0]}')\n",
    "display(f'Размер валидационной выборки: {features_valid.shape[0]}')\n",
    "display(f'Размер тестовой выборки: {features_test.shape[0]}')"
   ]
  },
  {
   "cell_type": "code",
   "execution_count": 22,
   "metadata": {
    "scrolled": true
   },
   "outputs": [
    {
     "data": {
      "text/html": [
       "<div>\n",
       "<style scoped>\n",
       "    .dataframe tbody tr th:only-of-type {\n",
       "        vertical-align: middle;\n",
       "    }\n",
       "\n",
       "    .dataframe tbody tr th {\n",
       "        vertical-align: top;\n",
       "    }\n",
       "\n",
       "    .dataframe thead th {\n",
       "        text-align: right;\n",
       "    }\n",
       "</style>\n",
       "<table border=\"1\" class=\"dataframe\">\n",
       "  <thead>\n",
       "    <tr style=\"text-align: right;\">\n",
       "      <th></th>\n",
       "      <th>CreditScore</th>\n",
       "      <th>Age</th>\n",
       "      <th>Tenure</th>\n",
       "      <th>Balance</th>\n",
       "      <th>NumOfProducts</th>\n",
       "      <th>HasCrCard</th>\n",
       "      <th>IsActiveMember</th>\n",
       "      <th>EstimatedSalary</th>\n",
       "      <th>NotZeroBalance</th>\n",
       "      <th>Geography_Germany</th>\n",
       "      <th>Geography_Spain</th>\n",
       "      <th>Gender_Male</th>\n",
       "    </tr>\n",
       "  </thead>\n",
       "  <tbody>\n",
       "    <tr>\n",
       "      <th>6419</th>\n",
       "      <td>679</td>\n",
       "      <td>40</td>\n",
       "      <td>1</td>\n",
       "      <td>0.00</td>\n",
       "      <td>1</td>\n",
       "      <td>1</td>\n",
       "      <td>1</td>\n",
       "      <td>16897.19</td>\n",
       "      <td>0</td>\n",
       "      <td>0</td>\n",
       "      <td>0</td>\n",
       "      <td>1</td>\n",
       "    </tr>\n",
       "    <tr>\n",
       "      <th>8454</th>\n",
       "      <td>722</td>\n",
       "      <td>37</td>\n",
       "      <td>0</td>\n",
       "      <td>125977.81</td>\n",
       "      <td>1</td>\n",
       "      <td>0</td>\n",
       "      <td>0</td>\n",
       "      <td>160162.42</td>\n",
       "      <td>1</td>\n",
       "      <td>1</td>\n",
       "      <td>0</td>\n",
       "      <td>0</td>\n",
       "    </tr>\n",
       "    <tr>\n",
       "      <th>3235</th>\n",
       "      <td>670</td>\n",
       "      <td>68</td>\n",
       "      <td>4</td>\n",
       "      <td>0.00</td>\n",
       "      <td>2</td>\n",
       "      <td>1</td>\n",
       "      <td>1</td>\n",
       "      <td>11426.70</td>\n",
       "      <td>0</td>\n",
       "      <td>0</td>\n",
       "      <td>0</td>\n",
       "      <td>1</td>\n",
       "    </tr>\n",
       "  </tbody>\n",
       "</table>\n",
       "</div>"
      ],
      "text/plain": [
       "      CreditScore  Age  Tenure    Balance  NumOfProducts  HasCrCard  \\\n",
       "6419          679   40       1       0.00              1          1   \n",
       "8454          722   37       0  125977.81              1          0   \n",
       "3235          670   68       4       0.00              2          1   \n",
       "\n",
       "      IsActiveMember  EstimatedSalary  NotZeroBalance  Geography_Germany  \\\n",
       "6419               1         16897.19               0                  0   \n",
       "8454               0        160162.42               1                  1   \n",
       "3235               1         11426.70               0                  0   \n",
       "\n",
       "      Geography_Spain  Gender_Male  \n",
       "6419                0            1  \n",
       "8454                0            0  \n",
       "3235                0            1  "
      ]
     },
     "execution_count": 22,
     "metadata": {},
     "output_type": "execute_result"
    }
   ],
   "source": [
    "features_train.head(3)"
   ]
  },
  {
   "cell_type": "markdown",
   "metadata": {},
   "source": [
    "<div class=\"alert alert-info\"> <b>Комментарий студента:</b>\n",
    "<br> Ниже провожу масштабирование, уже на основе обучающей выборки.</div>"
   ]
  },
  {
   "cell_type": "code",
   "execution_count": 23,
   "metadata": {
    "scrolled": true
   },
   "outputs": [],
   "source": [
    "# чтобы не было предупреждения\n",
    "pd.options.mode.chained_assignment = None\n",
    "\n",
    "scaler = StandardScaler()\n",
    "scaler.fit(features_train[num_row])\n",
    "features_train[num_row] = scaler.transform(features_train[num_row])"
   ]
  },
  {
   "cell_type": "code",
   "execution_count": 24,
   "metadata": {},
   "outputs": [
    {
     "data": {
      "text/html": [
       "<div>\n",
       "<style scoped>\n",
       "    .dataframe tbody tr th:only-of-type {\n",
       "        vertical-align: middle;\n",
       "    }\n",
       "\n",
       "    .dataframe tbody tr th {\n",
       "        vertical-align: top;\n",
       "    }\n",
       "\n",
       "    .dataframe thead th {\n",
       "        text-align: right;\n",
       "    }\n",
       "</style>\n",
       "<table border=\"1\" class=\"dataframe\">\n",
       "  <thead>\n",
       "    <tr style=\"text-align: right;\">\n",
       "      <th></th>\n",
       "      <th>CreditScore</th>\n",
       "      <th>Age</th>\n",
       "      <th>Tenure</th>\n",
       "      <th>Balance</th>\n",
       "      <th>NumOfProducts</th>\n",
       "      <th>HasCrCard</th>\n",
       "      <th>IsActiveMember</th>\n",
       "      <th>EstimatedSalary</th>\n",
       "      <th>NotZeroBalance</th>\n",
       "      <th>Geography_Germany</th>\n",
       "      <th>Geography_Spain</th>\n",
       "      <th>Gender_Male</th>\n",
       "    </tr>\n",
       "  </thead>\n",
       "  <tbody>\n",
       "    <tr>\n",
       "      <th>8689</th>\n",
       "      <td>724</td>\n",
       "      <td>29</td>\n",
       "      <td>4</td>\n",
       "      <td>0.0</td>\n",
       "      <td>1</td>\n",
       "      <td>1</td>\n",
       "      <td>0</td>\n",
       "      <td>8982.75</td>\n",
       "      <td>0</td>\n",
       "      <td>0</td>\n",
       "      <td>0</td>\n",
       "      <td>1</td>\n",
       "    </tr>\n",
       "    <tr>\n",
       "      <th>8466</th>\n",
       "      <td>635</td>\n",
       "      <td>41</td>\n",
       "      <td>10</td>\n",
       "      <td>0.0</td>\n",
       "      <td>2</td>\n",
       "      <td>1</td>\n",
       "      <td>1</td>\n",
       "      <td>61994.20</td>\n",
       "      <td>0</td>\n",
       "      <td>0</td>\n",
       "      <td>1</td>\n",
       "      <td>0</td>\n",
       "    </tr>\n",
       "    <tr>\n",
       "      <th>1554</th>\n",
       "      <td>630</td>\n",
       "      <td>42</td>\n",
       "      <td>6</td>\n",
       "      <td>0.0</td>\n",
       "      <td>2</td>\n",
       "      <td>1</td>\n",
       "      <td>0</td>\n",
       "      <td>162697.93</td>\n",
       "      <td>0</td>\n",
       "      <td>0</td>\n",
       "      <td>0</td>\n",
       "      <td>1</td>\n",
       "    </tr>\n",
       "  </tbody>\n",
       "</table>\n",
       "</div>"
      ],
      "text/plain": [
       "      CreditScore  Age  Tenure  Balance  NumOfProducts  HasCrCard  \\\n",
       "8689          724   29       4      0.0              1          1   \n",
       "8466          635   41      10      0.0              2          1   \n",
       "1554          630   42       6      0.0              2          1   \n",
       "\n",
       "      IsActiveMember  EstimatedSalary  NotZeroBalance  Geography_Germany  \\\n",
       "8689               0          8982.75               0                  0   \n",
       "8466               1         61994.20               0                  0   \n",
       "1554               0        162697.93               0                  0   \n",
       "\n",
       "      Geography_Spain  Gender_Male  \n",
       "8689                0            1  \n",
       "8466                1            0  \n",
       "1554                0            1  "
      ]
     },
     "execution_count": 24,
     "metadata": {},
     "output_type": "execute_result"
    }
   ],
   "source": [
    "features_valid.head(3)"
   ]
  },
  {
   "cell_type": "code",
   "execution_count": 25,
   "metadata": {},
   "outputs": [],
   "source": [
    "features_valid[num_row] = scaler.transform(features_valid[num_row])\n",
    "features_test[num_row] = scaler.transform(features_test[num_row])"
   ]
  },
  {
   "cell_type": "code",
   "execution_count": 26,
   "metadata": {},
   "outputs": [
    {
     "data": {
      "text/html": [
       "<div>\n",
       "<style scoped>\n",
       "    .dataframe tbody tr th:only-of-type {\n",
       "        vertical-align: middle;\n",
       "    }\n",
       "\n",
       "    .dataframe tbody tr th {\n",
       "        vertical-align: top;\n",
       "    }\n",
       "\n",
       "    .dataframe thead th {\n",
       "        text-align: right;\n",
       "    }\n",
       "</style>\n",
       "<table border=\"1\" class=\"dataframe\">\n",
       "  <thead>\n",
       "    <tr style=\"text-align: right;\">\n",
       "      <th></th>\n",
       "      <th>CreditScore</th>\n",
       "      <th>Age</th>\n",
       "      <th>Tenure</th>\n",
       "      <th>Balance</th>\n",
       "      <th>NumOfProducts</th>\n",
       "      <th>HasCrCard</th>\n",
       "      <th>IsActiveMember</th>\n",
       "      <th>EstimatedSalary</th>\n",
       "      <th>NotZeroBalance</th>\n",
       "      <th>Geography_Germany</th>\n",
       "      <th>Geography_Spain</th>\n",
       "      <th>Gender_Male</th>\n",
       "    </tr>\n",
       "  </thead>\n",
       "  <tbody>\n",
       "    <tr>\n",
       "      <th>8689</th>\n",
       "      <td>0.779845</td>\n",
       "      <td>-0.945619</td>\n",
       "      <td>-0.366150</td>\n",
       "      <td>-1.224819</td>\n",
       "      <td>-0.911479</td>\n",
       "      <td>1</td>\n",
       "      <td>0</td>\n",
       "      <td>-1.585121</td>\n",
       "      <td>0</td>\n",
       "      <td>0</td>\n",
       "      <td>0</td>\n",
       "      <td>1</td>\n",
       "    </tr>\n",
       "    <tr>\n",
       "      <th>8466</th>\n",
       "      <td>-0.143546</td>\n",
       "      <td>0.195989</td>\n",
       "      <td>1.702189</td>\n",
       "      <td>-1.224819</td>\n",
       "      <td>0.804506</td>\n",
       "      <td>1</td>\n",
       "      <td>1</td>\n",
       "      <td>-0.662100</td>\n",
       "      <td>0</td>\n",
       "      <td>0</td>\n",
       "      <td>1</td>\n",
       "      <td>0</td>\n",
       "    </tr>\n",
       "    <tr>\n",
       "      <th>1554</th>\n",
       "      <td>-0.195422</td>\n",
       "      <td>0.291123</td>\n",
       "      <td>0.323296</td>\n",
       "      <td>-1.224819</td>\n",
       "      <td>0.804506</td>\n",
       "      <td>1</td>\n",
       "      <td>0</td>\n",
       "      <td>1.091328</td>\n",
       "      <td>0</td>\n",
       "      <td>0</td>\n",
       "      <td>0</td>\n",
       "      <td>1</td>\n",
       "    </tr>\n",
       "  </tbody>\n",
       "</table>\n",
       "</div>"
      ],
      "text/plain": [
       "      CreditScore       Age    Tenure   Balance  NumOfProducts  HasCrCard  \\\n",
       "8689     0.779845 -0.945619 -0.366150 -1.224819      -0.911479          1   \n",
       "8466    -0.143546  0.195989  1.702189 -1.224819       0.804506          1   \n",
       "1554    -0.195422  0.291123  0.323296 -1.224819       0.804506          1   \n",
       "\n",
       "      IsActiveMember  EstimatedSalary  NotZeroBalance  Geography_Germany  \\\n",
       "8689               0        -1.585121               0                  0   \n",
       "8466               1        -0.662100               0                  0   \n",
       "1554               0         1.091328               0                  0   \n",
       "\n",
       "      Geography_Spain  Gender_Male  \n",
       "8689                0            1  \n",
       "8466                1            0  \n",
       "1554                0            1  "
      ]
     },
     "execution_count": 26,
     "metadata": {},
     "output_type": "execute_result"
    }
   ],
   "source": [
    "features_valid.head(3)"
   ]
  },
  {
   "cell_type": "code",
   "execution_count": 27,
   "metadata": {},
   "outputs": [
    {
     "data": {
      "text/plain": [
       "0    1437\n",
       "1     381\n",
       "Name: Exited, dtype: int64"
      ]
     },
     "execution_count": 27,
     "metadata": {},
     "output_type": "execute_result"
    }
   ],
   "source": [
    "target_valid.value_counts()"
   ]
  },
  {
   "cell_type": "code",
   "execution_count": 28,
   "metadata": {},
   "outputs": [
    {
     "data": {
      "text/plain": [
       "0    1457\n",
       "1     362\n",
       "Name: Exited, dtype: int64"
      ]
     },
     "execution_count": 28,
     "metadata": {},
     "output_type": "execute_result"
    }
   ],
   "source": [
    "target_test.value_counts()"
   ]
  },
  {
   "cell_type": "code",
   "execution_count": 29,
   "metadata": {},
   "outputs": [
    {
     "data": {
      "text/plain": [
       "0    4343\n",
       "1    1111\n",
       "Name: Exited, dtype: int64"
      ]
     },
     "execution_count": 29,
     "metadata": {},
     "output_type": "execute_result"
    }
   ],
   "source": [
    "target_train.value_counts()"
   ]
  },
  {
   "cell_type": "markdown",
   "metadata": {},
   "source": [
    "Функция для отрисовки ROC-curve."
   ]
  },
  {
   "cell_type": "code",
   "execution_count": 30,
   "metadata": {},
   "outputs": [],
   "source": [
    "def plot_roc(mod, feat, targ): # на вход передается модель и признаки\n",
    "    probabilities_valid = mod.predict_proba(feat)\n",
    "    probabilities_one_valid = probabilities_valid[:, 1]\n",
    "    \n",
    "    fpr, tpr, thresholds = roc_curve(targ, probabilities_one_valid) \n",
    "    plt.figure()\n",
    "    plt.plot(fpr, tpr)\n",
    "    plt.plot([0, 1], [0, 1], linestyle='--')\n",
    "    plt.ylim([0.0, 1.0])\n",
    "    plt.xlim([0.0, 1.0])\n",
    "    plt.xlabel('False Positive Rate')\n",
    "    plt.ylabel('True Positive Rate')\n",
    "    plt.title('ROC-кривая')\n",
    "    plt.show()\n",
    "    \n",
    "    ras = roc_auc_score(targ, probabilities_one_valid)\n",
    "    display(f'Значение метрики AUC-ROC: {ras}')\n",
    "    predictions = mod.predict(feat)\n",
    "    display(f'Accuracy: {accuracy_score(targ, predictions)}')\n",
    "    display(f'F1: {f1_score(targ, predictions)}')\n",
    "    display(f'Precision: {precision_score(targ, predictions)}')\n",
    "    display(f'Recall: {recall_score(targ, predictions)}')"
   ]
  },
  {
   "cell_type": "markdown",
   "metadata": {},
   "source": [
    "### Логистическая регрессия "
   ]
  },
  {
   "cell_type": "markdown",
   "metadata": {},
   "source": [
    "Оценим на быстрой модели логистической регрессии с небольшим набором гиперпараметров значения метрики F1. "
   ]
  },
  {
   "cell_type": "code",
   "execution_count": 31,
   "metadata": {},
   "outputs": [],
   "source": [
    "solver = ['lbfgs', 'liblinear', 'newton-cg', 'sag']\n",
    "class_weight = ['balanced', None]"
   ]
  },
  {
   "cell_type": "code",
   "execution_count": 32,
   "metadata": {
    "scrolled": true
   },
   "outputs": [
    {
     "data": {
      "text/plain": [
       "'0.5042333019755408: solver = lbfgs, class_weight = balanced, max_iter = 10000'"
      ]
     },
     "metadata": {},
     "output_type": "display_data"
    },
    {
     "data": {
      "text/plain": [
       "'0.5042333019755408: solver = liblinear, class_weight = balanced, max_iter = 10000'"
      ]
     },
     "metadata": {},
     "output_type": "display_data"
    },
    {
     "data": {
      "text/plain": [
       "'0.5042333019755408: solver = newton-cg, class_weight = balanced, max_iter = 10000'"
      ]
     },
     "metadata": {},
     "output_type": "display_data"
    },
    {
     "data": {
      "text/plain": [
       "'0.5042333019755408: solver = sag, class_weight = balanced, max_iter = 10000'"
      ]
     },
     "metadata": {},
     "output_type": "display_data"
    },
    {
     "data": {
      "text/plain": [
       "'0.2988505747126437: solver = lbfgs, class_weight = None, max_iter = 10000'"
      ]
     },
     "metadata": {},
     "output_type": "display_data"
    },
    {
     "data": {
      "text/plain": [
       "'0.2988505747126437: solver = liblinear, class_weight = None, max_iter = 10000'"
      ]
     },
     "metadata": {},
     "output_type": "display_data"
    },
    {
     "data": {
      "text/plain": [
       "'0.2988505747126437: solver = newton-cg, class_weight = None, max_iter = 10000'"
      ]
     },
     "metadata": {},
     "output_type": "display_data"
    },
    {
     "data": {
      "text/plain": [
       "'0.2988505747126437: solver = sag, class_weight = None, max_iter = 10000'"
      ]
     },
     "metadata": {},
     "output_type": "display_data"
    }
   ],
   "source": [
    "for cw in class_weight:\n",
    "    for sol in solver:\n",
    "        model_lr = LogisticRegression(random_state=seed, solver=sol, class_weight=cw, max_iter=10000)\n",
    "        model_lr.fit(features_train, target_train)\n",
    "        predictions = model_lr.predict(features_valid)\n",
    "        result = f1_score(target_valid, predictions)\n",
    "        display(f'{result}: solver = {sol}, class_weight = {cw}, max_iter = 10000')"
   ]
  },
  {
   "cell_type": "markdown",
   "metadata": {},
   "source": [
    "На графике ROC-кривой пример неудачной модели, полученной без учета дисбаланса классов. Так выглядит неуспех."
   ]
  },
  {
   "cell_type": "code",
   "execution_count": 33,
   "metadata": {
    "scrolled": false
   },
   "outputs": [
    {
     "data": {
      "image/png": "[encoded data removed]",
      "text/plain": [
       "<Figure size 432x288 with 1 Axes>"
      ]
     },
     "metadata": {
      "needs_background": "light"
     },
     "output_type": "display_data"
    },
    {
     "data": {
      "text/plain": [
       "'Значение метрики AUC-ROC: 0.7760407819586226'"
      ]
     },
     "metadata": {},
     "output_type": "display_data"
    },
    {
     "data": {
      "text/plain": [
       "'Accuracy: 0.7986798679867987'"
      ]
     },
     "metadata": {},
     "output_type": "display_data"
    },
    {
     "data": {
      "text/plain": [
       "'F1: 0.2988505747126437'"
      ]
     },
     "metadata": {},
     "output_type": "display_data"
    },
    {
     "data": {
      "text/plain": [
       "'Precision: 0.5531914893617021'"
      ]
     },
     "metadata": {},
     "output_type": "display_data"
    },
    {
     "data": {
      "text/plain": [
       "'Recall: 0.2047244094488189'"
      ]
     },
     "metadata": {},
     "output_type": "display_data"
    }
   ],
   "source": [
    "plot_roc(model_lr, features_valid, target_valid)"
   ]
  },
  {
   "cell_type": "markdown",
   "metadata": {},
   "source": [
    "### Дерево решений"
   ]
  },
  {
   "cell_type": "markdown",
   "metadata": {},
   "source": [
    "Исследуем следующие гиперпараметры для модели:"
   ]
  },
  {
   "cell_type": "code",
   "execution_count": 34,
   "metadata": {},
   "outputs": [],
   "source": [
    "criterion = ['gini', 'entropy']\n",
    "min_samples_split = [2, 4, 10]\n",
    "class_weight = [None]"
   ]
  },
  {
   "cell_type": "code",
   "execution_count": 35,
   "metadata": {
    "scrolled": true
   },
   "outputs": [
    {
     "name": "stdout",
     "output_type": "stream",
     "text": [
      "CPU times: user 9.07 s, sys: 0 ns, total: 9.07 s\n",
      "Wall time: 9.08 s\n"
     ]
    }
   ],
   "source": [
    "%%time\n",
    "\n",
    "best_model_dtc = None\n",
    "best_result_dtc = 0\n",
    "best_params = ''\n",
    "\n",
    "for depth in range(1, 60):\n",
    "    for cri in criterion:\n",
    "        for mss in min_samples_split:\n",
    "            for cw in class_weight:\n",
    "                model_dtc = DecisionTreeClassifier(\n",
    "                    random_state=seed, criterion=cri, max_depth=depth, class_weight=cw, min_samples_split=mss\n",
    "                )\n",
    "                model_dtc.fit(features_train, target_train)\n",
    "                predictions = model_dtc.predict(features_valid)\n",
    "                result = f1_score(target_valid, predictions)\n",
    "                if result > best_result_dtc:\n",
    "                    best_model_dtc = model_dtc \n",
    "                    best_result_dtc = result \n",
    "                    best_params = f'max_depth = {depth}, criterion = {cri}, class_weight = {cw}, min_samples_split = {mss}'        "
   ]
  },
  {
   "cell_type": "code",
   "execution_count": 36,
   "metadata": {},
   "outputs": [
    {
     "data": {
      "text/plain": [
       "'max_depth = 8, criterion = entropy, class_weight = None, min_samples_split = 10'"
      ]
     },
     "execution_count": 36,
     "metadata": {},
     "output_type": "execute_result"
    }
   ],
   "source": [
    "best_params"
   ]
  },
  {
   "cell_type": "code",
   "execution_count": 37,
   "metadata": {
    "scrolled": false
   },
   "outputs": [
    {
     "data": {
      "image/png": "[encoded data removed]",
      "text/plain": [
       "<Figure size 432x288 with 1 Axes>"
      ]
     },
     "metadata": {
      "needs_background": "light"
     },
     "output_type": "display_data"
    },
    {
     "data": {
      "text/plain": [
       "'Значение метрики AUC-ROC: 0.7963057331820996'"
      ]
     },
     "metadata": {},
     "output_type": "display_data"
    },
    {
     "data": {
      "text/plain": [
       "'Accuracy: 0.8377337733773378'"
      ]
     },
     "metadata": {},
     "output_type": "display_data"
    },
    {
     "data": {
      "text/plain": [
       "'F1: 0.5354330708661419'"
      ]
     },
     "metadata": {},
     "output_type": "display_data"
    },
    {
     "data": {
      "text/plain": [
       "'Precision: 0.6692913385826772'"
      ]
     },
     "metadata": {},
     "output_type": "display_data"
    },
    {
     "data": {
      "text/plain": [
       "'Recall: 0.4461942257217848'"
      ]
     },
     "metadata": {},
     "output_type": "display_data"
    }
   ],
   "source": [
    "plot_roc(best_model_dtc, features_valid, target_valid)"
   ]
  },
  {
   "cell_type": "markdown",
   "metadata": {},
   "source": [
    "Мы получили близкое к целевому значение F1-меры."
   ]
  },
  {
   "cell_type": "markdown",
   "metadata": {},
   "source": [
    "### Случайный лес"
   ]
  },
  {
   "cell_type": "markdown",
   "metadata": {},
   "source": [
    "Для исследования случайного леса напишем вручную функцию для тестирования. \n",
    "На вход подаются обучающая и валидационная выборка, наборы гиперпараметров.\n",
    "Функция возвращает датафрейм с результатами и обученную модель с наилучшим результатом F1."
   ]
  },
  {
   "cell_type": "code",
   "execution_count": 38,
   "metadata": {},
   "outputs": [],
   "source": [
    "def rfc_tester(\n",
    "    features_train, \n",
    "    target_train,\n",
    "    features_valid,\n",
    "    target_valid,\n",
    "    max_features, \n",
    "    max_leaf_nodes, \n",
    "    min_samples_leaf, \n",
    "    min_samples_split, \n",
    "    class_weight,\n",
    "    n_estimators=(1,2,1)):\n",
    "    \n",
    "    # здесь будут храниться параметры и полученная метрика f1\n",
    "    df_rfc = pd.DataFrame(\n",
    "        {\n",
    "            'max_features': [],\n",
    "            'max_leaf_nodes': [],\n",
    "            'min_samples_leaf': [],\n",
    "            'min_samples_split': [],\n",
    "            'n_estimators': [],\n",
    "            'class_weight': [],\n",
    "            'result': []\n",
    "        }\n",
    "    )\n",
    "    \n",
    "    best_model_rfc = None\n",
    "    best_result_rfc = 0\n",
    "    (i, j, k) = n_estimators\n",
    "    \n",
    "    for est in range(i, j, k):\n",
    "        for mf in max_features:\n",
    "            for mln in max_leaf_nodes:\n",
    "                for misl in min_samples_leaf:\n",
    "                    for miss in min_samples_split:\n",
    "                        for cw in class_weight:\n",
    "                            model_rfc = RandomForestClassifier(\n",
    "                                random_state=seed,\n",
    "                                max_features=mf,\n",
    "                                max_leaf_nodes=mln,\n",
    "                                min_samples_leaf=misl,\n",
    "                                min_samples_split=miss,\n",
    "                                n_estimators=est, \n",
    "                                criterion ='gini', \n",
    "                                class_weight=cw\n",
    "                            ) \n",
    "                            model_rfc.fit(features_train, target_train)\n",
    "                            predictions = model_rfc.predict(features_valid)\n",
    "                            result = f1_score(target_valid, predictions)\n",
    "                            df_rfc.loc[len(df_rfc.index)] = [mf, mln, misl, miss, est, cw, result]\n",
    "                            if result > best_result_rfc:\n",
    "                                best_model_rfc = model_rfc\n",
    "                                best_result_rfc = result\n",
    "    \n",
    "    return best_model_rfc, df_rfc"
   ]
  },
  {
   "cell_type": "code",
   "execution_count": 39,
   "metadata": {},
   "outputs": [],
   "source": [
    "# набор гиперпараметров для пробы\n",
    "max_features = ['sqrt', 'log2', None]\n",
    "max_leaf_nodes = [2, 10, 12]\n",
    "min_samples_leaf = [2, 10, 16]\n",
    "min_samples_split = [2, 10, 16]\n",
    "class_weight = [None]\n",
    "n_estimators = (5, 50, 5) # начальное, конечное, шаг\n",
    "# время выполнения на сервере Яндекса с такими параметрами - около 1,5 мин"
   ]
  },
  {
   "cell_type": "code",
   "execution_count": 40,
   "metadata": {},
   "outputs": [
    {
     "name": "stdout",
     "output_type": "stream",
     "text": [
      "CPU times: user 1min 16s, sys: 261 ms, total: 1min 16s\n",
      "Wall time: 1min 16s\n"
     ]
    }
   ],
   "source": [
    "%%time\n",
    "(best_model_rfc, df_rfc) = rfc_tester(\n",
    "    features_train, \n",
    "    target_train,\n",
    "    features_valid,\n",
    "    target_valid,\n",
    "    max_features, \n",
    "    max_leaf_nodes, \n",
    "    min_samples_leaf, \n",
    "    min_samples_split, \n",
    "    class_weight, \n",
    "    n_estimators\n",
    ")"
   ]
  },
  {
   "cell_type": "code",
   "execution_count": 41,
   "metadata": {
    "scrolled": false
   },
   "outputs": [
    {
     "data": {
      "text/html": [
       "<div>\n",
       "<style scoped>\n",
       "    .dataframe tbody tr th:only-of-type {\n",
       "        vertical-align: middle;\n",
       "    }\n",
       "\n",
       "    .dataframe tbody tr th {\n",
       "        vertical-align: top;\n",
       "    }\n",
       "\n",
       "    .dataframe thead th {\n",
       "        text-align: right;\n",
       "    }\n",
       "</style>\n",
       "<table border=\"1\" class=\"dataframe\">\n",
       "  <thead>\n",
       "    <tr style=\"text-align: right;\">\n",
       "      <th></th>\n",
       "      <th>max_features</th>\n",
       "      <th>max_leaf_nodes</th>\n",
       "      <th>min_samples_leaf</th>\n",
       "      <th>min_samples_split</th>\n",
       "      <th>n_estimators</th>\n",
       "      <th>class_weight</th>\n",
       "      <th>result</th>\n",
       "    </tr>\n",
       "  </thead>\n",
       "  <tbody>\n",
       "    <tr>\n",
       "      <th>477</th>\n",
       "      <td>NaN</td>\n",
       "      <td>12.0</td>\n",
       "      <td>2.0</td>\n",
       "      <td>2.0</td>\n",
       "      <td>30.0</td>\n",
       "      <td>NaN</td>\n",
       "      <td>0.484956</td>\n",
       "    </tr>\n",
       "    <tr>\n",
       "      <th>644</th>\n",
       "      <td>NaN</td>\n",
       "      <td>12.0</td>\n",
       "      <td>10.0</td>\n",
       "      <td>16.0</td>\n",
       "      <td>40.0</td>\n",
       "      <td>NaN</td>\n",
       "      <td>0.484956</td>\n",
       "    </tr>\n",
       "    <tr>\n",
       "      <th>643</th>\n",
       "      <td>NaN</td>\n",
       "      <td>12.0</td>\n",
       "      <td>10.0</td>\n",
       "      <td>10.0</td>\n",
       "      <td>40.0</td>\n",
       "      <td>NaN</td>\n",
       "      <td>0.484956</td>\n",
       "    </tr>\n",
       "    <tr>\n",
       "      <th>75</th>\n",
       "      <td>NaN</td>\n",
       "      <td>12.0</td>\n",
       "      <td>10.0</td>\n",
       "      <td>2.0</td>\n",
       "      <td>5.0</td>\n",
       "      <td>NaN</td>\n",
       "      <td>0.484956</td>\n",
       "    </tr>\n",
       "    <tr>\n",
       "      <th>72</th>\n",
       "      <td>NaN</td>\n",
       "      <td>12.0</td>\n",
       "      <td>2.0</td>\n",
       "      <td>2.0</td>\n",
       "      <td>5.0</td>\n",
       "      <td>NaN</td>\n",
       "      <td>0.484956</td>\n",
       "    </tr>\n",
       "  </tbody>\n",
       "</table>\n",
       "</div>"
      ],
      "text/plain": [
       "    max_features  max_leaf_nodes  min_samples_leaf  min_samples_split  \\\n",
       "477          NaN            12.0               2.0                2.0   \n",
       "644          NaN            12.0              10.0               16.0   \n",
       "643          NaN            12.0              10.0               10.0   \n",
       "75           NaN            12.0              10.0                2.0   \n",
       "72           NaN            12.0               2.0                2.0   \n",
       "\n",
       "     n_estimators class_weight    result  \n",
       "477          30.0          NaN  0.484956  \n",
       "644          40.0          NaN  0.484956  \n",
       "643          40.0          NaN  0.484956  \n",
       "75            5.0          NaN  0.484956  \n",
       "72            5.0          NaN  0.484956  "
      ]
     },
     "execution_count": 41,
     "metadata": {},
     "output_type": "execute_result"
    }
   ],
   "source": [
    "df_rfc.sort_values(by='result').tail(5)"
   ]
  },
  {
   "cell_type": "code",
   "execution_count": 42,
   "metadata": {
    "scrolled": false
   },
   "outputs": [
    {
     "data": {
      "image/png": "[encoded data removed]",
      "text/plain": [
       "<Figure size 432x288 with 1 Axes>"
      ]
     },
     "metadata": {
      "needs_background": "light"
     },
     "output_type": "display_data"
    },
    {
     "data": {
      "text/plain": [
       "'Значение метрики AUC-ROC: 0.826743342885897'"
      ]
     },
     "metadata": {},
     "output_type": "display_data"
    },
    {
     "data": {
      "text/plain": [
       "'Accuracy: 0.8399339933993399'"
      ]
     },
     "metadata": {},
     "output_type": "display_data"
    },
    {
     "data": {
      "text/plain": [
       "'F1: 0.4849557522123893'"
      ]
     },
     "metadata": {},
     "output_type": "display_data"
    },
    {
     "data": {
      "text/plain": [
       "'Precision: 0.7445652173913043'"
      ]
     },
     "metadata": {},
     "output_type": "display_data"
    },
    {
     "data": {
      "text/plain": [
       "'Recall: 0.35958005249343833'"
      ]
     },
     "metadata": {},
     "output_type": "display_data"
    }
   ],
   "source": [
    "plot_roc(best_model_rfc, features_valid, target_valid)"
   ]
  },
  {
   "cell_type": "markdown",
   "metadata": {},
   "source": [
    "### Вывод"
   ]
  },
  {
   "cell_type": "markdown",
   "metadata": {},
   "source": [
    "- Для построения моделей не использовались идентификационные значения столбцов `RowNumber`, `CustomerId`, `Surname`.\n",
    "- Произведно прямое кодирование признаков с удалением первого столбца.\n",
    "- Произведена стандартизация.\n",
    "- Данные разделены на обучающую, валидационную и тестовую выборки.\n",
    "\n",
    "Для построения моделей использовался произвольный набор гиперпараметров. Целью являлось продемонстрировать их влияния на метрики и приблизиться к целевому значению F1.\n",
    "\n",
    "- Построена модель логистической регрессии, на которой удалось получить значения F1-меры 0.299 без учета дисбаланса классов.\n",
    "- Построена модель дерева решений, на которой удалось получить значения F1-меры 0.535 без учета дисбаланса классов.\n",
    "- Построена модель случайного леса, на которой удалось получить значения F1-меры 0.485 без учета дисбаланса классов.\n",
    "- Для полученных моделей построены графики ROC-curve и вычислены значения метрик AUC-ROC, Accuracy, Precision, Recall"
   ]
  },
  {
   "cell_type": "markdown",
   "metadata": {},
   "source": [
    "## Борьба с дисбалансом"
   ]
  },
  {
   "cell_type": "markdown",
   "metadata": {},
   "source": [
    "Дисбаланс классов на графике."
   ]
  },
  {
   "cell_type": "code",
   "execution_count": 43,
   "metadata": {
    "scrolled": true
   },
   "outputs": [
    {
     "data": {
      "text/plain": [
       "<AxesSubplot:>"
      ]
     },
     "execution_count": 43,
     "metadata": {},
     "output_type": "execute_result"
    },
    {
     "data": {
      "image/png": "[encoded data removed]",
      "text/plain": [
       "<Figure size 432x288 with 1 Axes>"
      ]
     },
     "metadata": {
      "needs_background": "light"
     },
     "output_type": "display_data"
    }
   ],
   "source": [
    "target_train.hist()"
   ]
  },
  {
   "cell_type": "markdown",
   "metadata": {},
   "source": [
    "### Upsample"
   ]
  },
  {
   "cell_type": "code",
   "execution_count": 44,
   "metadata": {},
   "outputs": [],
   "source": [
    "# функция для увеличения значимой выборки\n",
    "def upsample(features, target, repeat):\n",
    "    features_zeros = features[target == 0]\n",
    "    features_ones = features[target == 1]\n",
    "    target_zeros = target[target == 0]\n",
    "    target_ones = target[target == 1]\n",
    "\n",
    "    features_ups = pd.concat([features_zeros] + [features_ones] * repeat)\n",
    "    target_ups = pd.concat([target_zeros] + [target_ones] * repeat)\n",
    "    \n",
    "    features_ups, target_ups = shuffle(features_ups, target_ups, random_state=42)\n",
    "    \n",
    "    return features_ups, target_ups"
   ]
  },
  {
   "cell_type": "code",
   "execution_count": 45,
   "metadata": {},
   "outputs": [],
   "source": [
    "features_upsampled, target_upsampled = upsample(features_train, target_train, 4)"
   ]
  },
  {
   "cell_type": "code",
   "execution_count": 46,
   "metadata": {
    "scrolled": true
   },
   "outputs": [
    {
     "data": {
      "text/plain": [
       "<AxesSubplot:>"
      ]
     },
     "execution_count": 46,
     "metadata": {},
     "output_type": "execute_result"
    },
    {
     "data": {
      "image/png": "[encoded data removed]",
      "text/plain": [
       "<Figure size 432x288 with 1 Axes>"
      ]
     },
     "metadata": {
      "needs_background": "light"
     },
     "output_type": "display_data"
    }
   ],
   "source": [
    "target_upsampled.hist()"
   ]
  },
  {
   "cell_type": "code",
   "execution_count": 47,
   "metadata": {},
   "outputs": [],
   "source": [
    "max_features = ['sqrt', 'log2', None]\n",
    "max_leaf_nodes = [2, 10, 12]\n",
    "min_samples_leaf = [2, 10, 16]\n",
    "min_samples_split = [2, 10, 16]\n",
    "#class_weight = ['balanced', None]\n",
    "class_weight = [None]\n",
    "n_estimators = (5, 50, 5)\n",
    "\n",
    "# время выполнения на сервере Яндекса с такими параметрами - около 4 мин"
   ]
  },
  {
   "cell_type": "code",
   "execution_count": 48,
   "metadata": {},
   "outputs": [
    {
     "name": "stdout",
     "output_type": "stream",
     "text": [
      "CPU times: user 1min 46s, sys: 337 ms, total: 1min 46s\n",
      "Wall time: 1min 46s\n"
     ]
    }
   ],
   "source": [
    "%%time\n",
    "(best_model_rfc, df_rfc) = rfc_tester(\n",
    "    features_upsampled, \n",
    "    target_upsampled,\n",
    "    features_valid,\n",
    "    target_valid,\n",
    "    max_features, \n",
    "    max_leaf_nodes, \n",
    "    min_samples_leaf, \n",
    "    min_samples_split, \n",
    "    class_weight, \n",
    "    n_estimators\n",
    ")"
   ]
  },
  {
   "cell_type": "code",
   "execution_count": 49,
   "metadata": {
    "scrolled": false
   },
   "outputs": [
    {
     "data": {
      "text/html": [
       "<div>\n",
       "<style scoped>\n",
       "    .dataframe tbody tr th:only-of-type {\n",
       "        vertical-align: middle;\n",
       "    }\n",
       "\n",
       "    .dataframe tbody tr th {\n",
       "        vertical-align: top;\n",
       "    }\n",
       "\n",
       "    .dataframe thead th {\n",
       "        text-align: right;\n",
       "    }\n",
       "</style>\n",
       "<table border=\"1\" class=\"dataframe\">\n",
       "  <thead>\n",
       "    <tr style=\"text-align: right;\">\n",
       "      <th></th>\n",
       "      <th>max_features</th>\n",
       "      <th>max_leaf_nodes</th>\n",
       "      <th>min_samples_leaf</th>\n",
       "      <th>min_samples_split</th>\n",
       "      <th>n_estimators</th>\n",
       "      <th>class_weight</th>\n",
       "      <th>result</th>\n",
       "    </tr>\n",
       "  </thead>\n",
       "  <tbody>\n",
       "    <tr>\n",
       "      <th>117</th>\n",
       "      <td>log2</td>\n",
       "      <td>10.0</td>\n",
       "      <td>2.0</td>\n",
       "      <td>2.0</td>\n",
       "      <td>10.0</td>\n",
       "      <td>None</td>\n",
       "      <td>0.598351</td>\n",
       "    </tr>\n",
       "    <tr>\n",
       "      <th>279</th>\n",
       "      <td>log2</td>\n",
       "      <td>10.0</td>\n",
       "      <td>2.0</td>\n",
       "      <td>2.0</td>\n",
       "      <td>20.0</td>\n",
       "      <td>None</td>\n",
       "      <td>0.601537</td>\n",
       "    </tr>\n",
       "    <tr>\n",
       "      <th>252</th>\n",
       "      <td>sqrt</td>\n",
       "      <td>10.0</td>\n",
       "      <td>2.0</td>\n",
       "      <td>2.0</td>\n",
       "      <td>20.0</td>\n",
       "      <td>None</td>\n",
       "      <td>0.601537</td>\n",
       "    </tr>\n",
       "    <tr>\n",
       "      <th>280</th>\n",
       "      <td>log2</td>\n",
       "      <td>10.0</td>\n",
       "      <td>2.0</td>\n",
       "      <td>10.0</td>\n",
       "      <td>20.0</td>\n",
       "      <td>None</td>\n",
       "      <td>0.601537</td>\n",
       "    </tr>\n",
       "    <tr>\n",
       "      <th>253</th>\n",
       "      <td>sqrt</td>\n",
       "      <td>10.0</td>\n",
       "      <td>2.0</td>\n",
       "      <td>10.0</td>\n",
       "      <td>20.0</td>\n",
       "      <td>None</td>\n",
       "      <td>0.601537</td>\n",
       "    </tr>\n",
       "  </tbody>\n",
       "</table>\n",
       "</div>"
      ],
      "text/plain": [
       "    max_features  max_leaf_nodes  min_samples_leaf  min_samples_split  \\\n",
       "117         log2            10.0               2.0                2.0   \n",
       "279         log2            10.0               2.0                2.0   \n",
       "252         sqrt            10.0               2.0                2.0   \n",
       "280         log2            10.0               2.0               10.0   \n",
       "253         sqrt            10.0               2.0               10.0   \n",
       "\n",
       "     n_estimators class_weight    result  \n",
       "117          10.0         None  0.598351  \n",
       "279          20.0         None  0.601537  \n",
       "252          20.0         None  0.601537  \n",
       "280          20.0         None  0.601537  \n",
       "253          20.0         None  0.601537  "
      ]
     },
     "execution_count": 49,
     "metadata": {},
     "output_type": "execute_result"
    }
   ],
   "source": [
    "df_rfc.sort_values(by='result').tail(5)"
   ]
  },
  {
   "cell_type": "code",
   "execution_count": 50,
   "metadata": {
    "scrolled": false
   },
   "outputs": [
    {
     "data": {
      "image/png": "[encoded data removed]",
      "text/plain": [
       "<Figure size 432x288 with 1 Axes>"
      ]
     },
     "metadata": {
      "needs_background": "light"
     },
     "output_type": "display_data"
    },
    {
     "data": {
      "text/plain": [
       "'Значение метрики AUC-ROC: 0.8488320483947855'"
      ]
     },
     "metadata": {},
     "output_type": "display_data"
    },
    {
     "data": {
      "text/plain": [
       "'Accuracy: 0.8003300330033003'"
      ]
     },
     "metadata": {},
     "output_type": "display_data"
    },
    {
     "data": {
      "text/plain": [
       "'F1: 0.601536772777168'"
      ]
     },
     "metadata": {},
     "output_type": "display_data"
    },
    {
     "data": {
      "text/plain": [
       "'Precision: 0.5169811320754717'"
      ]
     },
     "metadata": {},
     "output_type": "display_data"
    },
    {
     "data": {
      "text/plain": [
       "'Recall: 0.7191601049868767'"
      ]
     },
     "metadata": {},
     "output_type": "display_data"
    }
   ],
   "source": [
    "plot_roc(best_model_rfc, features_valid, target_valid)"
   ]
  },
  {
   "cell_type": "markdown",
   "metadata": {},
   "source": [
    "F1-мера улучшилась и достигла целевого показателя."
   ]
  },
  {
   "cell_type": "markdown",
   "metadata": {},
   "source": [
    "### Downsample"
   ]
  },
  {
   "cell_type": "code",
   "execution_count": 51,
   "metadata": {},
   "outputs": [],
   "source": [
    "# функция для уменьшения нулевой выборки\n",
    "def downsample(features, target, fraction):\n",
    "    features_zeros = features[target == 0]\n",
    "    features_ones = features[target == 1]\n",
    "    target_zeros = target[target == 0]\n",
    "    target_ones = target[target == 1]\n",
    "\n",
    "    features_downsampled = features_zeros.sample(frac=fraction, random_state=seed)\n",
    "    target_downsampled = target_zeros.sample(frac=fraction, random_state=seed)\n",
    "\n",
    "    features_downsampled = pd.concat(\n",
    "        [features_zeros.sample(frac=fraction, random_state=seed)] + [features_ones])\n",
    "    target_downsampled = pd.concat(\n",
    "        [target_zeros.sample(frac=fraction, random_state=seed)] + [target_ones])\n",
    "    \n",
    "    features_downsampled, target_downsampled = shuffle(\n",
    "        features_downsampled, target_downsampled, random_state=seed)    \n",
    "    \n",
    "    return features_downsampled, target_downsampled"
   ]
  },
  {
   "cell_type": "code",
   "execution_count": 52,
   "metadata": {},
   "outputs": [],
   "source": [
    "features_downsampled, target_downsampled = downsample(features_train, target_train, 0.26)"
   ]
  },
  {
   "cell_type": "code",
   "execution_count": 53,
   "metadata": {},
   "outputs": [
    {
     "data": {
      "text/plain": [
       "<AxesSubplot:>"
      ]
     },
     "execution_count": 53,
     "metadata": {},
     "output_type": "execute_result"
    },
    {
     "data": {
      "image/png": "[encoded data removed]",
      "text/plain": [
       "<Figure size 432x288 with 1 Axes>"
      ]
     },
     "metadata": {
      "needs_background": "light"
     },
     "output_type": "display_data"
    }
   ],
   "source": [
    "target_downsampled.hist()"
   ]
  },
  {
   "cell_type": "code",
   "execution_count": 54,
   "metadata": {},
   "outputs": [],
   "source": [
    "max_features = ['sqrt', 'log2', None]\n",
    "max_leaf_nodes = [2, 10, 12]\n",
    "min_samples_leaf = [2, 10, 16]\n",
    "min_samples_split = [2, 10, 16]\n",
    "#class_weight = ['balanced', None]\n",
    "class_weight = [None]\n",
    "n_estimators = (5, 50, 5)\n",
    "\n",
    "# время выполнения на сервере Яндекса с такими параметрами - около 2 мин"
   ]
  },
  {
   "cell_type": "code",
   "execution_count": 55,
   "metadata": {},
   "outputs": [
    {
     "name": "stdout",
     "output_type": "stream",
     "text": [
      "CPU times: user 49.9 s, sys: 163 ms, total: 50.1 s\n",
      "Wall time: 50.3 s\n"
     ]
    }
   ],
   "source": [
    "%%time\n",
    "(best_model_rfc, df_rfc) = rfc_tester(\n",
    "    features_downsampled, \n",
    "    target_downsampled,\n",
    "    features_valid,\n",
    "    target_valid,\n",
    "    max_features, \n",
    "    max_leaf_nodes, \n",
    "    min_samples_leaf, \n",
    "    min_samples_split, \n",
    "    class_weight, \n",
    "    n_estimators\n",
    ")"
   ]
  },
  {
   "cell_type": "code",
   "execution_count": 56,
   "metadata": {
    "scrolled": false
   },
   "outputs": [
    {
     "data": {
      "text/html": [
       "<div>\n",
       "<style scoped>\n",
       "    .dataframe tbody tr th:only-of-type {\n",
       "        vertical-align: middle;\n",
       "    }\n",
       "\n",
       "    .dataframe tbody tr th {\n",
       "        vertical-align: top;\n",
       "    }\n",
       "\n",
       "    .dataframe thead th {\n",
       "        text-align: right;\n",
       "    }\n",
       "</style>\n",
       "<table border=\"1\" class=\"dataframe\">\n",
       "  <thead>\n",
       "    <tr style=\"text-align: right;\">\n",
       "      <th></th>\n",
       "      <th>max_features</th>\n",
       "      <th>max_leaf_nodes</th>\n",
       "      <th>min_samples_leaf</th>\n",
       "      <th>min_samples_split</th>\n",
       "      <th>n_estimators</th>\n",
       "      <th>class_weight</th>\n",
       "      <th>result</th>\n",
       "    </tr>\n",
       "  </thead>\n",
       "  <tbody>\n",
       "    <tr>\n",
       "      <th>122</th>\n",
       "      <td>log2</td>\n",
       "      <td>10.0</td>\n",
       "      <td>10.0</td>\n",
       "      <td>16.0</td>\n",
       "      <td>10.0</td>\n",
       "      <td>None</td>\n",
       "      <td>0.600907</td>\n",
       "    </tr>\n",
       "    <tr>\n",
       "      <th>95</th>\n",
       "      <td>sqrt</td>\n",
       "      <td>10.0</td>\n",
       "      <td>10.0</td>\n",
       "      <td>16.0</td>\n",
       "      <td>10.0</td>\n",
       "      <td>None</td>\n",
       "      <td>0.600907</td>\n",
       "    </tr>\n",
       "    <tr>\n",
       "      <th>121</th>\n",
       "      <td>log2</td>\n",
       "      <td>10.0</td>\n",
       "      <td>10.0</td>\n",
       "      <td>10.0</td>\n",
       "      <td>10.0</td>\n",
       "      <td>None</td>\n",
       "      <td>0.600907</td>\n",
       "    </tr>\n",
       "    <tr>\n",
       "      <th>263</th>\n",
       "      <td>sqrt</td>\n",
       "      <td>12.0</td>\n",
       "      <td>2.0</td>\n",
       "      <td>16.0</td>\n",
       "      <td>20.0</td>\n",
       "      <td>None</td>\n",
       "      <td>0.603352</td>\n",
       "    </tr>\n",
       "    <tr>\n",
       "      <th>290</th>\n",
       "      <td>log2</td>\n",
       "      <td>12.0</td>\n",
       "      <td>2.0</td>\n",
       "      <td>16.0</td>\n",
       "      <td>20.0</td>\n",
       "      <td>None</td>\n",
       "      <td>0.603352</td>\n",
       "    </tr>\n",
       "  </tbody>\n",
       "</table>\n",
       "</div>"
      ],
      "text/plain": [
       "    max_features  max_leaf_nodes  min_samples_leaf  min_samples_split  \\\n",
       "122         log2            10.0              10.0               16.0   \n",
       "95          sqrt            10.0              10.0               16.0   \n",
       "121         log2            10.0              10.0               10.0   \n",
       "263         sqrt            12.0               2.0               16.0   \n",
       "290         log2            12.0               2.0               16.0   \n",
       "\n",
       "     n_estimators class_weight    result  \n",
       "122          10.0         None  0.600907  \n",
       "95           10.0         None  0.600907  \n",
       "121          10.0         None  0.600907  \n",
       "263          20.0         None  0.603352  \n",
       "290          20.0         None  0.603352  "
      ]
     },
     "execution_count": 56,
     "metadata": {},
     "output_type": "execute_result"
    }
   ],
   "source": [
    "df_rfc.sort_values(by='result').tail(5)"
   ]
  },
  {
   "cell_type": "code",
   "execution_count": 57,
   "metadata": {
    "scrolled": false
   },
   "outputs": [
    {
     "data": {
      "image/png": "[encoded data removed]",
      "text/plain": [
       "<Figure size 432x288 with 1 Axes>"
      ]
     },
     "metadata": {
      "needs_background": "light"
     },
     "output_type": "display_data"
    },
    {
     "data": {
      "text/plain": [
       "'Значение метрики AUC-ROC: 0.8492366168216448'"
      ]
     },
     "metadata": {},
     "output_type": "display_data"
    },
    {
     "data": {
      "text/plain": [
       "'Accuracy: 0.8047304730473047'"
      ]
     },
     "metadata": {},
     "output_type": "display_data"
    },
    {
     "data": {
      "text/plain": [
       "'F1: 0.6033519553072626'"
      ]
     },
     "metadata": {},
     "output_type": "display_data"
    },
    {
     "data": {
      "text/plain": [
       "'Precision: 0.5252918287937743'"
      ]
     },
     "metadata": {},
     "output_type": "display_data"
    },
    {
     "data": {
      "text/plain": [
       "'Recall: 0.7086614173228346'"
      ]
     },
     "metadata": {},
     "output_type": "display_data"
    }
   ],
   "source": [
    "plot_roc(best_model_rfc, features_valid, target_valid)"
   ]
  },
  {
   "cell_type": "markdown",
   "metadata": {},
   "source": [
    "F1-мера также не опустилась ниже целевого показателя."
   ]
  },
  {
   "cell_type": "markdown",
   "metadata": {},
   "source": [
    "### Автоматическая балансировка классов"
   ]
  },
  {
   "cell_type": "markdown",
   "metadata": {},
   "source": [
    "Применим параметр class_weight со значением 'balanced'."
   ]
  },
  {
   "cell_type": "code",
   "execution_count": 63,
   "metadata": {},
   "outputs": [],
   "source": [
    "#max_features = ['sqrt', 'log2', None]\n",
    "max_features = [None]\n",
    "#max_leaf_nodes = [2, 10, 12]\n",
    "max_leaf_nodes = [12, 16, 26]\n",
    "#min_samples_leaf = [2, 10, 16]\n",
    "min_samples_leaf = [2, 5]\n",
    "#min_samples_split = [2, 10, 16]\n",
    "min_samples_split = [16, 30]\n",
    "class_weight = ['balanced']\n",
    "n_estimators = (20, 100, 10) \n",
    "\n",
    "# время выполнения на сервере Яндекса с такими параметрами - около 1,5 мин"
   ]
  },
  {
   "cell_type": "code",
   "execution_count": 64,
   "metadata": {},
   "outputs": [
    {
     "name": "stdout",
     "output_type": "stream",
     "text": [
      "CPU times: user 45.4 s, sys: 152 ms, total: 45.5 s\n",
      "Wall time: 45.7 s\n"
     ]
    }
   ],
   "source": [
    "%%time\n",
    "(best_model_rfc, df_rfc) = rfc_tester(\n",
    "    features_train, \n",
    "    target_train,\n",
    "    features_valid,\n",
    "    target_valid,\n",
    "    max_features, \n",
    "    max_leaf_nodes, \n",
    "    min_samples_leaf, \n",
    "    min_samples_split, \n",
    "    class_weight, \n",
    "    n_estimators\n",
    ")"
   ]
  },
  {
   "cell_type": "code",
   "execution_count": 65,
   "metadata": {
    "scrolled": false
   },
   "outputs": [
    {
     "data": {
      "text/html": [
       "<div>\n",
       "<style scoped>\n",
       "    .dataframe tbody tr th:only-of-type {\n",
       "        vertical-align: middle;\n",
       "    }\n",
       "\n",
       "    .dataframe tbody tr th {\n",
       "        vertical-align: top;\n",
       "    }\n",
       "\n",
       "    .dataframe thead th {\n",
       "        text-align: right;\n",
       "    }\n",
       "</style>\n",
       "<table border=\"1\" class=\"dataframe\">\n",
       "  <thead>\n",
       "    <tr style=\"text-align: right;\">\n",
       "      <th></th>\n",
       "      <th>max_features</th>\n",
       "      <th>max_leaf_nodes</th>\n",
       "      <th>min_samples_leaf</th>\n",
       "      <th>min_samples_split</th>\n",
       "      <th>n_estimators</th>\n",
       "      <th>class_weight</th>\n",
       "      <th>result</th>\n",
       "    </tr>\n",
       "  </thead>\n",
       "  <tbody>\n",
       "    <tr>\n",
       "      <th>43</th>\n",
       "      <td>None</td>\n",
       "      <td>16.0</td>\n",
       "      <td>5.0</td>\n",
       "      <td>30.0</td>\n",
       "      <td>50.0</td>\n",
       "      <td>balanced</td>\n",
       "      <td>0.613861</td>\n",
       "    </tr>\n",
       "    <tr>\n",
       "      <th>37</th>\n",
       "      <td>None</td>\n",
       "      <td>12.0</td>\n",
       "      <td>2.0</td>\n",
       "      <td>30.0</td>\n",
       "      <td>50.0</td>\n",
       "      <td>balanced</td>\n",
       "      <td>0.615558</td>\n",
       "    </tr>\n",
       "    <tr>\n",
       "      <th>39</th>\n",
       "      <td>None</td>\n",
       "      <td>12.0</td>\n",
       "      <td>5.0</td>\n",
       "      <td>30.0</td>\n",
       "      <td>50.0</td>\n",
       "      <td>balanced</td>\n",
       "      <td>0.615558</td>\n",
       "    </tr>\n",
       "    <tr>\n",
       "      <th>36</th>\n",
       "      <td>None</td>\n",
       "      <td>12.0</td>\n",
       "      <td>2.0</td>\n",
       "      <td>16.0</td>\n",
       "      <td>50.0</td>\n",
       "      <td>balanced</td>\n",
       "      <td>0.615558</td>\n",
       "    </tr>\n",
       "    <tr>\n",
       "      <th>38</th>\n",
       "      <td>None</td>\n",
       "      <td>12.0</td>\n",
       "      <td>5.0</td>\n",
       "      <td>16.0</td>\n",
       "      <td>50.0</td>\n",
       "      <td>balanced</td>\n",
       "      <td>0.615558</td>\n",
       "    </tr>\n",
       "  </tbody>\n",
       "</table>\n",
       "</div>"
      ],
      "text/plain": [
       "   max_features  max_leaf_nodes  min_samples_leaf  min_samples_split  \\\n",
       "43         None            16.0               5.0               30.0   \n",
       "37         None            12.0               2.0               30.0   \n",
       "39         None            12.0               5.0               30.0   \n",
       "36         None            12.0               2.0               16.0   \n",
       "38         None            12.0               5.0               16.0   \n",
       "\n",
       "    n_estimators class_weight    result  \n",
       "43          50.0     balanced  0.613861  \n",
       "37          50.0     balanced  0.615558  \n",
       "39          50.0     balanced  0.615558  \n",
       "36          50.0     balanced  0.615558  \n",
       "38          50.0     balanced  0.615558  "
      ]
     },
     "execution_count": 65,
     "metadata": {},
     "output_type": "execute_result"
    }
   ],
   "source": [
    "df_rfc.sort_values(by='result').tail(5)"
   ]
  },
  {
   "cell_type": "code",
   "execution_count": 66,
   "metadata": {
    "scrolled": false
   },
   "outputs": [
    {
     "data": {
      "image/png": "[encoded data removed]",
      "text/plain": [
       "<Figure size 432x288 with 1 Axes>"
      ]
     },
     "metadata": {
      "needs_background": "light"
     },
     "output_type": "display_data"
    },
    {
     "data": {
      "text/plain": [
       "'Значение метрики AUC-ROC: 0.8458722148249214'"
      ]
     },
     "metadata": {},
     "output_type": "display_data"
    },
    {
     "data": {
      "text/plain": [
       "'Accuracy: 0.8124312431243125'"
      ]
     },
     "metadata": {},
     "output_type": "display_data"
    },
    {
     "data": {
      "text/plain": [
       "'F1: 0.6155580608793687'"
      ]
     },
     "metadata": {},
     "output_type": "display_data"
    },
    {
     "data": {
      "text/plain": [
       "'Precision: 0.5395256916996047'"
      ]
     },
     "metadata": {},
     "output_type": "display_data"
    },
    {
     "data": {
      "text/plain": [
       "'Recall: 0.7165354330708661'"
      ]
     },
     "metadata": {},
     "output_type": "display_data"
    }
   ],
   "source": [
    "plot_roc(best_model_rfc, features_valid, target_valid)"
   ]
  },
  {
   "cell_type": "markdown",
   "metadata": {},
   "source": [
    "Целевое значение F1-меры достигается при применении автоматической балансировки в качестве гиперпараметра."
   ]
  },
  {
   "cell_type": "markdown",
   "metadata": {},
   "source": [
    "### Вывод"
   ]
  },
  {
   "cell_type": "markdown",
   "metadata": {},
   "source": [
    "Для борьбы с дисбалансом применены несколько методов. Для примера использовалась показавшая хороший результат без учета дисбаланса модель случайного леса.\n",
    "- Применен метод upsampling. Значение F1-меры увеличилось до 0.6015.\n",
    "- Применен метод downsampling. Значение F1-меры увеличилось до 0.6034.\n",
    "- Применен метод автоматической балансировки классов. Значение F1-меры увеличилось до 0.611."
   ]
  },
  {
   "cell_type": "markdown",
   "metadata": {},
   "source": [
    "## Тестирование модели"
   ]
  },
  {
   "cell_type": "markdown",
   "metadata": {},
   "source": [
    "Протестируем полученную модель на тестовой выборке."
   ]
  },
  {
   "cell_type": "code",
   "execution_count": 67,
   "metadata": {
    "scrolled": false
   },
   "outputs": [
    {
     "data": {
      "image/png": "[encoded data removed]",
      "text/plain": [
       "<Figure size 432x288 with 1 Axes>"
      ]
     },
     "metadata": {
      "needs_background": "light"
     },
     "output_type": "display_data"
    },
    {
     "data": {
      "text/plain": [
       "'Значение метрики AUC-ROC: 0.8511368247022377'"
      ]
     },
     "metadata": {},
     "output_type": "display_data"
    },
    {
     "data": {
      "text/plain": [
       "'Accuracy: 0.799890049477735'"
      ]
     },
     "metadata": {},
     "output_type": "display_data"
    },
    {
     "data": {
      "text/plain": [
       "'F1: 0.5825688073394495'"
      ]
     },
     "metadata": {},
     "output_type": "display_data"
    },
    {
     "data": {
      "text/plain": [
       "'Precision: 0.4980392156862745'"
      ]
     },
     "metadata": {},
     "output_type": "display_data"
    },
    {
     "data": {
      "text/plain": [
       "'Recall: 0.7016574585635359'"
      ]
     },
     "metadata": {},
     "output_type": "display_data"
    }
   ],
   "source": [
    "plot_roc(best_model_rfc, features_test, target_test)"
   ]
  },
  {
   "cell_type": "markdown",
   "metadata": {},
   "source": [
    "## Вывод"
   ]
  },
  {
   "cell_type": "markdown",
   "metadata": {},
   "source": [
    "Задача исследования - спрогнозировать, уйдёт клиент из банка в ближайшее время или нет. \n",
    "\n",
    "Проанализированы исторические данные о поведении клиентов и расторжении договоров с банком ('/datasets/Churn.csv'). \n",
    "\n",
    "В таблице содержатся следующие признаки:\n",
    "- RowNumber — индекс строки в данных\n",
    "- CustomerId — уникальный идентификатор клиента\n",
    "- Surname — фамилия\n",
    "- CreditScore — кредитный рейтинг\n",
    "- Geography — страна проживания\n",
    "- Gender — пол\n",
    "- Age — возраст\n",
    "- Tenure — сколько лет человек является клиентом банка\n",
    "- Balance — баланс на счёте\n",
    "- NumOfProducts — количество продуктов банка, используемых клиентом\n",
    "- HasCrCard — наличие кредитной карты\n",
    "- IsActiveMember — активность клиента\n",
    "- EstimatedSalary — предполагаемая зарплата\n",
    "\n",
    "Целевой признак:\n",
    "- Exited — факт ухода клиента\n",
    "\n",
    "Проведен анализ и подготовка данных к исследованию:\n",
    "- В данных отсутствуют дубликаты строк. \n",
    "- Удалены строки с пропусками значений в столбце `Tenure`.\n",
    "- Значения в столбцах `CreditScore`, `Age` и `Balance` имеют распределения, близкие к нормальному. При этом в `Balance` отдельно выделяется категория с нулевой суммой на счету.\n",
    "- Среднее значение целевого признака - 0.2. То есть 20% клиентов покинули банк. Можно сделать вывод о дисбалансе классов.\n",
    "\n",
    "- Для построения моделей не использовались идентификационные значения столбцов `RowNumber`, `CustomerId`, `Surname`.\n",
    "- Произведно прямое кодирование признаков с удалением первого столбца.\n",
    "- Произведена стандартизация.\n",
    "- Данные разделены на обучающую, валидационную и тестовую выборки.\n",
    "\n",
    "Для построения моделей использовался произвольный набор гиперпараметров. Целью являлось продемонстрировать их влияния на метрики и приблизиться к целевому значению F1.\n",
    "\n",
    "- Построена модель логистической регрессии, на которой удалось получить значения F1-меры 0.299 без учета дисбаланса классов.\n",
    "- Построена модель дерева решений, на которой удалось получить значения F1-меры 0.535 без учета дисбаланса классов.\n",
    "- Построена модель случайного леса, на которой удалось получить значения F1-меры 0.485 без учета дисбаланса классов.\n",
    "- Для полученных моделей построены графики ROC-curve и вычислены значения метрик AUC-ROC, Accuracy, Precision, Recall\n",
    "\n",
    "Для борьбы с дисбалансом применены несколько методов. Для примера использовалась показавшая хороший результат без учета дисбаланса модель случайного леса.\n",
    "- Применен метод upsampling. Значение F1-меры увеличилось до 0.6015.\n",
    "- Применен метод downsampling. Значение F1-меры увеличилось до 0.6034.\n",
    "- Применен метод автоматической балансировки классов. Значение F1-меры увеличилось до 0.611.\n",
    "\n",
    "Проведено тестирование модели на тестовой выборке. Получено значение F1-меры 0.578"
   ]
  },
  {
   "cell_type": "markdown",
   "metadata": {},
   "source": [
    "## Чек-лист готовности проекта"
   ]
  },
  {
   "cell_type": "markdown",
   "metadata": {},
   "source": [
    "Поставьте 'x' в выполненных пунктах. Далее нажмите Shift+Enter."
   ]
  },
  {
   "cell_type": "markdown",
   "metadata": {},
   "source": [
    "- [x]  Jupyter Notebook открыт\n",
    "- [x]  Весь код выполняется без ошибок\n",
    "- [x]  Ячейки с кодом расположены в порядке исполнения\n",
    "- [x]  Выполнен шаг 1: данные подготовлены\n",
    "- [x]  Выполнен шаг 2: задача исследована\n",
    "    - [x]  Исследован баланс классов\n",
    "    - [x]  Изучены модели без учёта дисбаланса\n",
    "    - [x]  Написаны выводы по результатам исследования\n",
    "- [x]  Выполнен шаг 3: учтён дисбаланс\n",
    "    - [x]  Применено несколько способов борьбы с дисбалансом\n",
    "    - [x]  Написаны выводы по результатам исследования\n",
    "- [x]  Выполнен шаг 4: проведено тестирование\n",
    "- [x]  Удалось достичь *F1*-меры не менее 0.59\n",
    "- [x]  Исследована метрика *AUC-ROC*"
   ]
  }
 ],
 "metadata": {
  "ExecuteTimeLog": [
   {
    "duration": 1576,
    "start_time": "2023-04-25T15:53:32.090Z"
   },
   {
    "duration": 120,
    "start_time": "2023-04-25T15:55:01.985Z"
   },
   {
    "duration": 52,
    "start_time": "2023-04-25T15:55:11.420Z"
   },
   {
    "duration": 13,
    "start_time": "2023-04-25T15:55:55.227Z"
   },
   {
    "duration": 4,
    "start_time": "2023-04-25T15:57:00.795Z"
   },
   {
    "duration": 11,
    "start_time": "2023-04-25T16:11:23.116Z"
   },
   {
    "duration": 4,
    "start_time": "2023-04-25T16:14:52.281Z"
   },
   {
    "duration": 4,
    "start_time": "2023-04-25T16:15:10.729Z"
   },
   {
    "duration": 36,
    "start_time": "2023-04-25T16:15:51.509Z"
   },
   {
    "duration": 29,
    "start_time": "2023-04-25T16:18:02.315Z"
   },
   {
    "duration": 4,
    "start_time": "2023-04-25T16:19:14.441Z"
   },
   {
    "duration": 2,
    "start_time": "2023-04-25T16:25:39.979Z"
   },
   {
    "duration": 3,
    "start_time": "2023-04-25T16:28:46.739Z"
   },
   {
    "duration": 41,
    "start_time": "2023-04-25T16:29:05.884Z"
   },
   {
    "duration": 120,
    "start_time": "2023-04-25T16:29:12.124Z"
   },
   {
    "duration": 6,
    "start_time": "2023-04-25T16:29:47.999Z"
   },
   {
    "duration": 42,
    "start_time": "2023-04-25T16:30:24.240Z"
   },
   {
    "duration": 65,
    "start_time": "2023-04-25T16:30:29.974Z"
   },
   {
    "duration": 6,
    "start_time": "2023-04-25T16:30:33.036Z"
   },
   {
    "duration": 7,
    "start_time": "2023-04-25T16:31:08.715Z"
   },
   {
    "duration": 28,
    "start_time": "2023-04-25T17:35:38.734Z"
   },
   {
    "duration": 7,
    "start_time": "2023-04-25T17:35:44.918Z"
   },
   {
    "duration": 4,
    "start_time": "2023-04-25T17:41:56.345Z"
   },
   {
    "duration": 11,
    "start_time": "2023-04-25T17:42:53.361Z"
   },
   {
    "duration": 12,
    "start_time": "2023-04-25T17:43:03.470Z"
   },
   {
    "duration": 3,
    "start_time": "2023-04-25T17:48:44.830Z"
   },
   {
    "duration": 89,
    "start_time": "2023-04-25T17:48:45.968Z"
   },
   {
    "duration": 13,
    "start_time": "2023-04-25T17:48:48.270Z"
   },
   {
    "duration": 27,
    "start_time": "2023-04-25T17:48:49.976Z"
   },
   {
    "duration": 4,
    "start_time": "2023-04-25T17:48:51.777Z"
   },
   {
    "duration": 4,
    "start_time": "2023-04-25T17:48:52.538Z"
   },
   {
    "duration": 11,
    "start_time": "2023-04-25T17:48:53.265Z"
   },
   {
    "duration": 2,
    "start_time": "2023-04-25T17:48:54.413Z"
   },
   {
    "duration": 6,
    "start_time": "2023-04-25T17:48:55.141Z"
   },
   {
    "duration": 5,
    "start_time": "2023-04-25T17:48:56.196Z"
   },
   {
    "duration": 9,
    "start_time": "2023-04-25T17:48:56.971Z"
   },
   {
    "duration": 4,
    "start_time": "2023-04-25T17:49:09.081Z"
   },
   {
    "duration": 10,
    "start_time": "2023-04-25T17:49:09.937Z"
   },
   {
    "duration": 10,
    "start_time": "2023-04-25T17:49:11.331Z"
   },
   {
    "duration": 5,
    "start_time": "2023-04-25T17:50:09.328Z"
   },
   {
    "duration": 11,
    "start_time": "2023-04-25T17:50:59.896Z"
   },
   {
    "duration": 19,
    "start_time": "2023-04-25T17:52:28.898Z"
   },
   {
    "duration": 12,
    "start_time": "2023-04-25T17:52:34.774Z"
   },
   {
    "duration": 9,
    "start_time": "2023-04-25T17:53:38.897Z"
   },
   {
    "duration": 4,
    "start_time": "2023-04-25T17:54:48.228Z"
   },
   {
    "duration": 5,
    "start_time": "2023-04-25T17:55:43.103Z"
   },
   {
    "duration": 6,
    "start_time": "2023-04-25T17:55:43.812Z"
   },
   {
    "duration": 4,
    "start_time": "2023-04-25T17:55:45.003Z"
   },
   {
    "duration": 5,
    "start_time": "2023-04-25T17:55:45.845Z"
   },
   {
    "duration": 4,
    "start_time": "2023-04-25T17:55:46.509Z"
   },
   {
    "duration": 4,
    "start_time": "2023-04-25T17:55:47.147Z"
   },
   {
    "duration": 156,
    "start_time": "2023-04-25T18:03:09.186Z"
   },
   {
    "duration": 8,
    "start_time": "2023-04-25T18:03:24.677Z"
   },
   {
    "duration": 8,
    "start_time": "2023-04-25T18:03:39.501Z"
   },
   {
    "duration": 2,
    "start_time": "2023-04-25T18:04:16.459Z"
   },
   {
    "duration": 3126,
    "start_time": "2023-04-25T18:04:26.613Z"
   },
   {
    "duration": 3,
    "start_time": "2023-04-25T18:07:01.489Z"
   },
   {
    "duration": 3,
    "start_time": "2023-04-25T18:07:02.187Z"
   },
   {
    "duration": 3242,
    "start_time": "2023-04-25T18:07:03.263Z"
   },
   {
    "duration": 3,
    "start_time": "2023-04-25T18:07:08.725Z"
   },
   {
    "duration": 3,
    "start_time": "2023-04-25T18:07:09.481Z"
   },
   {
    "duration": 4,
    "start_time": "2023-04-25T18:08:47.387Z"
   },
   {
    "duration": 3,
    "start_time": "2023-04-25T18:08:47.980Z"
   },
   {
    "duration": 9456,
    "start_time": "2023-04-25T18:08:48.667Z"
   },
   {
    "duration": 4,
    "start_time": "2023-04-25T18:09:00.196Z"
   },
   {
    "duration": 4,
    "start_time": "2023-04-25T18:09:01.117Z"
   },
   {
    "duration": 196,
    "start_time": "2023-04-25T18:09:02.240Z"
   },
   {
    "duration": 7,
    "start_time": "2023-04-25T18:10:17.471Z"
   },
   {
    "duration": 7,
    "start_time": "2023-04-25T18:10:18.041Z"
   },
   {
    "duration": 21,
    "start_time": "2023-04-25T18:10:18.495Z"
   },
   {
    "duration": 1751,
    "start_time": "2023-04-26T15:55:11.969Z"
   },
   {
    "duration": 85,
    "start_time": "2023-04-26T15:55:13.722Z"
   },
   {
    "duration": 15,
    "start_time": "2023-04-26T15:55:13.809Z"
   },
   {
    "duration": 46,
    "start_time": "2023-04-26T15:55:13.827Z"
   },
   {
    "duration": 21,
    "start_time": "2023-04-26T15:55:13.875Z"
   },
   {
    "duration": 6,
    "start_time": "2023-04-26T15:55:13.899Z"
   },
   {
    "duration": 18,
    "start_time": "2023-04-26T15:55:13.907Z"
   },
   {
    "duration": 3,
    "start_time": "2023-04-26T15:55:13.927Z"
   },
   {
    "duration": 10,
    "start_time": "2023-04-26T15:55:13.932Z"
   },
   {
    "duration": 10,
    "start_time": "2023-04-26T15:55:13.945Z"
   },
   {
    "duration": 38,
    "start_time": "2023-04-26T15:55:13.957Z"
   },
   {
    "duration": 10,
    "start_time": "2023-04-26T15:55:13.997Z"
   },
   {
    "duration": 24,
    "start_time": "2023-04-26T15:55:14.010Z"
   },
   {
    "duration": 13,
    "start_time": "2023-04-26T15:55:14.036Z"
   },
   {
    "duration": 50,
    "start_time": "2023-04-26T15:55:14.051Z"
   },
   {
    "duration": 17,
    "start_time": "2023-04-26T15:55:14.104Z"
   },
   {
    "duration": 7,
    "start_time": "2023-04-26T15:55:14.123Z"
   },
   {
    "duration": 12,
    "start_time": "2023-04-26T15:55:14.132Z"
   },
   {
    "duration": 4,
    "start_time": "2023-04-26T15:55:14.147Z"
   },
   {
    "duration": 13,
    "start_time": "2023-04-26T15:55:14.153Z"
   },
   {
    "duration": 22,
    "start_time": "2023-04-26T15:55:14.168Z"
   },
   {
    "duration": 6,
    "start_time": "2023-04-26T15:55:14.192Z"
   },
   {
    "duration": 192,
    "start_time": "2023-04-26T15:55:14.199Z"
   },
   {
    "duration": 10,
    "start_time": "2023-04-26T15:55:14.393Z"
   },
   {
    "duration": 11,
    "start_time": "2023-04-26T15:55:14.490Z"
   },
   {
    "duration": 3,
    "start_time": "2023-04-26T15:55:14.591Z"
   },
   {
    "duration": 3215,
    "start_time": "2023-04-26T15:55:14.596Z"
   },
   {
    "duration": 86,
    "start_time": "2023-04-26T15:55:17.817Z"
   },
   {
    "duration": 4,
    "start_time": "2023-04-26T15:55:17.990Z"
   },
   {
    "duration": 3506,
    "start_time": "2023-04-26T15:55:17.995Z"
   },
   {
    "duration": 5,
    "start_time": "2023-04-26T15:55:21.505Z"
   },
   {
    "duration": 8,
    "start_time": "2023-04-26T15:55:21.512Z"
   },
   {
    "duration": 12,
    "start_time": "2023-04-26T15:55:21.522Z"
   },
   {
    "duration": 4,
    "start_time": "2023-04-26T15:55:21.537Z"
   },
   {
    "duration": 10762,
    "start_time": "2023-04-26T15:55:21.543Z"
   },
   {
    "duration": 4,
    "start_time": "2023-04-26T15:55:32.307Z"
   },
   {
    "duration": 11,
    "start_time": "2023-04-26T15:55:32.313Z"
   },
   {
    "duration": 243,
    "start_time": "2023-04-26T15:55:32.325Z"
   },
   {
    "duration": 29,
    "start_time": "2023-04-26T15:55:32.570Z"
   },
   {
    "duration": 99,
    "start_time": "2023-04-26T15:55:32.601Z"
   },
   {
    "duration": 38,
    "start_time": "2023-04-26T15:55:32.702Z"
   },
   {
    "duration": 122,
    "start_time": "2023-04-26T15:59:09.048Z"
   },
   {
    "duration": 4,
    "start_time": "2023-04-26T15:59:19.555Z"
   },
   {
    "duration": 21,
    "start_time": "2023-04-26T15:59:28.006Z"
   },
   {
    "duration": 4,
    "start_time": "2023-04-26T16:00:39.066Z"
   },
   {
    "duration": 89,
    "start_time": "2023-04-26T16:00:39.072Z"
   },
   {
    "duration": 13,
    "start_time": "2023-04-26T16:00:39.163Z"
   },
   {
    "duration": 33,
    "start_time": "2023-04-26T16:00:39.178Z"
   },
   {
    "duration": 4,
    "start_time": "2023-04-26T16:00:39.213Z"
   },
   {
    "duration": 17,
    "start_time": "2023-04-26T16:00:39.219Z"
   },
   {
    "duration": 18,
    "start_time": "2023-04-26T16:00:39.238Z"
   },
   {
    "duration": 14,
    "start_time": "2023-04-26T16:00:39.258Z"
   },
   {
    "duration": 12,
    "start_time": "2023-04-26T16:00:39.274Z"
   },
   {
    "duration": 8,
    "start_time": "2023-04-26T16:00:39.288Z"
   },
   {
    "duration": 11,
    "start_time": "2023-04-26T16:00:39.300Z"
   },
   {
    "duration": 30,
    "start_time": "2023-04-26T16:00:39.313Z"
   },
   {
    "duration": 18,
    "start_time": "2023-04-26T16:00:39.345Z"
   },
   {
    "duration": 21,
    "start_time": "2023-04-26T16:00:39.365Z"
   },
   {
    "duration": 30,
    "start_time": "2023-04-26T16:00:39.389Z"
   },
   {
    "duration": 13,
    "start_time": "2023-04-26T16:00:39.421Z"
   },
   {
    "duration": 17,
    "start_time": "2023-04-26T16:00:39.436Z"
   },
   {
    "duration": 7,
    "start_time": "2023-04-26T16:00:39.455Z"
   },
   {
    "duration": 12,
    "start_time": "2023-04-26T16:00:39.463Z"
   },
   {
    "duration": 8,
    "start_time": "2023-04-26T16:00:39.477Z"
   },
   {
    "duration": 6,
    "start_time": "2023-04-26T16:00:39.490Z"
   },
   {
    "duration": 14,
    "start_time": "2023-04-26T16:00:39.498Z"
   },
   {
    "duration": 178,
    "start_time": "2023-04-26T16:00:39.515Z"
   },
   {
    "duration": 102,
    "start_time": "2023-04-26T16:00:39.695Z"
   },
   {
    "duration": 7,
    "start_time": "2023-04-26T16:00:42.140Z"
   },
   {
    "duration": 4,
    "start_time": "2023-04-26T16:02:49.584Z"
   },
   {
    "duration": 201,
    "start_time": "2023-04-26T16:05:19.794Z"
   },
   {
    "duration": 27,
    "start_time": "2023-04-26T16:06:21.169Z"
   },
   {
    "duration": 83,
    "start_time": "2023-04-26T16:07:24.325Z"
   },
   {
    "duration": 10,
    "start_time": "2023-04-26T16:25:27.021Z"
   },
   {
    "duration": 40,
    "start_time": "2023-04-26T16:25:35.649Z"
   },
   {
    "duration": 4,
    "start_time": "2023-04-26T16:25:52.522Z"
   },
   {
    "duration": 5,
    "start_time": "2023-04-26T16:26:03.425Z"
   },
   {
    "duration": 13,
    "start_time": "2023-04-26T16:26:08.986Z"
   },
   {
    "duration": 130,
    "start_time": "2023-04-26T16:27:18.387Z"
   },
   {
    "duration": 209,
    "start_time": "2023-04-26T16:56:31.754Z"
   },
   {
    "duration": 20,
    "start_time": "2023-04-26T16:56:48.457Z"
   },
   {
    "duration": 6,
    "start_time": "2023-04-26T16:57:40.991Z"
   },
   {
    "duration": 24,
    "start_time": "2023-04-26T16:57:51.873Z"
   },
   {
    "duration": 132,
    "start_time": "2023-04-26T16:58:22.360Z"
   },
   {
    "duration": 122,
    "start_time": "2023-04-26T16:58:48.834Z"
   },
   {
    "duration": 14,
    "start_time": "2023-04-26T16:58:52.522Z"
   },
   {
    "duration": 14,
    "start_time": "2023-04-26T16:59:03.698Z"
   },
   {
    "duration": 56,
    "start_time": "2023-04-26T16:59:40.625Z"
   },
   {
    "duration": 10,
    "start_time": "2023-04-26T17:05:28.835Z"
   },
   {
    "duration": 21,
    "start_time": "2023-04-26T17:05:40.255Z"
   },
   {
    "duration": 30,
    "start_time": "2023-04-26T17:05:57.795Z"
   },
   {
    "duration": 5,
    "start_time": "2023-04-26T17:06:06.683Z"
   },
   {
    "duration": 6,
    "start_time": "2023-04-26T17:06:08.427Z"
   },
   {
    "duration": 12,
    "start_time": "2023-04-26T17:06:09.891Z"
   },
   {
    "duration": 3,
    "start_time": "2023-04-26T17:06:11.784Z"
   },
   {
    "duration": 7,
    "start_time": "2023-04-26T17:06:13.680Z"
   },
   {
    "duration": 6,
    "start_time": "2023-04-26T17:06:15.572Z"
   },
   {
    "duration": 10,
    "start_time": "2023-04-26T17:06:21.891Z"
   },
   {
    "duration": 5,
    "start_time": "2023-04-26T17:06:31.280Z"
   },
   {
    "duration": 12,
    "start_time": "2023-04-26T17:06:32.740Z"
   },
   {
    "duration": 12,
    "start_time": "2023-04-26T17:06:34.194Z"
   },
   {
    "duration": 23,
    "start_time": "2023-04-26T17:07:06.602Z"
   },
   {
    "duration": 13,
    "start_time": "2023-04-26T17:07:11.472Z"
   },
   {
    "duration": 5,
    "start_time": "2023-04-26T17:07:14.572Z"
   },
   {
    "duration": 7,
    "start_time": "2023-04-26T17:07:15.634Z"
   },
   {
    "duration": 4,
    "start_time": "2023-04-26T17:07:16.326Z"
   },
   {
    "duration": 6,
    "start_time": "2023-04-26T17:07:17.734Z"
   },
   {
    "duration": 5,
    "start_time": "2023-04-26T17:07:18.303Z"
   },
   {
    "duration": 4,
    "start_time": "2023-04-26T17:07:18.919Z"
   },
   {
    "duration": 517,
    "start_time": "2023-04-26T17:07:23.281Z"
   },
   {
    "duration": 34,
    "start_time": "2023-04-26T17:07:24.670Z"
   },
   {
    "duration": 18,
    "start_time": "2023-04-26T17:07:31.368Z"
   },
   {
    "duration": 16,
    "start_time": "2023-04-26T17:07:35.912Z"
   },
   {
    "duration": 134,
    "start_time": "2023-04-26T17:07:38.123Z"
   },
   {
    "duration": 646,
    "start_time": "2023-04-26T17:19:07.455Z"
   },
   {
    "duration": 81023,
    "start_time": "2023-04-26T17:20:29.954Z"
   },
   {
    "duration": 991,
    "start_time": "2023-04-26T17:24:06.039Z"
   },
   {
    "duration": 1246,
    "start_time": "2023-04-26T17:24:31.225Z"
   },
   {
    "duration": 272,
    "start_time": "2023-04-26T17:28:18.365Z"
   },
   {
    "duration": 326,
    "start_time": "2023-04-26T17:29:00.587Z"
   },
   {
    "duration": 224,
    "start_time": "2023-04-26T17:29:14.437Z"
   },
   {
    "duration": 221,
    "start_time": "2023-04-26T17:29:50.290Z"
   },
   {
    "duration": 185,
    "start_time": "2023-04-26T17:30:06.032Z"
   },
   {
    "duration": 190,
    "start_time": "2023-04-26T17:31:10.780Z"
   },
   {
    "duration": 449,
    "start_time": "2023-04-26T17:31:32.621Z"
   },
   {
    "duration": 6,
    "start_time": "2023-04-26T17:38:19.456Z"
   },
   {
    "duration": 5,
    "start_time": "2023-04-26T17:38:44.642Z"
   },
   {
    "duration": 6,
    "start_time": "2023-04-26T17:39:11.535Z"
   },
   {
    "duration": 286,
    "start_time": "2023-04-26T17:40:29.828Z"
   },
   {
    "duration": 1825,
    "start_time": "2023-04-26T17:40:38.088Z"
   },
   {
    "duration": 1924,
    "start_time": "2023-04-26T17:41:48.890Z"
   },
   {
    "duration": 3083,
    "start_time": "2023-04-26T17:44:10.538Z"
   },
   {
    "duration": 4,
    "start_time": "2023-04-26T17:44:34.089Z"
   },
   {
    "duration": 4,
    "start_time": "2023-04-26T17:44:37.705Z"
   },
   {
    "duration": 175,
    "start_time": "2023-04-26T17:46:57.872Z"
   },
   {
    "duration": 11709,
    "start_time": "2023-04-26T17:51:17.895Z"
   },
   {
    "duration": 4,
    "start_time": "2023-04-26T17:51:33.462Z"
   },
   {
    "duration": 23741,
    "start_time": "2023-04-26T17:54:49.726Z"
   },
   {
    "duration": 4,
    "start_time": "2023-04-26T17:55:16.848Z"
   },
   {
    "duration": 4,
    "start_time": "2023-04-26T17:55:23.506Z"
   },
   {
    "duration": 26935,
    "start_time": "2023-04-26T17:57:03.960Z"
   },
   {
    "duration": 4,
    "start_time": "2023-04-26T17:58:32.740Z"
   },
   {
    "duration": 5,
    "start_time": "2023-04-26T17:58:43.314Z"
   },
   {
    "duration": 3,
    "start_time": "2023-04-26T17:58:57.437Z"
   },
   {
    "duration": 30,
    "start_time": "2023-04-26T17:58:58.721Z"
   },
   {
    "duration": 6,
    "start_time": "2023-04-26T17:59:53.916Z"
   },
   {
    "duration": 3,
    "start_time": "2023-04-26T17:59:55.088Z"
   },
   {
    "duration": 23473,
    "start_time": "2023-04-26T17:59:55.810Z"
   },
   {
    "duration": 5,
    "start_time": "2023-04-26T18:00:20.819Z"
   },
   {
    "duration": 4,
    "start_time": "2023-04-26T18:00:35.956Z"
   },
   {
    "duration": 3,
    "start_time": "2023-04-26T18:01:11.845Z"
   },
   {
    "duration": 3,
    "start_time": "2023-04-26T18:01:12.586Z"
   },
   {
    "duration": 9062,
    "start_time": "2023-04-26T18:01:14.416Z"
   },
   {
    "duration": 4,
    "start_time": "2023-04-26T18:01:26.031Z"
   },
   {
    "duration": 4,
    "start_time": "2023-04-26T18:01:26.992Z"
   },
   {
    "duration": 9283,
    "start_time": "2023-04-26T18:02:20.941Z"
   },
   {
    "duration": 4,
    "start_time": "2023-04-26T18:02:31.241Z"
   },
   {
    "duration": 5,
    "start_time": "2023-04-26T18:02:32.569Z"
   },
   {
    "duration": 4,
    "start_time": "2023-04-26T18:02:38.343Z"
   },
   {
    "duration": 9225,
    "start_time": "2023-04-26T18:02:40.199Z"
   },
   {
    "duration": 3,
    "start_time": "2023-04-26T18:02:50.797Z"
   },
   {
    "duration": 5,
    "start_time": "2023-04-26T18:02:51.730Z"
   },
   {
    "duration": 193,
    "start_time": "2023-04-26T18:03:12.838Z"
   },
   {
    "duration": 4,
    "start_time": "2023-04-26T18:05:11.996Z"
   },
   {
    "duration": 3,
    "start_time": "2023-04-26T18:05:12.561Z"
   },
   {
    "duration": 9060,
    "start_time": "2023-04-26T18:05:13.150Z"
   },
   {
    "duration": 4,
    "start_time": "2023-04-26T18:05:23.459Z"
   },
   {
    "duration": 4,
    "start_time": "2023-04-26T18:05:24.303Z"
   },
   {
    "duration": 186,
    "start_time": "2023-04-26T18:05:26.669Z"
   },
   {
    "duration": 10,
    "start_time": "2023-04-26T18:05:55.018Z"
   },
   {
    "duration": 8,
    "start_time": "2023-04-26T18:05:55.845Z"
   },
   {
    "duration": 10,
    "start_time": "2023-04-26T18:05:56.614Z"
   },
   {
    "duration": 6,
    "start_time": "2023-04-26T18:13:05.774Z"
   },
   {
    "duration": 5,
    "start_time": "2023-04-26T18:15:05.051Z"
   },
   {
    "duration": 15,
    "start_time": "2023-04-26T18:16:50.737Z"
   },
   {
    "duration": 6,
    "start_time": "2023-04-26T18:19:52.608Z"
   },
   {
    "duration": 14,
    "start_time": "2023-04-26T18:19:54.847Z"
   },
   {
    "duration": 5,
    "start_time": "2023-04-26T18:22:27.084Z"
   },
   {
    "duration": 18,
    "start_time": "2023-04-26T18:22:27.950Z"
   },
   {
    "duration": 5,
    "start_time": "2023-04-26T18:22:29.331Z"
   },
   {
    "duration": 4,
    "start_time": "2023-04-26T18:22:30.263Z"
   },
   {
    "duration": 24627,
    "start_time": "2023-04-26T18:22:31.026Z"
   },
   {
    "duration": 5,
    "start_time": "2023-04-26T18:22:56.512Z"
   },
   {
    "duration": 5,
    "start_time": "2023-04-26T18:23:30.239Z"
   },
   {
    "duration": 3,
    "start_time": "2023-04-26T18:23:30.788Z"
   },
   {
    "duration": 31125,
    "start_time": "2023-04-26T18:23:31.320Z"
   },
   {
    "duration": 5,
    "start_time": "2023-04-26T18:24:04.356Z"
   },
   {
    "duration": 6,
    "start_time": "2023-04-26T18:24:26.231Z"
   },
   {
    "duration": 6,
    "start_time": "2023-04-26T18:26:00.780Z"
   },
   {
    "duration": 5,
    "start_time": "2023-04-26T18:36:59.752Z"
   },
   {
    "duration": 224,
    "start_time": "2023-04-26T18:39:30.529Z"
   },
   {
    "duration": 164,
    "start_time": "2023-04-26T18:39:47.691Z"
   },
   {
    "duration": 5250,
    "start_time": "2023-04-26T18:58:05.501Z"
   },
   {
    "duration": 1646,
    "start_time": "2023-04-28T09:45:13.514Z"
   },
   {
    "duration": 173,
    "start_time": "2023-04-28T09:50:27.516Z"
   },
   {
    "duration": 15,
    "start_time": "2023-04-28T09:50:32.813Z"
   },
   {
    "duration": 10,
    "start_time": "2023-04-28T09:52:30.625Z"
   },
   {
    "duration": 29,
    "start_time": "2023-04-28T09:54:20.017Z"
   },
   {
    "duration": 1133,
    "start_time": "2023-04-28T09:55:54.740Z"
   },
   {
    "duration": 13,
    "start_time": "2023-04-28T09:56:37.729Z"
   },
   {
    "duration": 5,
    "start_time": "2023-04-28T09:59:32.043Z"
   },
   {
    "duration": 2,
    "start_time": "2023-04-28T10:02:34.969Z"
   },
   {
    "duration": 219,
    "start_time": "2023-04-28T10:02:36.448Z"
   },
   {
    "duration": 105,
    "start_time": "2023-04-28T10:24:11.145Z"
   },
   {
    "duration": 4,
    "start_time": "2023-04-28T10:24:15.726Z"
   },
   {
    "duration": 16,
    "start_time": "2023-04-28T10:24:40.841Z"
   },
   {
    "duration": 12,
    "start_time": "2023-04-28T10:24:41.807Z"
   },
   {
    "duration": 18,
    "start_time": "2023-04-28T10:27:48.219Z"
   },
   {
    "duration": 20,
    "start_time": "2023-04-28T10:27:49.477Z"
   },
   {
    "duration": 5,
    "start_time": "2023-04-28T10:29:22.552Z"
   },
   {
    "duration": 5,
    "start_time": "2023-04-28T10:30:26.746Z"
   },
   {
    "duration": 5,
    "start_time": "2023-04-28T10:32:25.860Z"
   },
   {
    "duration": 5,
    "start_time": "2023-04-28T10:32:27.572Z"
   },
   {
    "duration": 4,
    "start_time": "2023-04-28T10:32:29.090Z"
   },
   {
    "duration": 6,
    "start_time": "2023-04-28T10:32:41.394Z"
   },
   {
    "duration": 4,
    "start_time": "2023-04-28T10:32:46.734Z"
   },
   {
    "duration": 5,
    "start_time": "2023-04-28T10:32:47.930Z"
   },
   {
    "duration": 6,
    "start_time": "2023-04-28T10:32:54.611Z"
   },
   {
    "duration": 5,
    "start_time": "2023-04-28T10:32:55.928Z"
   },
   {
    "duration": 6,
    "start_time": "2023-04-28T10:32:56.683Z"
   },
   {
    "duration": 4,
    "start_time": "2023-04-28T10:35:11.419Z"
   },
   {
    "duration": 6,
    "start_time": "2023-04-28T10:36:11.218Z"
   },
   {
    "duration": 4,
    "start_time": "2023-04-28T10:43:23.961Z"
   },
   {
    "duration": 448,
    "start_time": "2023-04-28T10:43:49.276Z"
   },
   {
    "duration": 98,
    "start_time": "2023-04-28T10:43:50.421Z"
   },
   {
    "duration": 29,
    "start_time": "2023-04-28T10:43:53.184Z"
   },
   {
    "duration": 5,
    "start_time": "2023-04-28T10:43:59.642Z"
   },
   {
    "duration": 287,
    "start_time": "2023-04-28T10:44:04.137Z"
   },
   {
    "duration": 5,
    "start_time": "2023-04-28T10:46:19.848Z"
   },
   {
    "duration": 248,
    "start_time": "2023-04-28T10:46:20.972Z"
   },
   {
    "duration": 5,
    "start_time": "2023-04-28T10:47:09.961Z"
   },
   {
    "duration": 283,
    "start_time": "2023-04-28T10:47:11.140Z"
   },
   {
    "duration": 4,
    "start_time": "2023-04-28T10:47:29.467Z"
   },
   {
    "duration": 273,
    "start_time": "2023-04-28T10:47:30.085Z"
   },
   {
    "duration": 49,
    "start_time": "2023-04-28T10:48:17.514Z"
   },
   {
    "duration": 5,
    "start_time": "2023-04-28T10:48:29.910Z"
   },
   {
    "duration": 346,
    "start_time": "2023-04-28T10:48:30.707Z"
   },
   {
    "duration": 4,
    "start_time": "2023-04-28T10:48:45.664Z"
   },
   {
    "duration": 309,
    "start_time": "2023-04-28T10:48:46.408Z"
   },
   {
    "duration": 6,
    "start_time": "2023-04-28T10:49:28.953Z"
   },
   {
    "duration": 264,
    "start_time": "2023-04-28T10:49:30.179Z"
   },
   {
    "duration": 6,
    "start_time": "2023-04-28T10:49:49.049Z"
   },
   {
    "duration": 286,
    "start_time": "2023-04-28T10:49:49.448Z"
   },
   {
    "duration": 5,
    "start_time": "2023-04-28T10:54:34.524Z"
   },
   {
    "duration": 3,
    "start_time": "2023-04-28T10:55:09.537Z"
   },
   {
    "duration": 2240,
    "start_time": "2023-04-28T10:55:10.408Z"
   },
   {
    "duration": 7397,
    "start_time": "2023-04-28T10:55:57.416Z"
   },
   {
    "duration": 3047,
    "start_time": "2023-04-28T10:56:47.688Z"
   },
   {
    "duration": 1978,
    "start_time": "2023-04-28T11:14:54.353Z"
   },
   {
    "duration": 12,
    "start_time": "2023-04-28T11:15:42.678Z"
   },
   {
    "duration": 14,
    "start_time": "2023-04-28T11:15:47.957Z"
   },
   {
    "duration": 141,
    "start_time": "2023-04-28T11:16:17.978Z"
   },
   {
    "duration": 260,
    "start_time": "2023-04-28T11:16:32.053Z"
   },
   {
    "duration": 5,
    "start_time": "2023-04-28T11:27:31.723Z"
   },
   {
    "duration": 3,
    "start_time": "2023-04-28T11:27:32.475Z"
   },
   {
    "duration": 4,
    "start_time": "2023-04-28T11:27:41.743Z"
   },
   {
    "duration": 22504,
    "start_time": "2023-04-28T11:27:49.676Z"
   },
   {
    "duration": 4,
    "start_time": "2023-04-28T11:28:22.977Z"
   },
   {
    "duration": 5,
    "start_time": "2023-04-28T11:28:25.543Z"
   },
   {
    "duration": 123,
    "start_time": "2023-04-28T11:28:54.156Z"
   },
   {
    "duration": 5,
    "start_time": "2023-04-28T11:30:18.791Z"
   },
   {
    "duration": 400,
    "start_time": "2023-04-28T11:30:23.817Z"
   },
   {
    "duration": 130,
    "start_time": "2023-04-28T11:30:52.354Z"
   },
   {
    "duration": 131,
    "start_time": "2023-04-28T11:31:46.820Z"
   },
   {
    "duration": 8,
    "start_time": "2023-04-28T11:32:20.075Z"
   },
   {
    "duration": 3,
    "start_time": "2023-04-28T11:32:24.831Z"
   },
   {
    "duration": 3,
    "start_time": "2023-04-28T11:32:25.489Z"
   },
   {
    "duration": 8270,
    "start_time": "2023-04-28T11:32:26.373Z"
   },
   {
    "duration": 141,
    "start_time": "2023-04-28T11:32:37.578Z"
   },
   {
    "duration": 120,
    "start_time": "2023-04-28T11:33:37.941Z"
   },
   {
    "duration": 4,
    "start_time": "2023-04-28T11:33:43.075Z"
   },
   {
    "duration": 12,
    "start_time": "2023-04-28T11:33:45.893Z"
   },
   {
    "duration": 115,
    "start_time": "2023-04-28T11:33:47.229Z"
   },
   {
    "duration": 4,
    "start_time": "2023-04-28T11:34:00.942Z"
   },
   {
    "duration": 2,
    "start_time": "2023-04-28T11:34:01.687Z"
   },
   {
    "duration": 27294,
    "start_time": "2023-04-28T11:34:02.357Z"
   },
   {
    "duration": 158,
    "start_time": "2023-04-28T11:34:43.873Z"
   },
   {
    "duration": 4,
    "start_time": "2023-04-28T11:57:12.462Z"
   },
   {
    "duration": 10,
    "start_time": "2023-04-28T11:58:01.555Z"
   },
   {
    "duration": 125,
    "start_time": "2023-04-28T11:58:04.224Z"
   },
   {
    "duration": 5,
    "start_time": "2023-04-28T11:58:10.501Z"
   },
   {
    "duration": 31531,
    "start_time": "2023-04-28T11:59:38.277Z"
   },
   {
    "duration": 3,
    "start_time": "2023-04-28T12:00:09.810Z"
   },
   {
    "duration": 137,
    "start_time": "2023-04-28T12:00:14.950Z"
   },
   {
    "duration": 3,
    "start_time": "2023-04-28T12:00:42.510Z"
   },
   {
    "duration": 28684,
    "start_time": "2023-04-28T12:00:44.659Z"
   },
   {
    "duration": 3,
    "start_time": "2023-04-28T12:01:13.345Z"
   },
   {
    "duration": 233,
    "start_time": "2023-04-28T12:01:13.350Z"
   },
   {
    "duration": 137,
    "start_time": "2023-04-28T12:02:52.098Z"
   },
   {
    "duration": 5,
    "start_time": "2023-04-28T12:08:22.026Z"
   },
   {
    "duration": 15,
    "start_time": "2023-04-28T12:08:40.210Z"
   },
   {
    "duration": 134,
    "start_time": "2023-04-28T12:08:55.024Z"
   },
   {
    "duration": 13,
    "start_time": "2023-04-28T12:09:11.429Z"
   },
   {
    "duration": 132,
    "start_time": "2023-04-28T12:09:11.965Z"
   },
   {
    "duration": 15,
    "start_time": "2023-04-28T12:09:16.610Z"
   },
   {
    "duration": 130,
    "start_time": "2023-04-28T12:09:17.284Z"
   },
   {
    "duration": 11,
    "start_time": "2023-04-28T12:09:25.490Z"
   },
   {
    "duration": 149,
    "start_time": "2023-04-28T12:09:26.007Z"
   },
   {
    "duration": 10,
    "start_time": "2023-04-28T12:09:30.095Z"
   },
   {
    "duration": 132,
    "start_time": "2023-04-28T12:09:30.523Z"
   },
   {
    "duration": 12,
    "start_time": "2023-04-28T12:09:38.141Z"
   },
   {
    "duration": 163,
    "start_time": "2023-04-28T12:09:38.625Z"
   },
   {
    "duration": 4,
    "start_time": "2023-04-28T12:10:44.818Z"
   },
   {
    "duration": 3,
    "start_time": "2023-04-28T12:10:45.407Z"
   },
   {
    "duration": 12182,
    "start_time": "2023-04-28T12:10:46.163Z"
   },
   {
    "duration": 154,
    "start_time": "2023-04-28T12:11:07.180Z"
   },
   {
    "duration": 12,
    "start_time": "2023-04-28T12:11:35.907Z"
   },
   {
    "duration": 126,
    "start_time": "2023-04-28T12:11:36.888Z"
   },
   {
    "duration": 4,
    "start_time": "2023-04-28T12:11:40.578Z"
   },
   {
    "duration": 3,
    "start_time": "2023-04-28T12:11:41.072Z"
   },
   {
    "duration": 11046,
    "start_time": "2023-04-28T12:11:41.617Z"
   },
   {
    "duration": 128,
    "start_time": "2023-04-28T12:11:54.299Z"
   },
   {
    "duration": 11,
    "start_time": "2023-04-28T12:12:03.972Z"
   },
   {
    "duration": 131,
    "start_time": "2023-04-28T12:12:04.506Z"
   },
   {
    "duration": 4,
    "start_time": "2023-04-28T12:15:07.182Z"
   },
   {
    "duration": 4,
    "start_time": "2023-04-28T12:26:57.594Z"
   },
   {
    "duration": 3,
    "start_time": "2023-04-28T12:27:01.401Z"
   },
   {
    "duration": 24292,
    "start_time": "2023-04-28T12:29:09.895Z"
   },
   {
    "duration": 4,
    "start_time": "2023-04-28T12:29:37.300Z"
   },
   {
    "duration": 233,
    "start_time": "2023-04-28T12:29:42.863Z"
   },
   {
    "duration": 5,
    "start_time": "2023-04-28T12:35:10.404Z"
   },
   {
    "duration": 2,
    "start_time": "2023-04-28T12:35:11.058Z"
   },
   {
    "duration": 808,
    "start_time": "2023-04-28T12:35:11.859Z"
   },
   {
    "duration": 12503,
    "start_time": "2023-04-28T12:35:35.385Z"
   },
   {
    "duration": 5,
    "start_time": "2023-04-28T12:37:05.535Z"
   },
   {
    "duration": 3,
    "start_time": "2023-04-28T12:37:06.006Z"
   },
   {
    "duration": 9417967,
    "start_time": "2023-04-28T12:37:07.241Z"
   },
   {
    "duration": 4,
    "start_time": "2023-04-28T15:14:05.209Z"
   },
   {
    "duration": 170,
    "start_time": "2023-04-28T15:14:05.215Z"
   },
   {
    "duration": 5,
    "start_time": "2023-04-28T15:14:08.504Z"
   },
   {
    "duration": 3,
    "start_time": "2023-04-28T15:14:09.348Z"
   },
   {
    "duration": 102363,
    "start_time": "2023-04-28T15:14:18.177Z"
   },
   {
    "duration": 170,
    "start_time": "2023-04-28T15:16:00.542Z"
   },
   {
    "duration": 4,
    "start_time": "2023-04-28T15:16:04.188Z"
   },
   {
    "duration": 135,
    "start_time": "2023-04-28T15:16:05.535Z"
   },
   {
    "duration": 807,
    "start_time": "2023-04-28T15:20:07.821Z"
   },
   {
    "duration": 794,
    "start_time": "2023-04-28T15:20:26.770Z"
   },
   {
    "duration": 748,
    "start_time": "2023-04-28T15:20:34.585Z"
   },
   {
    "duration": 830,
    "start_time": "2023-04-28T15:20:50.087Z"
   },
   {
    "duration": 729,
    "start_time": "2023-04-28T15:20:55.755Z"
   },
   {
    "duration": 732,
    "start_time": "2023-04-28T15:21:20.185Z"
   },
   {
    "duration": 9,
    "start_time": "2023-04-28T15:21:28.809Z"
   },
   {
    "duration": 8,
    "start_time": "2023-04-28T15:21:33.723Z"
   },
   {
    "duration": 4,
    "start_time": "2023-04-28T15:21:44.164Z"
   },
   {
    "duration": 13,
    "start_time": "2023-04-28T15:23:32.409Z"
   },
   {
    "duration": 17,
    "start_time": "2023-04-28T15:23:50.485Z"
   },
   {
    "duration": 21,
    "start_time": "2023-04-28T15:24:10.060Z"
   },
   {
    "duration": 158,
    "start_time": "2023-04-28T15:24:15.619Z"
   },
   {
    "duration": 263292,
    "start_time": "2023-04-28T15:24:25.660Z"
   },
   {
    "duration": 13,
    "start_time": "2023-04-28T15:28:55.479Z"
   },
   {
    "duration": 49,
    "start_time": "2023-04-28T15:40:59.195Z"
   },
   {
    "duration": 6,
    "start_time": "2023-04-28T15:41:36.558Z"
   },
   {
    "duration": 4,
    "start_time": "2023-04-28T15:41:37.656Z"
   },
   {
    "duration": 5002,
    "start_time": "2023-04-28T15:41:39.322Z"
   },
   {
    "duration": 13,
    "start_time": "2023-04-28T15:41:58.113Z"
   },
   {
    "duration": 153,
    "start_time": "2023-04-28T15:42:01.121Z"
   },
   {
    "duration": 7,
    "start_time": "2023-04-28T15:44:39.048Z"
   },
   {
    "duration": 3,
    "start_time": "2023-04-28T15:44:40.234Z"
   },
   {
    "duration": 5047,
    "start_time": "2023-04-28T15:44:41.035Z"
   },
   {
    "duration": 14,
    "start_time": "2023-04-28T15:45:15.293Z"
   },
   {
    "duration": 2,
    "start_time": "2023-04-28T15:50:04.713Z"
   },
   {
    "duration": 2130,
    "start_time": "2023-04-28T15:50:05.905Z"
   },
   {
    "duration": 339,
    "start_time": "2023-04-28T15:51:04.976Z"
   },
   {
    "duration": 1395,
    "start_time": "2023-04-28T16:00:35.609Z"
   },
   {
    "duration": 68,
    "start_time": "2023-04-28T16:00:37.006Z"
   },
   {
    "duration": 15,
    "start_time": "2023-04-28T16:00:37.075Z"
   },
   {
    "duration": 10,
    "start_time": "2023-04-28T16:00:37.092Z"
   },
   {
    "duration": 13,
    "start_time": "2023-04-28T16:00:37.104Z"
   },
   {
    "duration": 28,
    "start_time": "2023-04-28T16:00:37.119Z"
   },
   {
    "duration": 1175,
    "start_time": "2023-04-28T16:00:37.149Z"
   },
   {
    "duration": 4,
    "start_time": "2023-04-28T16:00:38.326Z"
   },
   {
    "duration": 261,
    "start_time": "2023-04-28T16:00:38.332Z"
   },
   {
    "duration": 499,
    "start_time": "2023-04-28T16:00:38.597Z"
   },
   {
    "duration": 5,
    "start_time": "2023-04-28T16:00:39.098Z"
   },
   {
    "duration": 12,
    "start_time": "2023-04-28T16:00:39.112Z"
   },
   {
    "duration": 20,
    "start_time": "2023-04-28T16:00:39.126Z"
   },
   {
    "duration": 17,
    "start_time": "2023-04-28T16:00:39.148Z"
   },
   {
    "duration": 20,
    "start_time": "2023-04-28T16:00:39.167Z"
   },
   {
    "duration": 38,
    "start_time": "2023-04-28T16:00:39.188Z"
   },
   {
    "duration": 11,
    "start_time": "2023-04-28T16:00:39.228Z"
   },
   {
    "duration": 8,
    "start_time": "2023-04-28T16:00:39.241Z"
   },
   {
    "duration": 11,
    "start_time": "2023-04-28T16:00:39.251Z"
   },
   {
    "duration": 14,
    "start_time": "2023-04-28T16:00:39.263Z"
   },
   {
    "duration": 6,
    "start_time": "2023-04-28T16:00:39.278Z"
   },
   {
    "duration": 12,
    "start_time": "2023-04-28T16:00:39.285Z"
   },
   {
    "duration": 14,
    "start_time": "2023-04-28T16:00:39.299Z"
   },
   {
    "duration": 14,
    "start_time": "2023-04-28T16:00:39.315Z"
   },
   {
    "duration": 7,
    "start_time": "2023-04-28T16:00:39.332Z"
   },
   {
    "duration": 1998,
    "start_time": "2023-04-28T16:00:39.341Z"
   },
   {
    "duration": 403,
    "start_time": "2023-04-28T16:00:41.413Z"
   },
   {
    "duration": 3,
    "start_time": "2023-04-28T16:00:41.911Z"
   },
   {
    "duration": 19414,
    "start_time": "2023-04-28T16:00:52.007Z"
   },
   {
    "duration": 4,
    "start_time": "2023-04-28T16:01:18.002Z"
   },
   {
    "duration": 132,
    "start_time": "2023-04-28T16:01:22.339Z"
   },
   {
    "duration": 8,
    "start_time": "2023-04-28T16:09:58.353Z"
   },
   {
    "duration": 3,
    "start_time": "2023-04-28T16:10:53.396Z"
   },
   {
    "duration": 5001,
    "start_time": "2023-04-28T16:10:54.652Z"
   },
   {
    "duration": 13,
    "start_time": "2023-04-28T16:11:17.501Z"
   },
   {
    "duration": 4,
    "start_time": "2023-04-28T16:11:24.435Z"
   },
   {
    "duration": 170063,
    "start_time": "2023-04-28T16:11:25.307Z"
   },
   {
    "duration": 14,
    "start_time": "2023-04-28T16:14:30.777Z"
   },
   {
    "duration": 161,
    "start_time": "2023-04-28T16:14:49.521Z"
   },
   {
    "duration": 4,
    "start_time": "2023-04-28T16:17:55.010Z"
   },
   {
    "duration": 83474,
    "start_time": "2023-04-28T16:17:56.993Z"
   },
   {
    "duration": 13,
    "start_time": "2023-04-28T16:19:26.329Z"
   },
   {
    "duration": 134,
    "start_time": "2023-04-28T16:19:37.822Z"
   },
   {
    "duration": 3,
    "start_time": "2023-04-28T16:21:13.305Z"
   },
   {
    "duration": 9766,
    "start_time": "2023-04-28T16:21:14.026Z"
   },
   {
    "duration": 4,
    "start_time": "2023-04-28T16:21:26.900Z"
   },
   {
    "duration": 136,
    "start_time": "2023-04-28T16:21:27.699Z"
   },
   {
    "duration": 2,
    "start_time": "2023-04-28T16:40:42.638Z"
   },
   {
    "duration": 10042,
    "start_time": "2023-04-28T16:40:43.730Z"
   },
   {
    "duration": 4,
    "start_time": "2023-04-28T16:40:54.693Z"
   },
   {
    "duration": 149,
    "start_time": "2023-04-28T16:40:59.009Z"
   },
   {
    "duration": 3,
    "start_time": "2023-04-28T16:42:51.503Z"
   },
   {
    "duration": 85866,
    "start_time": "2023-04-28T16:42:52.559Z"
   },
   {
    "duration": 16,
    "start_time": "2023-04-28T16:44:30.740Z"
   },
   {
    "duration": 149,
    "start_time": "2023-04-28T16:44:40.726Z"
   },
   {
    "duration": 4,
    "start_time": "2023-04-28T16:45:45.972Z"
   },
   {
    "duration": 10,
    "start_time": "2023-04-28T16:45:50.246Z"
   },
   {
    "duration": 218,
    "start_time": "2023-04-28T16:45:51.358Z"
   },
   {
    "duration": 3,
    "start_time": "2023-04-28T16:48:22.765Z"
   },
   {
    "duration": 244319,
    "start_time": "2023-04-28T16:48:31.325Z"
   },
   {
    "duration": 14,
    "start_time": "2023-04-28T16:52:42.495Z"
   },
   {
    "duration": 142,
    "start_time": "2023-04-28T16:53:11.596Z"
   },
   {
    "duration": 5,
    "start_time": "2023-04-28T16:53:53.735Z"
   },
   {
    "duration": 12,
    "start_time": "2023-04-28T16:53:54.434Z"
   },
   {
    "duration": 126,
    "start_time": "2023-04-28T16:53:56.152Z"
   },
   {
    "duration": 4,
    "start_time": "2023-04-28T16:54:24.731Z"
   },
   {
    "duration": 244845,
    "start_time": "2023-04-28T16:54:26.722Z"
   },
   {
    "duration": 15,
    "start_time": "2023-04-28T16:58:42.869Z"
   },
   {
    "duration": 109541,
    "start_time": "2023-04-28T16:59:13.001Z"
   },
   {
    "duration": 17,
    "start_time": "2023-04-28T17:01:52.804Z"
   },
   {
    "duration": 13,
    "start_time": "2023-04-28T17:02:06.130Z"
   },
   {
    "duration": 142,
    "start_time": "2023-04-28T17:09:31.217Z"
   },
   {
    "duration": 1383,
    "start_time": "2023-04-28T17:22:39.702Z"
   },
   {
    "duration": 57,
    "start_time": "2023-04-28T17:22:41.087Z"
   },
   {
    "duration": 13,
    "start_time": "2023-04-28T17:22:41.145Z"
   },
   {
    "duration": 9,
    "start_time": "2023-04-28T17:22:41.161Z"
   },
   {
    "duration": 13,
    "start_time": "2023-04-28T17:22:41.172Z"
   },
   {
    "duration": 48,
    "start_time": "2023-04-28T17:22:41.186Z"
   },
   {
    "duration": 1151,
    "start_time": "2023-04-28T17:22:41.236Z"
   },
   {
    "duration": 3,
    "start_time": "2023-04-28T17:22:42.389Z"
   },
   {
    "duration": 258,
    "start_time": "2023-04-28T17:22:42.394Z"
   },
   {
    "duration": 454,
    "start_time": "2023-04-28T17:22:42.655Z"
   },
   {
    "duration": 5,
    "start_time": "2023-04-28T17:22:43.111Z"
   },
   {
    "duration": 6,
    "start_time": "2023-04-28T17:22:43.118Z"
   },
   {
    "duration": 17,
    "start_time": "2023-04-28T17:22:43.126Z"
   },
   {
    "duration": 13,
    "start_time": "2023-04-28T17:22:43.144Z"
   },
   {
    "duration": 19,
    "start_time": "2023-04-28T17:22:43.159Z"
   },
   {
    "duration": 39,
    "start_time": "2023-04-28T17:22:43.179Z"
   },
   {
    "duration": 8,
    "start_time": "2023-04-28T17:22:43.219Z"
   },
   {
    "duration": 8,
    "start_time": "2023-04-28T17:22:43.229Z"
   },
   {
    "duration": 8,
    "start_time": "2023-04-28T17:22:43.239Z"
   },
   {
    "duration": 29,
    "start_time": "2023-04-28T17:22:43.248Z"
   },
   {
    "duration": 35,
    "start_time": "2023-04-28T17:22:43.279Z"
   },
   {
    "duration": 30,
    "start_time": "2023-04-28T17:22:43.316Z"
   },
   {
    "duration": 55,
    "start_time": "2023-04-28T17:22:43.349Z"
   },
   {
    "duration": 18,
    "start_time": "2023-04-28T17:22:43.407Z"
   },
   {
    "duration": 43,
    "start_time": "2023-04-28T17:22:43.427Z"
   },
   {
    "duration": 2061,
    "start_time": "2023-04-28T17:22:43.473Z"
   },
   {
    "duration": 482,
    "start_time": "2023-04-28T17:22:45.537Z"
   },
   {
    "duration": 88,
    "start_time": "2023-04-28T17:22:46.024Z"
   },
   {
    "duration": 9825,
    "start_time": "2023-04-28T17:22:46.115Z"
   },
   {
    "duration": 5,
    "start_time": "2023-04-28T17:22:55.942Z"
   },
   {
    "duration": 167,
    "start_time": "2023-04-28T17:22:55.949Z"
   },
   {
    "duration": 7,
    "start_time": "2023-04-28T17:22:56.118Z"
   },
   {
    "duration": 12,
    "start_time": "2023-04-28T17:22:56.127Z"
   },
   {
    "duration": 85323,
    "start_time": "2023-04-28T17:22:56.141Z"
   },
   {
    "duration": 18,
    "start_time": "2023-04-28T17:24:21.466Z"
   },
   {
    "duration": 154,
    "start_time": "2023-04-28T17:24:21.486Z"
   },
   {
    "duration": 152,
    "start_time": "2023-04-28T17:24:21.642Z"
   },
   {
    "duration": 5,
    "start_time": "2023-04-28T17:24:21.796Z"
   },
   {
    "duration": 14,
    "start_time": "2023-04-28T17:24:21.812Z"
   },
   {
    "duration": 150,
    "start_time": "2023-04-28T17:24:21.828Z"
   },
   {
    "duration": 3,
    "start_time": "2023-04-28T17:24:21.980Z"
   },
   {
    "duration": 249582,
    "start_time": "2023-04-28T17:24:21.985Z"
   },
   {
    "duration": 14,
    "start_time": "2023-04-28T17:28:31.569Z"
   },
   {
    "duration": 183,
    "start_time": "2023-04-28T17:28:31.584Z"
   },
   {
    "duration": 5,
    "start_time": "2023-04-28T17:28:31.768Z"
   },
   {
    "duration": 44,
    "start_time": "2023-04-28T17:28:31.775Z"
   },
   {
    "duration": 140,
    "start_time": "2023-04-28T17:28:31.821Z"
   },
   {
    "duration": 4,
    "start_time": "2023-04-28T17:28:31.963Z"
   },
   {
    "duration": 109968,
    "start_time": "2023-04-28T17:28:31.968Z"
   },
   {
    "duration": 12,
    "start_time": "2023-04-28T17:30:21.938Z"
   },
   {
    "duration": 165,
    "start_time": "2023-04-28T17:30:21.952Z"
   },
   {
    "duration": 3,
    "start_time": "2023-04-28T17:30:22.119Z"
   },
   {
    "duration": 89085,
    "start_time": "2023-04-28T17:30:22.124Z"
   },
   {
    "duration": 15,
    "start_time": "2023-04-28T17:31:51.212Z"
   },
   {
    "duration": 166,
    "start_time": "2023-04-28T17:31:51.229Z"
   },
   {
    "duration": 170,
    "start_time": "2023-04-28T17:31:51.396Z"
   },
   {
    "duration": 5,
    "start_time": "2023-04-28T17:34:47.689Z"
   },
   {
    "duration": 4,
    "start_time": "2023-04-28T17:35:03.231Z"
   },
   {
    "duration": 3,
    "start_time": "2023-04-28T17:35:27.412Z"
   },
   {
    "duration": 3139,
    "start_time": "2023-04-28T19:46:35.282Z"
   },
   {
    "duration": 222,
    "start_time": "2023-04-28T19:46:38.424Z"
   },
   {
    "duration": 15,
    "start_time": "2023-04-28T19:46:38.648Z"
   },
   {
    "duration": 22,
    "start_time": "2023-04-28T19:46:38.665Z"
   },
   {
    "duration": 32,
    "start_time": "2023-04-28T19:46:38.689Z"
   },
   {
    "duration": 36,
    "start_time": "2023-04-28T19:46:38.725Z"
   },
   {
    "duration": 1368,
    "start_time": "2023-04-28T19:46:38.763Z"
   },
   {
    "duration": 3,
    "start_time": "2023-04-28T19:46:40.134Z"
   },
   {
    "duration": 186,
    "start_time": "2023-04-28T19:46:40.139Z"
   },
   {
    "duration": 488,
    "start_time": "2023-04-28T19:46:40.332Z"
   },
   {
    "duration": 9,
    "start_time": "2023-04-28T19:46:40.825Z"
   },
   {
    "duration": 13,
    "start_time": "2023-04-28T19:46:40.836Z"
   },
   {
    "duration": 18,
    "start_time": "2023-04-28T19:46:40.851Z"
   },
   {
    "duration": 46,
    "start_time": "2023-04-28T19:46:40.871Z"
   },
   {
    "duration": 20,
    "start_time": "2023-04-28T19:46:40.918Z"
   },
   {
    "duration": 14,
    "start_time": "2023-04-28T19:46:40.940Z"
   },
   {
    "duration": 6,
    "start_time": "2023-04-28T19:46:40.956Z"
   },
   {
    "duration": 15,
    "start_time": "2023-04-28T19:46:40.964Z"
   },
   {
    "duration": 29,
    "start_time": "2023-04-28T19:46:40.981Z"
   },
   {
    "duration": 13,
    "start_time": "2023-04-28T19:46:41.012Z"
   },
   {
    "duration": 9,
    "start_time": "2023-04-28T19:46:41.028Z"
   },
   {
    "duration": 24,
    "start_time": "2023-04-28T19:46:41.039Z"
   },
   {
    "duration": 16,
    "start_time": "2023-04-28T19:46:41.065Z"
   },
   {
    "duration": 8,
    "start_time": "2023-04-28T19:46:41.083Z"
   },
   {
    "duration": 21,
    "start_time": "2023-04-28T19:46:41.093Z"
   },
   {
    "duration": 2727,
    "start_time": "2023-04-28T19:46:41.116Z"
   },
   {
    "duration": 477,
    "start_time": "2023-04-28T19:46:43.845Z"
   },
   {
    "duration": 7,
    "start_time": "2023-04-28T19:46:44.326Z"
   },
   {
    "duration": 10572,
    "start_time": "2023-04-28T19:46:44.335Z"
   },
   {
    "duration": 9,
    "start_time": "2023-04-28T19:46:54.918Z"
   },
   {
    "duration": 140,
    "start_time": "2023-04-28T19:46:54.933Z"
   },
   {
    "duration": 7,
    "start_time": "2023-04-28T19:46:55.075Z"
   },
   {
    "duration": 10,
    "start_time": "2023-04-28T19:46:55.095Z"
   },
   {
    "duration": 94277,
    "start_time": "2023-04-28T19:46:55.107Z"
   },
   {
    "duration": 17,
    "start_time": "2023-04-28T19:48:29.386Z"
   },
   {
    "duration": 169,
    "start_time": "2023-04-28T19:48:29.405Z"
   },
   {
    "duration": 155,
    "start_time": "2023-04-28T19:48:29.575Z"
   },
   {
    "duration": 4,
    "start_time": "2023-04-28T19:48:29.732Z"
   },
   {
    "duration": 19,
    "start_time": "2023-04-28T19:48:29.738Z"
   },
   {
    "duration": 161,
    "start_time": "2023-04-28T19:48:29.758Z"
   },
   {
    "duration": 6,
    "start_time": "2023-04-28T19:48:29.921Z"
   },
   {
    "duration": 274054,
    "start_time": "2023-04-28T19:48:29.929Z"
   },
   {
    "duration": 15,
    "start_time": "2023-04-28T19:53:03.985Z"
   },
   {
    "duration": 152,
    "start_time": "2023-04-28T19:53:04.006Z"
   },
   {
    "duration": 5,
    "start_time": "2023-04-28T19:53:04.160Z"
   },
   {
    "duration": 39,
    "start_time": "2023-04-28T19:53:04.166Z"
   },
   {
    "duration": 131,
    "start_time": "2023-04-28T19:53:04.206Z"
   },
   {
    "duration": 3,
    "start_time": "2023-04-28T19:53:04.338Z"
   },
   {
    "duration": 114220,
    "start_time": "2023-04-28T19:53:04.343Z"
   },
   {
    "duration": 12,
    "start_time": "2023-04-28T19:54:58.565Z"
   },
   {
    "duration": 180,
    "start_time": "2023-04-28T19:54:58.578Z"
   },
   {
    "duration": 4,
    "start_time": "2023-04-28T19:54:58.759Z"
   },
   {
    "duration": 93387,
    "start_time": "2023-04-28T19:54:58.764Z"
   },
   {
    "duration": 21,
    "start_time": "2023-04-28T19:56:32.154Z"
   },
   {
    "duration": 222,
    "start_time": "2023-04-28T19:56:32.177Z"
   },
   {
    "duration": 208,
    "start_time": "2023-04-28T19:56:32.402Z"
   },
   {
    "duration": 1715,
    "start_time": "2023-04-29T07:36:34.002Z"
   },
   {
    "duration": 96,
    "start_time": "2023-04-29T07:36:35.720Z"
   },
   {
    "duration": 15,
    "start_time": "2023-04-29T07:36:35.819Z"
   },
   {
    "duration": 28,
    "start_time": "2023-04-29T07:36:35.836Z"
   },
   {
    "duration": 22,
    "start_time": "2023-04-29T07:36:35.866Z"
   },
   {
    "duration": 31,
    "start_time": "2023-04-29T07:36:35.889Z"
   },
   {
    "duration": 1255,
    "start_time": "2023-04-29T07:36:35.922Z"
   },
   {
    "duration": 2,
    "start_time": "2023-04-29T07:36:37.183Z"
   },
   {
    "duration": 173,
    "start_time": "2023-04-29T07:36:37.187Z"
   },
   {
    "duration": 444,
    "start_time": "2023-04-29T07:36:37.364Z"
   },
   {
    "duration": 5,
    "start_time": "2023-04-29T07:36:37.810Z"
   },
   {
    "duration": 14,
    "start_time": "2023-04-29T07:36:37.816Z"
   },
   {
    "duration": 22,
    "start_time": "2023-04-29T07:36:37.832Z"
   },
   {
    "duration": 14,
    "start_time": "2023-04-29T07:36:37.856Z"
   },
   {
    "duration": 26,
    "start_time": "2023-04-29T07:36:37.872Z"
   },
   {
    "duration": 18,
    "start_time": "2023-04-29T07:36:37.900Z"
   },
   {
    "duration": 11,
    "start_time": "2023-04-29T07:36:37.920Z"
   },
   {
    "duration": 22,
    "start_time": "2023-04-29T07:36:37.933Z"
   },
   {
    "duration": 24,
    "start_time": "2023-04-29T07:36:37.957Z"
   },
   {
    "duration": 22,
    "start_time": "2023-04-29T07:36:37.982Z"
   },
   {
    "duration": 14,
    "start_time": "2023-04-29T07:36:38.006Z"
   },
   {
    "duration": 21,
    "start_time": "2023-04-29T07:36:38.022Z"
   },
   {
    "duration": 23,
    "start_time": "2023-04-29T07:36:38.046Z"
   },
   {
    "duration": 15,
    "start_time": "2023-04-29T07:36:38.070Z"
   },
   {
    "duration": 17,
    "start_time": "2023-04-29T07:36:38.087Z"
   },
   {
    "duration": 2494,
    "start_time": "2023-04-29T07:36:38.106Z"
   },
   {
    "duration": 486,
    "start_time": "2023-04-29T07:36:40.603Z"
   },
   {
    "duration": 89,
    "start_time": "2023-04-29T07:36:41.095Z"
   },
   {
    "duration": 9198,
    "start_time": "2023-04-29T07:36:41.186Z"
   },
   {
    "duration": 4,
    "start_time": "2023-04-29T07:36:50.386Z"
   },
   {
    "duration": 136,
    "start_time": "2023-04-29T07:36:50.391Z"
   },
   {
    "duration": 5,
    "start_time": "2023-04-29T07:36:50.529Z"
   },
   {
    "duration": 22,
    "start_time": "2023-04-29T07:36:50.536Z"
   },
   {
    "duration": 78874,
    "start_time": "2023-04-29T07:36:50.559Z"
   },
   {
    "duration": 11,
    "start_time": "2023-04-29T07:38:09.435Z"
   },
   {
    "duration": 157,
    "start_time": "2023-04-29T07:38:09.447Z"
   },
   {
    "duration": 131,
    "start_time": "2023-04-29T07:38:09.605Z"
   },
   {
    "duration": 6,
    "start_time": "2023-04-29T07:38:09.737Z"
   },
   {
    "duration": 32,
    "start_time": "2023-04-29T07:38:09.745Z"
   },
   {
    "duration": 136,
    "start_time": "2023-04-29T07:38:09.779Z"
   },
   {
    "duration": 3,
    "start_time": "2023-04-29T07:38:09.917Z"
   },
   {
    "duration": 236712,
    "start_time": "2023-04-29T07:38:09.922Z"
   },
   {
    "duration": 13,
    "start_time": "2023-04-29T07:42:06.635Z"
   },
   {
    "duration": 167,
    "start_time": "2023-04-29T07:42:06.649Z"
   },
   {
    "duration": 4,
    "start_time": "2023-04-29T07:42:06.818Z"
   },
   {
    "duration": 15,
    "start_time": "2023-04-29T07:42:06.824Z"
   },
   {
    "duration": 145,
    "start_time": "2023-04-29T07:42:06.840Z"
   },
   {
    "duration": 3,
    "start_time": "2023-04-29T07:42:06.987Z"
   },
   {
    "duration": 105304,
    "start_time": "2023-04-29T07:42:06.991Z"
   },
   {
    "duration": 12,
    "start_time": "2023-04-29T07:43:52.297Z"
   },
   {
    "duration": 141,
    "start_time": "2023-04-29T07:43:52.311Z"
   },
   {
    "duration": 4,
    "start_time": "2023-04-29T07:43:52.453Z"
   },
   {
    "duration": 84972,
    "start_time": "2023-04-29T07:43:52.458Z"
   },
   {
    "duration": 11,
    "start_time": "2023-04-29T07:45:17.432Z"
   },
   {
    "duration": 156,
    "start_time": "2023-04-29T07:45:17.445Z"
   },
   {
    "duration": 154,
    "start_time": "2023-04-29T07:45:17.603Z"
   },
   {
    "duration": 123,
    "start_time": "2023-04-29T08:24:47.583Z"
   },
   {
    "duration": 4,
    "start_time": "2023-04-29T08:24:58.749Z"
   },
   {
    "duration": 11,
    "start_time": "2023-04-29T08:25:01.004Z"
   },
   {
    "duration": 124,
    "start_time": "2023-04-29T08:25:10.829Z"
   },
   {
    "duration": 11,
    "start_time": "2023-04-29T08:25:21.899Z"
   },
   {
    "duration": 135,
    "start_time": "2023-04-29T08:25:25.382Z"
   },
   {
    "duration": 1299,
    "start_time": "2023-04-29T08:26:06.836Z"
   },
   {
    "duration": 56,
    "start_time": "2023-04-29T08:26:08.137Z"
   },
   {
    "duration": 15,
    "start_time": "2023-04-29T08:26:08.194Z"
   },
   {
    "duration": 19,
    "start_time": "2023-04-29T08:26:08.212Z"
   },
   {
    "duration": 12,
    "start_time": "2023-04-29T08:26:08.234Z"
   },
   {
    "duration": 42,
    "start_time": "2023-04-29T08:26:08.248Z"
   },
   {
    "duration": 1203,
    "start_time": "2023-04-29T08:26:08.292Z"
   },
   {
    "duration": 4,
    "start_time": "2023-04-29T08:26:09.496Z"
   },
   {
    "duration": 219,
    "start_time": "2023-04-29T08:26:09.501Z"
   },
   {
    "duration": 416,
    "start_time": "2023-04-29T08:26:09.724Z"
   },
   {
    "duration": 4,
    "start_time": "2023-04-29T08:26:10.141Z"
   },
   {
    "duration": 28,
    "start_time": "2023-04-29T08:26:10.147Z"
   },
   {
    "duration": 19,
    "start_time": "2023-04-29T08:26:10.177Z"
   },
   {
    "duration": 15,
    "start_time": "2023-04-29T08:26:10.197Z"
   },
   {
    "duration": 2,
    "start_time": "2023-04-29T08:26:10.214Z"
   },
   {
    "duration": 19,
    "start_time": "2023-04-29T08:26:10.218Z"
   },
   {
    "duration": 16,
    "start_time": "2023-04-29T08:26:10.239Z"
   },
   {
    "duration": 20,
    "start_time": "2023-04-29T08:26:10.257Z"
   },
   {
    "duration": 7,
    "start_time": "2023-04-29T08:26:10.279Z"
   },
   {
    "duration": 20,
    "start_time": "2023-04-29T08:26:10.288Z"
   },
   {
    "duration": 19,
    "start_time": "2023-04-29T08:26:10.310Z"
   },
   {
    "duration": 15,
    "start_time": "2023-04-29T08:26:10.331Z"
   },
   {
    "duration": 14,
    "start_time": "2023-04-29T08:26:10.348Z"
   },
   {
    "duration": 21,
    "start_time": "2023-04-29T08:26:10.363Z"
   },
   {
    "duration": 6,
    "start_time": "2023-04-29T08:26:10.386Z"
   },
   {
    "duration": 15,
    "start_time": "2023-04-29T08:26:10.394Z"
   },
   {
    "duration": 8,
    "start_time": "2023-04-29T08:26:10.411Z"
   },
   {
    "duration": 2181,
    "start_time": "2023-04-29T08:26:10.423Z"
   },
   {
    "duration": 479,
    "start_time": "2023-04-29T08:26:12.606Z"
   },
   {
    "duration": 4,
    "start_time": "2023-04-29T08:26:13.087Z"
   },
   {
    "duration": 9154,
    "start_time": "2023-04-29T08:26:13.093Z"
   },
   {
    "duration": 3,
    "start_time": "2023-04-29T08:26:22.249Z"
   },
   {
    "duration": 148,
    "start_time": "2023-04-29T08:26:22.254Z"
   },
   {
    "duration": 6,
    "start_time": "2023-04-29T08:26:22.404Z"
   },
   {
    "duration": 12,
    "start_time": "2023-04-29T08:26:22.411Z"
   },
   {
    "duration": 84600,
    "start_time": "2023-04-29T08:26:22.424Z"
   },
   {
    "duration": 12,
    "start_time": "2023-04-29T08:27:47.026Z"
   },
   {
    "duration": 151,
    "start_time": "2023-04-29T08:27:47.040Z"
   },
   {
    "duration": 135,
    "start_time": "2023-04-29T08:27:47.193Z"
   },
   {
    "duration": 5,
    "start_time": "2023-04-29T08:27:47.330Z"
   },
   {
    "duration": 24,
    "start_time": "2023-04-29T08:27:47.337Z"
   },
   {
    "duration": 133,
    "start_time": "2023-04-29T08:27:47.363Z"
   },
   {
    "duration": 3,
    "start_time": "2023-04-29T08:27:47.498Z"
   },
   {
    "duration": 107130,
    "start_time": "2023-04-29T08:27:47.503Z"
   },
   {
    "duration": 12,
    "start_time": "2023-04-29T08:29:34.635Z"
   },
   {
    "duration": 146,
    "start_time": "2023-04-29T08:29:34.649Z"
   },
   {
    "duration": 7,
    "start_time": "2023-04-29T08:29:34.797Z"
   },
   {
    "duration": 22,
    "start_time": "2023-04-29T08:29:34.806Z"
   },
   {
    "duration": 166,
    "start_time": "2023-04-29T08:29:34.831Z"
   },
   {
    "duration": 5,
    "start_time": "2023-04-29T08:29:34.999Z"
   },
   {
    "duration": 50511,
    "start_time": "2023-04-29T08:29:35.005Z"
   },
   {
    "duration": 12,
    "start_time": "2023-04-29T08:30:25.518Z"
   },
   {
    "duration": 164,
    "start_time": "2023-04-29T08:30:25.532Z"
   },
   {
    "duration": 3,
    "start_time": "2023-04-29T08:30:25.698Z"
   },
   {
    "duration": 83419,
    "start_time": "2023-04-29T08:30:25.702Z"
   },
   {
    "duration": 13,
    "start_time": "2023-04-29T08:31:49.123Z"
   },
   {
    "duration": 156,
    "start_time": "2023-04-29T08:31:49.137Z"
   },
   {
    "duration": 158,
    "start_time": "2023-04-29T08:31:49.294Z"
   },
   {
    "duration": 9,
    "start_time": "2023-04-29T08:49:30.003Z"
   },
   {
    "duration": 116,
    "start_time": "2023-04-29T08:49:31.867Z"
   },
   {
    "duration": 6,
    "start_time": "2023-04-29T08:49:42.110Z"
   },
   {
    "duration": 6,
    "start_time": "2023-04-29T08:49:53.361Z"
   },
   {
    "duration": 26,
    "start_time": "2023-04-29T08:50:39.377Z"
   },
   {
    "duration": 15,
    "start_time": "2023-04-29T08:51:38.667Z"
   },
   {
    "duration": 14,
    "start_time": "2023-04-29T08:52:30.335Z"
   },
   {
    "duration": 16,
    "start_time": "2023-04-29T08:53:10.389Z"
   },
   {
    "duration": 17,
    "start_time": "2023-04-29T08:53:27.746Z"
   },
   {
    "duration": 1510,
    "start_time": "2023-04-29T08:53:47.694Z"
   },
   {
    "duration": 55,
    "start_time": "2023-04-29T08:53:49.206Z"
   },
   {
    "duration": 13,
    "start_time": "2023-04-29T08:53:49.263Z"
   },
   {
    "duration": 9,
    "start_time": "2023-04-29T08:53:49.279Z"
   },
   {
    "duration": 22,
    "start_time": "2023-04-29T08:53:49.290Z"
   },
   {
    "duration": 26,
    "start_time": "2023-04-29T08:53:49.314Z"
   },
   {
    "duration": 1192,
    "start_time": "2023-04-29T08:53:49.342Z"
   },
   {
    "duration": 3,
    "start_time": "2023-04-29T08:53:50.536Z"
   },
   {
    "duration": 254,
    "start_time": "2023-04-29T08:53:50.540Z"
   },
   {
    "duration": 414,
    "start_time": "2023-04-29T08:53:50.797Z"
   },
   {
    "duration": 3,
    "start_time": "2023-04-29T08:53:51.213Z"
   },
   {
    "duration": 25,
    "start_time": "2023-04-29T08:53:51.218Z"
   },
   {
    "duration": 26,
    "start_time": "2023-04-29T08:53:51.244Z"
   },
   {
    "duration": 36,
    "start_time": "2023-04-29T08:53:51.272Z"
   },
   {
    "duration": 6,
    "start_time": "2023-04-29T08:53:51.310Z"
   },
   {
    "duration": 8,
    "start_time": "2023-04-29T08:53:51.318Z"
   },
   {
    "duration": 13,
    "start_time": "2023-04-29T08:53:51.328Z"
   },
   {
    "duration": 35,
    "start_time": "2023-04-29T08:53:51.343Z"
   },
   {
    "duration": 12,
    "start_time": "2023-04-29T08:53:51.380Z"
   },
   {
    "duration": 12,
    "start_time": "2023-04-29T08:53:51.394Z"
   },
   {
    "duration": 19,
    "start_time": "2023-04-29T08:53:51.407Z"
   },
   {
    "duration": 13,
    "start_time": "2023-04-29T08:53:51.427Z"
   },
   {
    "duration": 23,
    "start_time": "2023-04-29T08:53:51.442Z"
   },
   {
    "duration": 30,
    "start_time": "2023-04-29T08:53:51.467Z"
   },
   {
    "duration": 7,
    "start_time": "2023-04-29T08:53:51.498Z"
   },
   {
    "duration": 7,
    "start_time": "2023-04-29T08:53:51.507Z"
   },
   {
    "duration": 10,
    "start_time": "2023-04-29T08:53:51.515Z"
   },
   {
    "duration": 1768,
    "start_time": "2023-04-29T08:53:51.529Z"
   },
   {
    "duration": 487,
    "start_time": "2023-04-29T08:53:53.299Z"
   },
   {
    "duration": 3,
    "start_time": "2023-04-29T08:53:53.789Z"
   },
   {
    "duration": 10101,
    "start_time": "2023-04-29T08:53:53.884Z"
   },
   {
    "duration": 4,
    "start_time": "2023-04-29T08:54:03.988Z"
   },
   {
    "duration": 148,
    "start_time": "2023-04-29T08:54:03.994Z"
   },
   {
    "duration": 5,
    "start_time": "2023-04-29T08:54:04.144Z"
   },
   {
    "duration": 13,
    "start_time": "2023-04-29T08:54:04.151Z"
   },
   {
    "duration": 22413,
    "start_time": "2023-04-29T08:54:04.165Z"
   },
   {
    "duration": 9,
    "start_time": "2023-04-29T08:54:26.580Z"
   },
   {
    "duration": 0,
    "start_time": "2023-04-29T08:54:26.591Z"
   },
   {
    "duration": 0,
    "start_time": "2023-04-29T08:54:26.592Z"
   },
   {
    "duration": 0,
    "start_time": "2023-04-29T08:54:26.594Z"
   },
   {
    "duration": 0,
    "start_time": "2023-04-29T08:54:26.595Z"
   },
   {
    "duration": 0,
    "start_time": "2023-04-29T08:54:26.596Z"
   },
   {
    "duration": 0,
    "start_time": "2023-04-29T08:54:26.597Z"
   },
   {
    "duration": 0,
    "start_time": "2023-04-29T08:54:26.599Z"
   },
   {
    "duration": 0,
    "start_time": "2023-04-29T08:54:26.600Z"
   },
   {
    "duration": 0,
    "start_time": "2023-04-29T08:54:26.601Z"
   },
   {
    "duration": 0,
    "start_time": "2023-04-29T08:54:26.603Z"
   },
   {
    "duration": 0,
    "start_time": "2023-04-29T08:54:26.604Z"
   },
   {
    "duration": 0,
    "start_time": "2023-04-29T08:54:26.605Z"
   },
   {
    "duration": 0,
    "start_time": "2023-04-29T08:54:26.607Z"
   },
   {
    "duration": 0,
    "start_time": "2023-04-29T08:54:26.608Z"
   },
   {
    "duration": 0,
    "start_time": "2023-04-29T08:54:26.610Z"
   },
   {
    "duration": 0,
    "start_time": "2023-04-29T08:54:26.612Z"
   },
   {
    "duration": 0,
    "start_time": "2023-04-29T08:54:26.613Z"
   },
   {
    "duration": 0,
    "start_time": "2023-04-29T08:54:26.614Z"
   },
   {
    "duration": 0,
    "start_time": "2023-04-29T08:54:26.615Z"
   },
   {
    "duration": 0,
    "start_time": "2023-04-29T08:54:26.616Z"
   },
   {
    "duration": 0,
    "start_time": "2023-04-29T08:54:26.619Z"
   },
   {
    "duration": 10,
    "start_time": "2023-04-29T08:54:41.767Z"
   },
   {
    "duration": 11,
    "start_time": "2023-04-29T08:54:45.578Z"
   },
   {
    "duration": 10,
    "start_time": "2023-04-29T08:55:14.123Z"
   },
   {
    "duration": 4,
    "start_time": "2023-04-29T08:55:27.125Z"
   },
   {
    "duration": 52,
    "start_time": "2023-04-29T08:55:27.145Z"
   },
   {
    "duration": 12,
    "start_time": "2023-04-29T08:55:27.200Z"
   },
   {
    "duration": 6,
    "start_time": "2023-04-29T08:55:27.214Z"
   },
   {
    "duration": 22,
    "start_time": "2023-04-29T08:55:27.222Z"
   },
   {
    "duration": 46,
    "start_time": "2023-04-29T08:55:27.247Z"
   },
   {
    "duration": 1136,
    "start_time": "2023-04-29T08:55:27.294Z"
   },
   {
    "duration": 3,
    "start_time": "2023-04-29T08:55:28.432Z"
   },
   {
    "duration": 160,
    "start_time": "2023-04-29T08:55:28.436Z"
   },
   {
    "duration": 385,
    "start_time": "2023-04-29T08:55:28.598Z"
   },
   {
    "duration": 4,
    "start_time": "2023-04-29T08:55:28.985Z"
   },
   {
    "duration": 15,
    "start_time": "2023-04-29T08:55:28.990Z"
   },
   {
    "duration": 15,
    "start_time": "2023-04-29T08:55:29.006Z"
   },
   {
    "duration": 12,
    "start_time": "2023-04-29T08:55:29.022Z"
   },
   {
    "duration": 3,
    "start_time": "2023-04-29T08:55:29.036Z"
   },
   {
    "duration": 10,
    "start_time": "2023-04-29T08:55:29.041Z"
   },
   {
    "duration": 13,
    "start_time": "2023-04-29T08:55:29.053Z"
   },
   {
    "duration": 22,
    "start_time": "2023-04-29T08:55:29.068Z"
   },
   {
    "duration": 5,
    "start_time": "2023-04-29T08:55:29.093Z"
   },
   {
    "duration": 10,
    "start_time": "2023-04-29T08:55:29.099Z"
   },
   {
    "duration": 13,
    "start_time": "2023-04-29T08:55:37.517Z"
   },
   {
    "duration": 17,
    "start_time": "2023-04-29T08:56:02.657Z"
   },
   {
    "duration": 11,
    "start_time": "2023-04-29T08:56:03.575Z"
   },
   {
    "duration": 10,
    "start_time": "2023-04-29T08:56:27.908Z"
   },
   {
    "duration": 23,
    "start_time": "2023-04-29T08:56:36.753Z"
   },
   {
    "duration": 17,
    "start_time": "2023-04-29T08:56:37.462Z"
   },
   {
    "duration": 1766,
    "start_time": "2023-04-29T09:01:09.910Z"
   },
   {
    "duration": 58,
    "start_time": "2023-04-29T09:01:11.678Z"
   },
   {
    "duration": 14,
    "start_time": "2023-04-29T09:01:11.739Z"
   },
   {
    "duration": 26,
    "start_time": "2023-04-29T09:01:11.756Z"
   },
   {
    "duration": 44,
    "start_time": "2023-04-29T09:01:11.784Z"
   },
   {
    "duration": 41,
    "start_time": "2023-04-29T09:01:11.830Z"
   },
   {
    "duration": 1177,
    "start_time": "2023-04-29T09:01:11.872Z"
   },
   {
    "duration": 3,
    "start_time": "2023-04-29T09:01:13.050Z"
   },
   {
    "duration": 260,
    "start_time": "2023-04-29T09:01:13.054Z"
   },
   {
    "duration": 390,
    "start_time": "2023-04-29T09:01:13.317Z"
   },
   {
    "duration": 4,
    "start_time": "2023-04-29T09:01:13.708Z"
   },
   {
    "duration": 14,
    "start_time": "2023-04-29T09:01:13.713Z"
   },
   {
    "duration": 22,
    "start_time": "2023-04-29T09:01:13.728Z"
   },
   {
    "duration": 14,
    "start_time": "2023-04-29T09:01:13.751Z"
   },
   {
    "duration": 2,
    "start_time": "2023-04-29T09:01:13.767Z"
   },
   {
    "duration": 16,
    "start_time": "2023-04-29T09:01:13.770Z"
   },
   {
    "duration": 11,
    "start_time": "2023-04-29T09:01:13.788Z"
   },
   {
    "duration": 13,
    "start_time": "2023-04-29T09:01:13.800Z"
   },
   {
    "duration": 6,
    "start_time": "2023-04-29T09:01:13.815Z"
   },
   {
    "duration": 6,
    "start_time": "2023-04-29T09:01:13.823Z"
   },
   {
    "duration": 10,
    "start_time": "2023-04-29T09:01:13.831Z"
   },
   {
    "duration": 28,
    "start_time": "2023-04-29T09:01:13.842Z"
   },
   {
    "duration": 20,
    "start_time": "2023-04-29T09:01:13.872Z"
   },
   {
    "duration": 12,
    "start_time": "2023-04-29T09:01:13.893Z"
   },
   {
    "duration": 19,
    "start_time": "2023-04-29T09:01:13.907Z"
   },
   {
    "duration": 11,
    "start_time": "2023-04-29T09:01:13.927Z"
   },
   {
    "duration": 5,
    "start_time": "2023-04-29T09:01:13.939Z"
   },
   {
    "duration": 21,
    "start_time": "2023-04-29T09:01:13.947Z"
   },
   {
    "duration": 16,
    "start_time": "2023-04-29T09:01:13.970Z"
   },
   {
    "duration": 12,
    "start_time": "2023-04-29T09:01:13.988Z"
   },
   {
    "duration": 12,
    "start_time": "2023-04-29T09:01:14.001Z"
   },
   {
    "duration": 3187,
    "start_time": "2023-04-29T09:01:14.015Z"
   },
   {
    "duration": 484,
    "start_time": "2023-04-29T09:01:17.203Z"
   },
   {
    "duration": 4,
    "start_time": "2023-04-29T09:01:17.690Z"
   },
   {
    "duration": 10203,
    "start_time": "2023-04-29T09:01:17.784Z"
   },
   {
    "duration": 3,
    "start_time": "2023-04-29T09:01:27.989Z"
   },
   {
    "duration": 141,
    "start_time": "2023-04-29T09:01:27.993Z"
   },
   {
    "duration": 6,
    "start_time": "2023-04-29T09:01:28.135Z"
   },
   {
    "duration": 19,
    "start_time": "2023-04-29T09:01:28.143Z"
   },
   {
    "duration": 83331,
    "start_time": "2023-04-29T09:01:28.164Z"
   },
   {
    "duration": 12,
    "start_time": "2023-04-29T09:02:51.497Z"
   },
   {
    "duration": 158,
    "start_time": "2023-04-29T09:02:51.511Z"
   },
   {
    "duration": 131,
    "start_time": "2023-04-29T09:02:51.682Z"
   },
   {
    "duration": 4,
    "start_time": "2023-04-29T09:02:51.815Z"
   },
   {
    "duration": 23,
    "start_time": "2023-04-29T09:02:51.820Z"
   },
   {
    "duration": 133,
    "start_time": "2023-04-29T09:02:51.844Z"
   },
   {
    "duration": 3,
    "start_time": "2023-04-29T09:02:51.983Z"
   },
   {
    "duration": 109048,
    "start_time": "2023-04-29T09:02:51.988Z"
   },
   {
    "duration": 11,
    "start_time": "2023-04-29T09:04:41.038Z"
   },
   {
    "duration": 189,
    "start_time": "2023-04-29T09:04:41.051Z"
   },
   {
    "duration": 5,
    "start_time": "2023-04-29T09:04:41.242Z"
   },
   {
    "duration": 25,
    "start_time": "2023-04-29T09:04:41.249Z"
   },
   {
    "duration": 134,
    "start_time": "2023-04-29T09:04:41.276Z"
   },
   {
    "duration": 3,
    "start_time": "2023-04-29T09:04:41.412Z"
   },
   {
    "duration": 51169,
    "start_time": "2023-04-29T09:04:41.417Z"
   },
   {
    "duration": 13,
    "start_time": "2023-04-29T09:05:32.590Z"
   },
   {
    "duration": 148,
    "start_time": "2023-04-29T09:05:32.604Z"
   },
   {
    "duration": 4,
    "start_time": "2023-04-29T09:05:32.753Z"
   },
   {
    "duration": 82096,
    "start_time": "2023-04-29T09:05:32.758Z"
   },
   {
    "duration": 26,
    "start_time": "2023-04-29T09:06:54.857Z"
   },
   {
    "duration": 161,
    "start_time": "2023-04-29T09:06:54.886Z"
   },
   {
    "duration": 160,
    "start_time": "2023-04-29T09:06:55.049Z"
   },
   {
    "duration": 3,
    "start_time": "2023-04-29T09:11:07.999Z"
   },
   {
    "duration": 9,
    "start_time": "2023-04-29T09:11:08.714Z"
   },
   {
    "duration": 13,
    "start_time": "2023-04-29T09:11:10.615Z"
   },
   {
    "duration": 1572,
    "start_time": "2023-04-29T09:12:00.960Z"
   },
   {
    "duration": 61,
    "start_time": "2023-04-29T09:12:02.534Z"
   },
   {
    "duration": 16,
    "start_time": "2023-04-29T09:12:02.597Z"
   },
   {
    "duration": 26,
    "start_time": "2023-04-29T09:12:02.615Z"
   },
   {
    "duration": 38,
    "start_time": "2023-04-29T09:12:02.643Z"
   },
   {
    "duration": 31,
    "start_time": "2023-04-29T09:12:02.683Z"
   },
   {
    "duration": 1218,
    "start_time": "2023-04-29T09:12:02.716Z"
   },
   {
    "duration": 4,
    "start_time": "2023-04-29T09:12:03.936Z"
   },
   {
    "duration": 276,
    "start_time": "2023-04-29T09:12:03.942Z"
   },
   {
    "duration": 416,
    "start_time": "2023-04-29T09:12:04.221Z"
   },
   {
    "duration": 5,
    "start_time": "2023-04-29T09:12:04.639Z"
   },
   {
    "duration": 10,
    "start_time": "2023-04-29T09:12:04.645Z"
   },
   {
    "duration": 26,
    "start_time": "2023-04-29T09:12:04.657Z"
   },
   {
    "duration": 35,
    "start_time": "2023-04-29T09:12:04.685Z"
   },
   {
    "duration": 20,
    "start_time": "2023-04-29T09:12:04.722Z"
   },
   {
    "duration": 31,
    "start_time": "2023-04-29T09:12:04.744Z"
   },
   {
    "duration": 45,
    "start_time": "2023-04-29T09:12:04.777Z"
   },
   {
    "duration": 287,
    "start_time": "2023-04-29T09:12:04.824Z"
   },
   {
    "duration": 0,
    "start_time": "2023-04-29T09:12:05.115Z"
   },
   {
    "duration": 0,
    "start_time": "2023-04-29T09:12:05.116Z"
   },
   {
    "duration": 0,
    "start_time": "2023-04-29T09:12:05.117Z"
   },
   {
    "duration": 0,
    "start_time": "2023-04-29T09:12:05.119Z"
   },
   {
    "duration": 0,
    "start_time": "2023-04-29T09:12:05.120Z"
   },
   {
    "duration": 0,
    "start_time": "2023-04-29T09:12:05.121Z"
   },
   {
    "duration": 0,
    "start_time": "2023-04-29T09:12:05.123Z"
   },
   {
    "duration": 0,
    "start_time": "2023-04-29T09:12:05.124Z"
   },
   {
    "duration": 0,
    "start_time": "2023-04-29T09:12:05.125Z"
   },
   {
    "duration": 0,
    "start_time": "2023-04-29T09:12:05.127Z"
   },
   {
    "duration": 0,
    "start_time": "2023-04-29T09:12:05.128Z"
   },
   {
    "duration": 0,
    "start_time": "2023-04-29T09:12:05.130Z"
   },
   {
    "duration": 0,
    "start_time": "2023-04-29T09:12:05.131Z"
   },
   {
    "duration": 0,
    "start_time": "2023-04-29T09:12:05.133Z"
   },
   {
    "duration": 0,
    "start_time": "2023-04-29T09:12:05.134Z"
   },
   {
    "duration": 0,
    "start_time": "2023-04-29T09:12:05.135Z"
   },
   {
    "duration": 0,
    "start_time": "2023-04-29T09:12:05.137Z"
   },
   {
    "duration": 0,
    "start_time": "2023-04-29T09:12:05.138Z"
   },
   {
    "duration": 0,
    "start_time": "2023-04-29T09:12:05.184Z"
   },
   {
    "duration": 0,
    "start_time": "2023-04-29T09:12:05.185Z"
   },
   {
    "duration": 0,
    "start_time": "2023-04-29T09:12:05.187Z"
   },
   {
    "duration": 0,
    "start_time": "2023-04-29T09:12:05.188Z"
   },
   {
    "duration": 0,
    "start_time": "2023-04-29T09:12:05.190Z"
   },
   {
    "duration": 0,
    "start_time": "2023-04-29T09:12:05.191Z"
   },
   {
    "duration": 0,
    "start_time": "2023-04-29T09:12:05.194Z"
   },
   {
    "duration": 0,
    "start_time": "2023-04-29T09:12:05.195Z"
   },
   {
    "duration": 0,
    "start_time": "2023-04-29T09:12:05.196Z"
   },
   {
    "duration": 0,
    "start_time": "2023-04-29T09:12:05.197Z"
   },
   {
    "duration": 0,
    "start_time": "2023-04-29T09:12:05.198Z"
   },
   {
    "duration": 0,
    "start_time": "2023-04-29T09:12:05.199Z"
   },
   {
    "duration": 0,
    "start_time": "2023-04-29T09:12:05.199Z"
   },
   {
    "duration": 0,
    "start_time": "2023-04-29T09:12:05.203Z"
   },
   {
    "duration": 0,
    "start_time": "2023-04-29T09:12:05.203Z"
   },
   {
    "duration": 0,
    "start_time": "2023-04-29T09:12:05.204Z"
   },
   {
    "duration": 0,
    "start_time": "2023-04-29T09:12:05.205Z"
   },
   {
    "duration": 0,
    "start_time": "2023-04-29T09:12:05.206Z"
   },
   {
    "duration": 0,
    "start_time": "2023-04-29T09:12:05.207Z"
   },
   {
    "duration": 0,
    "start_time": "2023-04-29T09:12:05.208Z"
   },
   {
    "duration": 1,
    "start_time": "2023-04-29T09:12:05.208Z"
   },
   {
    "duration": 0,
    "start_time": "2023-04-29T09:12:05.209Z"
   },
   {
    "duration": 0,
    "start_time": "2023-04-29T09:12:05.210Z"
   },
   {
    "duration": 0,
    "start_time": "2023-04-29T09:12:05.213Z"
   },
   {
    "duration": 0,
    "start_time": "2023-04-29T09:12:05.214Z"
   },
   {
    "duration": 0,
    "start_time": "2023-04-29T09:12:05.215Z"
   },
   {
    "duration": 0,
    "start_time": "2023-04-29T09:12:05.217Z"
   },
   {
    "duration": 4,
    "start_time": "2023-04-29T09:20:27.766Z"
   },
   {
    "duration": 50,
    "start_time": "2023-04-29T09:20:27.777Z"
   },
   {
    "duration": 11,
    "start_time": "2023-04-29T09:20:27.829Z"
   },
   {
    "duration": 6,
    "start_time": "2023-04-29T09:20:27.842Z"
   },
   {
    "duration": 15,
    "start_time": "2023-04-29T09:20:27.849Z"
   },
   {
    "duration": 27,
    "start_time": "2023-04-29T09:20:27.866Z"
   },
   {
    "duration": 1007,
    "start_time": "2023-04-29T09:20:27.895Z"
   },
   {
    "duration": 3,
    "start_time": "2023-04-29T09:20:28.903Z"
   },
   {
    "duration": 152,
    "start_time": "2023-04-29T09:20:28.907Z"
   },
   {
    "duration": 442,
    "start_time": "2023-04-29T09:20:29.061Z"
   },
   {
    "duration": 4,
    "start_time": "2023-04-29T09:20:29.505Z"
   },
   {
    "duration": 12,
    "start_time": "2023-04-29T09:20:29.510Z"
   },
   {
    "duration": 15,
    "start_time": "2023-04-29T09:20:29.524Z"
   },
   {
    "duration": 10,
    "start_time": "2023-04-29T09:20:29.540Z"
   },
   {
    "duration": 2,
    "start_time": "2023-04-29T09:20:29.552Z"
   },
   {
    "duration": 8,
    "start_time": "2023-04-29T09:20:29.555Z"
   },
   {
    "duration": 6,
    "start_time": "2023-04-29T09:20:29.565Z"
   },
   {
    "duration": 4,
    "start_time": "2023-04-29T09:20:29.583Z"
   },
   {
    "duration": 6,
    "start_time": "2023-04-29T09:20:35.107Z"
   },
   {
    "duration": 4,
    "start_time": "2023-04-29T09:21:00.097Z"
   },
   {
    "duration": 80,
    "start_time": "2023-04-29T09:21:00.108Z"
   },
   {
    "duration": 17,
    "start_time": "2023-04-29T09:21:00.191Z"
   },
   {
    "duration": 17,
    "start_time": "2023-04-29T09:21:00.210Z"
   },
   {
    "duration": 11,
    "start_time": "2023-04-29T09:21:00.229Z"
   },
   {
    "duration": 67,
    "start_time": "2023-04-29T09:21:00.244Z"
   },
   {
    "duration": 1130,
    "start_time": "2023-04-29T09:21:00.313Z"
   },
   {
    "duration": 3,
    "start_time": "2023-04-29T09:21:01.445Z"
   },
   {
    "duration": 169,
    "start_time": "2023-04-29T09:21:01.449Z"
   },
   {
    "duration": 387,
    "start_time": "2023-04-29T09:21:01.620Z"
   },
   {
    "duration": 4,
    "start_time": "2023-04-29T09:21:02.009Z"
   },
   {
    "duration": 41,
    "start_time": "2023-04-29T09:21:02.014Z"
   },
   {
    "duration": 33,
    "start_time": "2023-04-29T09:21:02.057Z"
   },
   {
    "duration": 45,
    "start_time": "2023-04-29T09:21:02.091Z"
   },
   {
    "duration": 9,
    "start_time": "2023-04-29T09:21:02.140Z"
   },
   {
    "duration": 18,
    "start_time": "2023-04-29T09:21:02.150Z"
   },
   {
    "duration": 26,
    "start_time": "2023-04-29T09:21:02.170Z"
   },
   {
    "duration": 29,
    "start_time": "2023-04-29T09:21:02.198Z"
   },
   {
    "duration": 136,
    "start_time": "2023-04-29T09:21:02.228Z"
   },
   {
    "duration": 6,
    "start_time": "2023-04-29T09:21:02.365Z"
   },
   {
    "duration": 13,
    "start_time": "2023-04-29T09:21:02.383Z"
   },
   {
    "duration": 35,
    "start_time": "2023-04-29T09:21:02.397Z"
   },
   {
    "duration": 23,
    "start_time": "2023-04-29T09:21:02.434Z"
   },
   {
    "duration": 14,
    "start_time": "2023-04-29T09:21:02.459Z"
   },
   {
    "duration": 18,
    "start_time": "2023-04-29T09:21:02.474Z"
   },
   {
    "duration": 28,
    "start_time": "2023-04-29T09:21:02.494Z"
   },
   {
    "duration": 43,
    "start_time": "2023-04-29T09:21:02.523Z"
   },
   {
    "duration": 26,
    "start_time": "2023-04-29T09:21:02.567Z"
   },
   {
    "duration": 27,
    "start_time": "2023-04-29T09:21:02.594Z"
   },
   {
    "duration": 9,
    "start_time": "2023-04-29T09:21:02.622Z"
   },
   {
    "duration": 15,
    "start_time": "2023-04-29T09:21:02.632Z"
   },
   {
    "duration": 5,
    "start_time": "2023-04-29T09:21:02.649Z"
   },
   {
    "duration": 9829,
    "start_time": "2023-04-29T09:21:02.656Z"
   },
   {
    "duration": 497,
    "start_time": "2023-04-29T09:21:12.487Z"
   },
   {
    "duration": 3,
    "start_time": "2023-04-29T09:21:12.986Z"
   },
   {
    "duration": 7482,
    "start_time": "2023-04-29T09:21:12.990Z"
   },
   {
    "duration": 10,
    "start_time": "2023-04-29T09:21:20.474Z"
   },
   {
    "duration": 142,
    "start_time": "2023-04-29T09:21:20.486Z"
   },
   {
    "duration": 6,
    "start_time": "2023-04-29T09:21:20.630Z"
   },
   {
    "duration": 20,
    "start_time": "2023-04-29T09:21:20.637Z"
   },
   {
    "duration": 70510,
    "start_time": "2023-04-29T09:21:20.658Z"
   },
   {
    "duration": 16,
    "start_time": "2023-04-29T09:22:31.172Z"
   },
   {
    "duration": 173,
    "start_time": "2023-04-29T09:22:31.190Z"
   },
   {
    "duration": 145,
    "start_time": "2023-04-29T09:22:31.365Z"
   },
   {
    "duration": 5,
    "start_time": "2023-04-29T09:22:31.512Z"
   },
   {
    "duration": 48,
    "start_time": "2023-04-29T09:22:31.519Z"
   },
   {
    "duration": 139,
    "start_time": "2023-04-29T09:22:31.569Z"
   },
   {
    "duration": 4,
    "start_time": "2023-04-29T09:22:31.710Z"
   },
   {
    "duration": 95859,
    "start_time": "2023-04-29T09:22:31.715Z"
   },
   {
    "duration": 26,
    "start_time": "2023-04-29T09:24:07.576Z"
   },
   {
    "duration": 150,
    "start_time": "2023-04-29T09:24:07.604Z"
   },
   {
    "duration": 4,
    "start_time": "2023-04-29T09:24:07.756Z"
   },
   {
    "duration": 38,
    "start_time": "2023-04-29T09:24:07.762Z"
   },
   {
    "duration": 139,
    "start_time": "2023-04-29T09:24:07.802Z"
   },
   {
    "duration": 3,
    "start_time": "2023-04-29T09:24:07.943Z"
   },
   {
    "duration": 50885,
    "start_time": "2023-04-29T09:24:07.948Z"
   },
   {
    "duration": 16,
    "start_time": "2023-04-29T09:24:58.835Z"
   },
   {
    "duration": 163,
    "start_time": "2023-04-29T09:24:58.853Z"
   },
   {
    "duration": 4,
    "start_time": "2023-04-29T09:24:59.017Z"
   },
   {
    "duration": 75472,
    "start_time": "2023-04-29T09:24:59.023Z"
   },
   {
    "duration": 12,
    "start_time": "2023-04-29T09:26:14.496Z"
   },
   {
    "duration": 144,
    "start_time": "2023-04-29T09:26:14.510Z"
   },
   {
    "duration": 140,
    "start_time": "2023-04-29T09:26:14.655Z"
   },
   {
    "duration": 1414,
    "start_time": "2023-04-29T09:30:19.276Z"
   },
   {
    "duration": 58,
    "start_time": "2023-04-29T09:30:20.692Z"
   },
   {
    "duration": 12,
    "start_time": "2023-04-29T09:30:20.752Z"
   },
   {
    "duration": 37,
    "start_time": "2023-04-29T09:30:20.765Z"
   },
   {
    "duration": 26,
    "start_time": "2023-04-29T09:30:20.804Z"
   },
   {
    "duration": 33,
    "start_time": "2023-04-29T09:30:20.832Z"
   },
   {
    "duration": 1101,
    "start_time": "2023-04-29T09:30:20.867Z"
   },
   {
    "duration": 3,
    "start_time": "2023-04-29T09:30:21.969Z"
   },
   {
    "duration": 273,
    "start_time": "2023-04-29T09:30:21.973Z"
   },
   {
    "duration": 416,
    "start_time": "2023-04-29T09:30:22.248Z"
   },
   {
    "duration": 5,
    "start_time": "2023-04-29T09:30:22.666Z"
   },
   {
    "duration": 31,
    "start_time": "2023-04-29T09:30:22.682Z"
   },
   {
    "duration": 25,
    "start_time": "2023-04-29T09:30:22.715Z"
   },
   {
    "duration": 23,
    "start_time": "2023-04-29T09:30:22.742Z"
   },
   {
    "duration": 24,
    "start_time": "2023-04-29T09:30:22.767Z"
   },
   {
    "duration": 19,
    "start_time": "2023-04-29T09:30:22.792Z"
   },
   {
    "duration": 52,
    "start_time": "2023-04-29T09:30:22.813Z"
   },
   {
    "duration": 44,
    "start_time": "2023-04-29T09:30:22.867Z"
   },
   {
    "duration": 37,
    "start_time": "2023-04-29T09:30:22.912Z"
   },
   {
    "duration": 59,
    "start_time": "2023-04-29T09:30:22.950Z"
   },
   {
    "duration": 34,
    "start_time": "2023-04-29T09:30:23.011Z"
   },
   {
    "duration": 32,
    "start_time": "2023-04-29T09:30:23.047Z"
   },
   {
    "duration": 40,
    "start_time": "2023-04-29T09:30:23.081Z"
   },
   {
    "duration": 26,
    "start_time": "2023-04-29T09:30:23.123Z"
   },
   {
    "duration": 52,
    "start_time": "2023-04-29T09:30:23.151Z"
   },
   {
    "duration": 33,
    "start_time": "2023-04-29T09:30:23.205Z"
   },
   {
    "duration": 12,
    "start_time": "2023-04-29T09:30:23.240Z"
   },
   {
    "duration": 16,
    "start_time": "2023-04-29T09:30:23.257Z"
   },
   {
    "duration": 33,
    "start_time": "2023-04-29T09:30:23.275Z"
   },
   {
    "duration": 17,
    "start_time": "2023-04-29T09:30:23.309Z"
   },
   {
    "duration": 20,
    "start_time": "2023-04-29T09:30:23.328Z"
   },
   {
    "duration": 20,
    "start_time": "2023-04-29T09:30:23.350Z"
   },
   {
    "duration": 14336,
    "start_time": "2023-04-29T09:30:23.372Z"
   },
   {
    "duration": 427,
    "start_time": "2023-04-29T09:30:37.782Z"
   },
   {
    "duration": 6,
    "start_time": "2023-04-29T09:30:38.284Z"
   },
   {
    "duration": 8311,
    "start_time": "2023-04-29T09:30:38.295Z"
   },
   {
    "duration": 4,
    "start_time": "2023-04-29T09:30:46.607Z"
   },
   {
    "duration": 162,
    "start_time": "2023-04-29T09:30:46.613Z"
   },
   {
    "duration": 8,
    "start_time": "2023-04-29T09:30:46.790Z"
   },
   {
    "duration": 29,
    "start_time": "2023-04-29T09:30:46.800Z"
   },
   {
    "duration": 26640,
    "start_time": "2023-04-29T09:30:46.831Z"
   },
   {
    "duration": 9,
    "start_time": "2023-04-29T09:31:13.473Z"
   },
   {
    "duration": 0,
    "start_time": "2023-04-29T09:31:13.484Z"
   },
   {
    "duration": 0,
    "start_time": "2023-04-29T09:31:13.486Z"
   },
   {
    "duration": 0,
    "start_time": "2023-04-29T09:31:13.487Z"
   },
   {
    "duration": 0,
    "start_time": "2023-04-29T09:31:13.488Z"
   },
   {
    "duration": 0,
    "start_time": "2023-04-29T09:31:13.498Z"
   },
   {
    "duration": 0,
    "start_time": "2023-04-29T09:31:13.499Z"
   },
   {
    "duration": 0,
    "start_time": "2023-04-29T09:31:13.500Z"
   },
   {
    "duration": 0,
    "start_time": "2023-04-29T09:31:13.501Z"
   },
   {
    "duration": 0,
    "start_time": "2023-04-29T09:31:13.503Z"
   },
   {
    "duration": 0,
    "start_time": "2023-04-29T09:31:13.505Z"
   },
   {
    "duration": 0,
    "start_time": "2023-04-29T09:31:13.506Z"
   },
   {
    "duration": 0,
    "start_time": "2023-04-29T09:31:13.507Z"
   },
   {
    "duration": 0,
    "start_time": "2023-04-29T09:31:13.508Z"
   },
   {
    "duration": 0,
    "start_time": "2023-04-29T09:31:13.511Z"
   },
   {
    "duration": 0,
    "start_time": "2023-04-29T09:31:13.512Z"
   },
   {
    "duration": 0,
    "start_time": "2023-04-29T09:31:13.513Z"
   },
   {
    "duration": 0,
    "start_time": "2023-04-29T09:31:13.514Z"
   },
   {
    "duration": 0,
    "start_time": "2023-04-29T09:31:13.515Z"
   },
   {
    "duration": 0,
    "start_time": "2023-04-29T09:31:13.516Z"
   },
   {
    "duration": 0,
    "start_time": "2023-04-29T09:31:13.518Z"
   },
   {
    "duration": 0,
    "start_time": "2023-04-29T09:31:13.518Z"
   },
   {
    "duration": 4,
    "start_time": "2023-04-29T09:32:23.612Z"
   },
   {
    "duration": 57,
    "start_time": "2023-04-29T09:32:23.623Z"
   },
   {
    "duration": 18,
    "start_time": "2023-04-29T09:32:23.683Z"
   },
   {
    "duration": 9,
    "start_time": "2023-04-29T09:32:23.704Z"
   },
   {
    "duration": 28,
    "start_time": "2023-04-29T09:32:23.714Z"
   },
   {
    "duration": 64,
    "start_time": "2023-04-29T09:32:23.745Z"
   },
   {
    "duration": 1386,
    "start_time": "2023-04-29T09:32:23.811Z"
   },
   {
    "duration": 2,
    "start_time": "2023-04-29T09:32:25.199Z"
   },
   {
    "duration": 181,
    "start_time": "2023-04-29T09:32:25.203Z"
   },
   {
    "duration": 467,
    "start_time": "2023-04-29T09:32:25.385Z"
   },
   {
    "duration": 5,
    "start_time": "2023-04-29T09:32:25.854Z"
   },
   {
    "duration": 22,
    "start_time": "2023-04-29T09:32:25.860Z"
   },
   {
    "duration": 17,
    "start_time": "2023-04-29T09:32:25.885Z"
   },
   {
    "duration": 25,
    "start_time": "2023-04-29T09:32:25.903Z"
   },
   {
    "duration": 7,
    "start_time": "2023-04-29T09:32:25.933Z"
   },
   {
    "duration": 15,
    "start_time": "2023-04-29T09:32:25.942Z"
   },
   {
    "duration": 9,
    "start_time": "2023-04-29T09:32:25.959Z"
   },
   {
    "duration": 20,
    "start_time": "2023-04-29T09:32:25.970Z"
   },
   {
    "duration": 12,
    "start_time": "2023-04-29T09:32:25.992Z"
   },
   {
    "duration": 39,
    "start_time": "2023-04-29T09:32:26.006Z"
   },
   {
    "duration": 14,
    "start_time": "2023-04-29T09:32:26.048Z"
   },
   {
    "duration": 39,
    "start_time": "2023-04-29T09:32:26.064Z"
   },
   {
    "duration": 31,
    "start_time": "2023-04-29T09:32:26.104Z"
   },
   {
    "duration": 23,
    "start_time": "2023-04-29T09:32:26.137Z"
   },
   {
    "duration": 47,
    "start_time": "2023-04-29T09:32:26.162Z"
   },
   {
    "duration": 30,
    "start_time": "2023-04-29T09:32:26.210Z"
   },
   {
    "duration": 35,
    "start_time": "2023-04-29T09:32:26.242Z"
   },
   {
    "duration": 15,
    "start_time": "2023-04-29T09:32:26.279Z"
   },
   {
    "duration": 14,
    "start_time": "2023-04-29T09:32:26.296Z"
   },
   {
    "duration": 6,
    "start_time": "2023-04-29T09:32:26.312Z"
   },
   {
    "duration": 7,
    "start_time": "2023-04-29T09:32:26.320Z"
   },
   {
    "duration": 7,
    "start_time": "2023-04-29T09:32:26.329Z"
   },
   {
    "duration": 19750,
    "start_time": "2023-04-29T09:32:26.337Z"
   },
   {
    "duration": 395,
    "start_time": "2023-04-29T09:32:46.090Z"
   },
   {
    "duration": 4,
    "start_time": "2023-04-29T09:32:46.489Z"
   },
   {
    "duration": 8473,
    "start_time": "2023-04-29T09:32:46.496Z"
   },
   {
    "duration": 4,
    "start_time": "2023-04-29T09:32:54.971Z"
   },
   {
    "duration": 141,
    "start_time": "2023-04-29T09:32:54.983Z"
   },
   {
    "duration": 6,
    "start_time": "2023-04-29T09:32:55.126Z"
   },
   {
    "duration": 36,
    "start_time": "2023-04-29T09:32:55.143Z"
   },
   {
    "duration": 36110,
    "start_time": "2023-04-29T09:32:55.182Z"
   },
   {
    "duration": 12,
    "start_time": "2023-04-29T09:33:31.297Z"
   },
   {
    "duration": 0,
    "start_time": "2023-04-29T09:33:31.311Z"
   },
   {
    "duration": 0,
    "start_time": "2023-04-29T09:33:31.312Z"
   },
   {
    "duration": 0,
    "start_time": "2023-04-29T09:33:31.314Z"
   },
   {
    "duration": 0,
    "start_time": "2023-04-29T09:33:31.315Z"
   },
   {
    "duration": 0,
    "start_time": "2023-04-29T09:33:31.317Z"
   },
   {
    "duration": 0,
    "start_time": "2023-04-29T09:33:31.318Z"
   },
   {
    "duration": 0,
    "start_time": "2023-04-29T09:33:31.319Z"
   },
   {
    "duration": 0,
    "start_time": "2023-04-29T09:33:31.320Z"
   },
   {
    "duration": 0,
    "start_time": "2023-04-29T09:33:31.321Z"
   },
   {
    "duration": 0,
    "start_time": "2023-04-29T09:33:31.322Z"
   },
   {
    "duration": 0,
    "start_time": "2023-04-29T09:33:31.323Z"
   },
   {
    "duration": 0,
    "start_time": "2023-04-29T09:33:31.324Z"
   },
   {
    "duration": 0,
    "start_time": "2023-04-29T09:33:31.325Z"
   },
   {
    "duration": 1,
    "start_time": "2023-04-29T09:33:31.326Z"
   },
   {
    "duration": 0,
    "start_time": "2023-04-29T09:33:31.328Z"
   },
   {
    "duration": 0,
    "start_time": "2023-04-29T09:33:31.329Z"
   },
   {
    "duration": 0,
    "start_time": "2023-04-29T09:33:31.331Z"
   },
   {
    "duration": 0,
    "start_time": "2023-04-29T09:33:31.332Z"
   },
   {
    "duration": 0,
    "start_time": "2023-04-29T09:33:31.333Z"
   },
   {
    "duration": 0,
    "start_time": "2023-04-29T09:33:31.334Z"
   },
   {
    "duration": 0,
    "start_time": "2023-04-29T09:33:31.335Z"
   },
   {
    "duration": 1482,
    "start_time": "2023-04-29T09:33:50.947Z"
   },
   {
    "duration": 59,
    "start_time": "2023-04-29T09:33:52.432Z"
   },
   {
    "duration": 17,
    "start_time": "2023-04-29T09:33:52.493Z"
   },
   {
    "duration": 27,
    "start_time": "2023-04-29T09:33:52.512Z"
   },
   {
    "duration": 41,
    "start_time": "2023-04-29T09:33:52.541Z"
   },
   {
    "duration": 67,
    "start_time": "2023-04-29T09:33:52.584Z"
   },
   {
    "duration": 1190,
    "start_time": "2023-04-29T09:33:52.652Z"
   },
   {
    "duration": 3,
    "start_time": "2023-04-29T09:33:53.844Z"
   },
   {
    "duration": 248,
    "start_time": "2023-04-29T09:33:53.849Z"
   },
   {
    "duration": 413,
    "start_time": "2023-04-29T09:33:54.100Z"
   },
   {
    "duration": 4,
    "start_time": "2023-04-29T09:33:54.515Z"
   },
   {
    "duration": 15,
    "start_time": "2023-04-29T09:33:54.520Z"
   },
   {
    "duration": 30,
    "start_time": "2023-04-29T09:33:54.536Z"
   },
   {
    "duration": 18,
    "start_time": "2023-04-29T09:33:54.568Z"
   },
   {
    "duration": 10,
    "start_time": "2023-04-29T09:33:54.589Z"
   },
   {
    "duration": 19,
    "start_time": "2023-04-29T09:33:54.601Z"
   },
   {
    "duration": 23,
    "start_time": "2023-04-29T09:33:54.623Z"
   },
   {
    "duration": 42,
    "start_time": "2023-04-29T09:33:54.648Z"
   },
   {
    "duration": 22,
    "start_time": "2023-04-29T09:33:54.692Z"
   },
   {
    "duration": 25,
    "start_time": "2023-04-29T09:33:54.716Z"
   },
   {
    "duration": 33,
    "start_time": "2023-04-29T09:33:54.743Z"
   },
   {
    "duration": 49,
    "start_time": "2023-04-29T09:33:54.778Z"
   },
   {
    "duration": 48,
    "start_time": "2023-04-29T09:33:54.829Z"
   },
   {
    "duration": 60,
    "start_time": "2023-04-29T09:33:54.879Z"
   },
   {
    "duration": 39,
    "start_time": "2023-04-29T09:33:54.941Z"
   },
   {
    "duration": 88,
    "start_time": "2023-04-29T09:33:54.983Z"
   },
   {
    "duration": 50,
    "start_time": "2023-04-29T09:33:55.073Z"
   },
   {
    "duration": 28,
    "start_time": "2023-04-29T09:33:55.128Z"
   },
   {
    "duration": 18,
    "start_time": "2023-04-29T09:33:55.157Z"
   },
   {
    "duration": 19,
    "start_time": "2023-04-29T09:33:55.177Z"
   },
   {
    "duration": 21,
    "start_time": "2023-04-29T09:33:55.198Z"
   },
   {
    "duration": 15,
    "start_time": "2023-04-29T09:33:55.220Z"
   },
   {
    "duration": 17776,
    "start_time": "2023-04-29T09:33:55.237Z"
   },
   {
    "duration": 483,
    "start_time": "2023-04-29T09:34:13.015Z"
   },
   {
    "duration": 4,
    "start_time": "2023-04-29T09:34:13.501Z"
   },
   {
    "duration": 8588,
    "start_time": "2023-04-29T09:34:13.508Z"
   },
   {
    "duration": 5,
    "start_time": "2023-04-29T09:34:22.098Z"
   },
   {
    "duration": 153,
    "start_time": "2023-04-29T09:34:22.105Z"
   },
   {
    "duration": 7,
    "start_time": "2023-04-29T09:34:22.260Z"
   },
   {
    "duration": 25,
    "start_time": "2023-04-29T09:34:22.282Z"
   },
   {
    "duration": 5643,
    "start_time": "2023-04-29T09:34:22.309Z"
   },
   {
    "duration": 14,
    "start_time": "2023-04-29T09:34:27.954Z"
   },
   {
    "duration": 0,
    "start_time": "2023-04-29T09:34:27.970Z"
   },
   {
    "duration": 0,
    "start_time": "2023-04-29T09:34:27.971Z"
   },
   {
    "duration": 1,
    "start_time": "2023-04-29T09:34:27.972Z"
   },
   {
    "duration": 1,
    "start_time": "2023-04-29T09:34:27.974Z"
   },
   {
    "duration": 0,
    "start_time": "2023-04-29T09:34:27.976Z"
   },
   {
    "duration": 0,
    "start_time": "2023-04-29T09:34:27.977Z"
   },
   {
    "duration": 0,
    "start_time": "2023-04-29T09:34:27.979Z"
   },
   {
    "duration": 0,
    "start_time": "2023-04-29T09:34:27.980Z"
   },
   {
    "duration": 0,
    "start_time": "2023-04-29T09:34:27.981Z"
   },
   {
    "duration": 0,
    "start_time": "2023-04-29T09:34:27.982Z"
   },
   {
    "duration": 0,
    "start_time": "2023-04-29T09:34:27.984Z"
   },
   {
    "duration": 0,
    "start_time": "2023-04-29T09:34:27.984Z"
   },
   {
    "duration": 0,
    "start_time": "2023-04-29T09:34:27.986Z"
   },
   {
    "duration": 0,
    "start_time": "2023-04-29T09:34:27.987Z"
   },
   {
    "duration": 0,
    "start_time": "2023-04-29T09:34:27.988Z"
   },
   {
    "duration": 0,
    "start_time": "2023-04-29T09:34:27.988Z"
   },
   {
    "duration": 1,
    "start_time": "2023-04-29T09:34:27.989Z"
   },
   {
    "duration": 0,
    "start_time": "2023-04-29T09:34:27.991Z"
   },
   {
    "duration": 0,
    "start_time": "2023-04-29T09:34:27.991Z"
   },
   {
    "duration": 0,
    "start_time": "2023-04-29T09:34:27.992Z"
   },
   {
    "duration": 0,
    "start_time": "2023-04-29T09:34:27.992Z"
   },
   {
    "duration": 8,
    "start_time": "2023-04-29T09:35:23.782Z"
   },
   {
    "duration": 60,
    "start_time": "2023-04-29T09:35:23.807Z"
   },
   {
    "duration": 17,
    "start_time": "2023-04-29T09:35:23.869Z"
   },
   {
    "duration": 8,
    "start_time": "2023-04-29T09:35:23.888Z"
   },
   {
    "duration": 20,
    "start_time": "2023-04-29T09:35:23.901Z"
   },
   {
    "duration": 49,
    "start_time": "2023-04-29T09:35:23.923Z"
   },
   {
    "duration": 1276,
    "start_time": "2023-04-29T09:35:23.974Z"
   },
   {
    "duration": 3,
    "start_time": "2023-04-29T09:35:25.252Z"
   },
   {
    "duration": 259,
    "start_time": "2023-04-29T09:35:25.256Z"
   },
   {
    "duration": 430,
    "start_time": "2023-04-29T09:35:25.516Z"
   },
   {
    "duration": 5,
    "start_time": "2023-04-29T09:35:25.948Z"
   },
   {
    "duration": 12,
    "start_time": "2023-04-29T09:35:25.954Z"
   },
   {
    "duration": 31,
    "start_time": "2023-04-29T09:35:25.968Z"
   },
   {
    "duration": 19,
    "start_time": "2023-04-29T09:35:26.001Z"
   },
   {
    "duration": 2,
    "start_time": "2023-04-29T09:35:26.022Z"
   },
   {
    "duration": 9,
    "start_time": "2023-04-29T09:35:26.026Z"
   },
   {
    "duration": 8,
    "start_time": "2023-04-29T09:35:26.037Z"
   },
   {
    "duration": 8,
    "start_time": "2023-04-29T09:35:26.047Z"
   },
   {
    "duration": 7,
    "start_time": "2023-04-29T09:35:26.056Z"
   },
   {
    "duration": 9,
    "start_time": "2023-04-29T09:35:26.064Z"
   },
   {
    "duration": 13,
    "start_time": "2023-04-29T09:35:26.083Z"
   },
   {
    "duration": 19,
    "start_time": "2023-04-29T09:35:26.098Z"
   },
   {
    "duration": 11,
    "start_time": "2023-04-29T09:35:26.118Z"
   },
   {
    "duration": 10,
    "start_time": "2023-04-29T09:35:26.130Z"
   },
   {
    "duration": 11,
    "start_time": "2023-04-29T09:35:26.141Z"
   },
   {
    "duration": 47,
    "start_time": "2023-04-29T09:35:26.154Z"
   },
   {
    "duration": 14,
    "start_time": "2023-04-29T09:35:26.203Z"
   },
   {
    "duration": 5,
    "start_time": "2023-04-29T09:35:26.219Z"
   },
   {
    "duration": 6,
    "start_time": "2023-04-29T09:35:26.225Z"
   },
   {
    "duration": 6,
    "start_time": "2023-04-29T09:35:29.929Z"
   },
   {
    "duration": 1638,
    "start_time": "2023-04-29T09:36:06.802Z"
   },
   {
    "duration": 64,
    "start_time": "2023-04-29T09:36:08.442Z"
   },
   {
    "duration": 13,
    "start_time": "2023-04-29T09:36:08.508Z"
   },
   {
    "duration": 18,
    "start_time": "2023-04-29T09:36:08.527Z"
   },
   {
    "duration": 52,
    "start_time": "2023-04-29T09:36:08.548Z"
   },
   {
    "duration": 36,
    "start_time": "2023-04-29T09:36:08.605Z"
   },
   {
    "duration": 1407,
    "start_time": "2023-04-29T09:36:08.644Z"
   },
   {
    "duration": 3,
    "start_time": "2023-04-29T09:36:10.054Z"
   },
   {
    "duration": 513,
    "start_time": "2023-04-29T09:36:10.059Z"
   },
   {
    "duration": 566,
    "start_time": "2023-04-29T09:36:10.586Z"
   },
   {
    "duration": 5,
    "start_time": "2023-04-29T09:36:11.154Z"
   },
   {
    "duration": 9,
    "start_time": "2023-04-29T09:36:11.160Z"
   },
   {
    "duration": 23,
    "start_time": "2023-04-29T09:36:11.170Z"
   },
   {
    "duration": 50,
    "start_time": "2023-04-29T09:36:11.196Z"
   },
   {
    "duration": 18,
    "start_time": "2023-04-29T09:36:11.248Z"
   },
   {
    "duration": 49,
    "start_time": "2023-04-29T09:36:11.268Z"
   },
   {
    "duration": 85,
    "start_time": "2023-04-29T09:36:11.319Z"
   },
   {
    "duration": 58,
    "start_time": "2023-04-29T09:36:11.406Z"
   },
   {
    "duration": 65,
    "start_time": "2023-04-29T09:36:11.466Z"
   },
   {
    "duration": 29,
    "start_time": "2023-04-29T09:36:11.533Z"
   },
   {
    "duration": 69,
    "start_time": "2023-04-29T09:36:11.564Z"
   },
   {
    "duration": 28,
    "start_time": "2023-04-29T09:36:11.634Z"
   },
   {
    "duration": 36,
    "start_time": "2023-04-29T09:36:11.664Z"
   },
   {
    "duration": 29,
    "start_time": "2023-04-29T09:36:11.708Z"
   },
   {
    "duration": 17,
    "start_time": "2023-04-29T09:36:11.739Z"
   },
   {
    "duration": 29,
    "start_time": "2023-04-29T09:36:11.757Z"
   },
   {
    "duration": 38,
    "start_time": "2023-04-29T09:36:11.795Z"
   },
   {
    "duration": 24,
    "start_time": "2023-04-29T09:36:11.839Z"
   },
   {
    "duration": 63,
    "start_time": "2023-04-29T09:36:11.865Z"
   },
   {
    "duration": 15,
    "start_time": "2023-04-29T09:36:11.931Z"
   },
   {
    "duration": 26,
    "start_time": "2023-04-29T09:36:11.947Z"
   },
   {
    "duration": 60,
    "start_time": "2023-04-29T09:36:11.975Z"
   },
   {
    "duration": 18647,
    "start_time": "2023-04-29T09:36:12.037Z"
   },
   {
    "duration": 402,
    "start_time": "2023-04-29T09:36:30.688Z"
   },
   {
    "duration": 6,
    "start_time": "2023-04-29T09:36:31.096Z"
   },
   {
    "duration": 8382,
    "start_time": "2023-04-29T09:36:31.104Z"
   },
   {
    "duration": 13,
    "start_time": "2023-04-29T09:36:39.492Z"
   },
   {
    "duration": 140,
    "start_time": "2023-04-29T09:36:39.507Z"
   },
   {
    "duration": 7,
    "start_time": "2023-04-29T09:36:39.649Z"
   },
   {
    "duration": 10,
    "start_time": "2023-04-29T09:36:39.657Z"
   },
   {
    "duration": 4402,
    "start_time": "2023-04-29T09:36:39.688Z"
   },
   {
    "duration": 13,
    "start_time": "2023-04-29T09:36:44.093Z"
   },
   {
    "duration": 0,
    "start_time": "2023-04-29T09:36:44.109Z"
   },
   {
    "duration": 0,
    "start_time": "2023-04-29T09:36:44.111Z"
   },
   {
    "duration": 0,
    "start_time": "2023-04-29T09:36:44.112Z"
   },
   {
    "duration": 0,
    "start_time": "2023-04-29T09:36:44.114Z"
   },
   {
    "duration": 0,
    "start_time": "2023-04-29T09:36:44.115Z"
   },
   {
    "duration": 0,
    "start_time": "2023-04-29T09:36:44.117Z"
   },
   {
    "duration": 0,
    "start_time": "2023-04-29T09:36:44.118Z"
   },
   {
    "duration": 0,
    "start_time": "2023-04-29T09:36:44.120Z"
   },
   {
    "duration": 0,
    "start_time": "2023-04-29T09:36:44.122Z"
   },
   {
    "duration": 0,
    "start_time": "2023-04-29T09:36:44.123Z"
   },
   {
    "duration": 0,
    "start_time": "2023-04-29T09:36:44.125Z"
   },
   {
    "duration": 0,
    "start_time": "2023-04-29T09:36:44.126Z"
   },
   {
    "duration": 0,
    "start_time": "2023-04-29T09:36:44.127Z"
   },
   {
    "duration": 0,
    "start_time": "2023-04-29T09:36:44.128Z"
   },
   {
    "duration": 0,
    "start_time": "2023-04-29T09:36:44.129Z"
   },
   {
    "duration": 0,
    "start_time": "2023-04-29T09:36:44.130Z"
   },
   {
    "duration": 0,
    "start_time": "2023-04-29T09:36:44.131Z"
   },
   {
    "duration": 0,
    "start_time": "2023-04-29T09:36:44.132Z"
   },
   {
    "duration": 0,
    "start_time": "2023-04-29T09:36:44.134Z"
   },
   {
    "duration": 0,
    "start_time": "2023-04-29T09:36:44.195Z"
   },
   {
    "duration": 0,
    "start_time": "2023-04-29T09:36:44.202Z"
   },
   {
    "duration": 4,
    "start_time": "2023-04-29T09:40:37.296Z"
   },
   {
    "duration": 62,
    "start_time": "2023-04-29T09:40:37.303Z"
   },
   {
    "duration": 12,
    "start_time": "2023-04-29T09:40:37.367Z"
   },
   {
    "duration": 37,
    "start_time": "2023-04-29T09:40:37.380Z"
   },
   {
    "duration": 20,
    "start_time": "2023-04-29T09:40:37.419Z"
   },
   {
    "duration": 48,
    "start_time": "2023-04-29T09:40:37.441Z"
   },
   {
    "duration": 1201,
    "start_time": "2023-04-29T09:40:37.492Z"
   },
   {
    "duration": 9,
    "start_time": "2023-04-29T09:40:38.694Z"
   },
   {
    "duration": 271,
    "start_time": "2023-04-29T09:40:38.705Z"
   },
   {
    "duration": 393,
    "start_time": "2023-04-29T09:40:38.985Z"
   },
   {
    "duration": 16,
    "start_time": "2023-04-29T09:40:39.380Z"
   },
   {
    "duration": 11,
    "start_time": "2023-04-29T09:40:39.398Z"
   },
   {
    "duration": 24,
    "start_time": "2023-04-29T09:40:39.412Z"
   },
   {
    "duration": 22,
    "start_time": "2023-04-29T09:40:39.438Z"
   },
   {
    "duration": 5,
    "start_time": "2023-04-29T09:40:39.462Z"
   },
   {
    "duration": 11,
    "start_time": "2023-04-29T09:40:39.468Z"
   },
   {
    "duration": 26,
    "start_time": "2023-04-29T09:40:39.480Z"
   },
   {
    "duration": 10,
    "start_time": "2023-04-29T09:40:39.508Z"
   },
   {
    "duration": 8,
    "start_time": "2023-04-29T09:40:39.519Z"
   },
   {
    "duration": 9,
    "start_time": "2023-04-29T09:40:39.529Z"
   },
   {
    "duration": 10,
    "start_time": "2023-04-29T09:40:39.541Z"
   },
   {
    "duration": 69,
    "start_time": "2023-04-29T09:40:39.554Z"
   },
   {
    "duration": 14,
    "start_time": "2023-04-29T09:40:39.625Z"
   },
   {
    "duration": 11,
    "start_time": "2023-04-29T09:40:39.640Z"
   },
   {
    "duration": 14,
    "start_time": "2023-04-29T09:40:39.653Z"
   },
   {
    "duration": 26,
    "start_time": "2023-04-29T09:40:39.669Z"
   },
   {
    "duration": 13,
    "start_time": "2023-04-29T09:40:39.697Z"
   },
   {
    "duration": 8,
    "start_time": "2023-04-29T09:40:39.711Z"
   },
   {
    "duration": 5,
    "start_time": "2023-04-29T09:40:39.721Z"
   },
   {
    "duration": 5,
    "start_time": "2023-04-29T09:40:39.728Z"
   },
   {
    "duration": 7,
    "start_time": "2023-04-29T09:40:39.735Z"
   },
   {
    "duration": 13,
    "start_time": "2023-04-29T09:40:39.743Z"
   },
   {
    "duration": 16830,
    "start_time": "2023-04-29T09:40:39.758Z"
   },
   {
    "duration": 398,
    "start_time": "2023-04-29T09:40:56.592Z"
   },
   {
    "duration": 1431,
    "start_time": "2023-04-29T09:43:17.943Z"
   },
   {
    "duration": 56,
    "start_time": "2023-04-29T09:43:19.376Z"
   },
   {
    "duration": 13,
    "start_time": "2023-04-29T09:43:19.434Z"
   },
   {
    "duration": 19,
    "start_time": "2023-04-29T09:43:19.449Z"
   },
   {
    "duration": 31,
    "start_time": "2023-04-29T09:43:19.470Z"
   },
   {
    "duration": 53,
    "start_time": "2023-04-29T09:43:19.503Z"
   },
   {
    "duration": 1213,
    "start_time": "2023-04-29T09:43:19.558Z"
   },
   {
    "duration": 10,
    "start_time": "2023-04-29T09:43:20.773Z"
   },
   {
    "duration": 245,
    "start_time": "2023-04-29T09:43:20.785Z"
   },
   {
    "duration": 452,
    "start_time": "2023-04-29T09:43:21.033Z"
   },
   {
    "duration": 5,
    "start_time": "2023-04-29T09:43:21.487Z"
   },
   {
    "duration": 10,
    "start_time": "2023-04-29T09:43:21.493Z"
   },
   {
    "duration": 16,
    "start_time": "2023-04-29T09:43:21.504Z"
   },
   {
    "duration": 35,
    "start_time": "2023-04-29T09:43:21.522Z"
   },
   {
    "duration": 4,
    "start_time": "2023-04-29T09:43:21.559Z"
   },
   {
    "duration": 18,
    "start_time": "2023-04-29T09:43:21.565Z"
   },
   {
    "duration": 9,
    "start_time": "2023-04-29T09:43:21.585Z"
   },
   {
    "duration": 24,
    "start_time": "2023-04-29T09:43:21.595Z"
   },
   {
    "duration": 9,
    "start_time": "2023-04-29T09:43:21.621Z"
   },
   {
    "duration": 8,
    "start_time": "2023-04-29T09:43:21.632Z"
   },
   {
    "duration": 48,
    "start_time": "2023-04-29T09:43:21.642Z"
   },
   {
    "duration": 26,
    "start_time": "2023-04-29T09:43:21.692Z"
   },
   {
    "duration": 68,
    "start_time": "2023-04-29T09:43:21.721Z"
   },
   {
    "duration": 23,
    "start_time": "2023-04-29T09:43:21.792Z"
   },
   {
    "duration": 67,
    "start_time": "2023-04-29T09:43:21.817Z"
   },
   {
    "duration": 18,
    "start_time": "2023-04-29T09:43:21.886Z"
   },
   {
    "duration": 14,
    "start_time": "2023-04-29T09:43:21.906Z"
   },
   {
    "duration": 59,
    "start_time": "2023-04-29T09:43:21.927Z"
   },
   {
    "duration": 24,
    "start_time": "2023-04-29T09:43:21.988Z"
   },
   {
    "duration": 26,
    "start_time": "2023-04-29T09:43:22.014Z"
   },
   {
    "duration": 46,
    "start_time": "2023-04-29T09:43:22.043Z"
   },
   {
    "duration": 3597,
    "start_time": "2023-04-29T09:43:22.091Z"
   },
   {
    "duration": 692,
    "start_time": "2023-04-29T09:43:25.693Z"
   },
   {
    "duration": 4,
    "start_time": "2023-04-29T09:43:26.387Z"
   },
   {
    "duration": 10115,
    "start_time": "2023-04-29T09:43:26.393Z"
   },
   {
    "duration": 3,
    "start_time": "2023-04-29T09:43:36.510Z"
   },
   {
    "duration": 143,
    "start_time": "2023-04-29T09:43:36.515Z"
   },
   {
    "duration": 6,
    "start_time": "2023-04-29T09:43:36.659Z"
   },
   {
    "duration": 21,
    "start_time": "2023-04-29T09:43:36.683Z"
   },
   {
    "duration": 69706,
    "start_time": "2023-04-29T09:43:36.706Z"
   },
   {
    "duration": 10,
    "start_time": "2023-04-29T09:44:46.413Z"
   },
   {
    "duration": 0,
    "start_time": "2023-04-29T09:44:46.424Z"
   },
   {
    "duration": 0,
    "start_time": "2023-04-29T09:44:46.426Z"
   },
   {
    "duration": 0,
    "start_time": "2023-04-29T09:44:46.427Z"
   },
   {
    "duration": 0,
    "start_time": "2023-04-29T09:44:46.429Z"
   },
   {
    "duration": 0,
    "start_time": "2023-04-29T09:44:46.430Z"
   },
   {
    "duration": 0,
    "start_time": "2023-04-29T09:44:46.432Z"
   },
   {
    "duration": 0,
    "start_time": "2023-04-29T09:44:46.433Z"
   },
   {
    "duration": 0,
    "start_time": "2023-04-29T09:44:46.434Z"
   },
   {
    "duration": 0,
    "start_time": "2023-04-29T09:44:46.435Z"
   },
   {
    "duration": 0,
    "start_time": "2023-04-29T09:44:46.436Z"
   },
   {
    "duration": 0,
    "start_time": "2023-04-29T09:44:46.437Z"
   },
   {
    "duration": 0,
    "start_time": "2023-04-29T09:44:46.438Z"
   },
   {
    "duration": 0,
    "start_time": "2023-04-29T09:44:46.439Z"
   },
   {
    "duration": 0,
    "start_time": "2023-04-29T09:44:46.440Z"
   },
   {
    "duration": 0,
    "start_time": "2023-04-29T09:44:46.441Z"
   },
   {
    "duration": 0,
    "start_time": "2023-04-29T09:44:46.443Z"
   },
   {
    "duration": 0,
    "start_time": "2023-04-29T09:44:46.444Z"
   },
   {
    "duration": 0,
    "start_time": "2023-04-29T09:44:46.446Z"
   },
   {
    "duration": 0,
    "start_time": "2023-04-29T09:44:46.447Z"
   },
   {
    "duration": 0,
    "start_time": "2023-04-29T09:44:46.485Z"
   },
   {
    "duration": 0,
    "start_time": "2023-04-29T09:44:46.491Z"
   },
   {
    "duration": 1492,
    "start_time": "2023-04-29T09:45:37.571Z"
   },
   {
    "duration": 64,
    "start_time": "2023-04-29T09:45:39.065Z"
   },
   {
    "duration": 14,
    "start_time": "2023-04-29T09:45:39.131Z"
   },
   {
    "duration": 9,
    "start_time": "2023-04-29T09:45:39.147Z"
   },
   {
    "duration": 12,
    "start_time": "2023-04-29T09:45:39.157Z"
   },
   {
    "duration": 37,
    "start_time": "2023-04-29T09:45:39.171Z"
   },
   {
    "duration": 1271,
    "start_time": "2023-04-29T09:45:39.209Z"
   },
   {
    "duration": 5,
    "start_time": "2023-04-29T09:45:40.484Z"
   },
   {
    "duration": 257,
    "start_time": "2023-04-29T09:45:40.495Z"
   },
   {
    "duration": 412,
    "start_time": "2023-04-29T09:45:40.755Z"
   },
   {
    "duration": 4,
    "start_time": "2023-04-29T09:45:41.169Z"
   },
   {
    "duration": 26,
    "start_time": "2023-04-29T09:45:41.175Z"
   },
   {
    "duration": 20,
    "start_time": "2023-04-29T09:45:41.203Z"
   },
   {
    "duration": 13,
    "start_time": "2023-04-29T09:45:41.224Z"
   },
   {
    "duration": 2,
    "start_time": "2023-04-29T09:45:41.239Z"
   },
   {
    "duration": 17,
    "start_time": "2023-04-29T09:45:41.242Z"
   },
   {
    "duration": 16,
    "start_time": "2023-04-29T09:45:41.260Z"
   },
   {
    "duration": 27,
    "start_time": "2023-04-29T09:45:41.277Z"
   },
   {
    "duration": 9,
    "start_time": "2023-04-29T09:45:41.306Z"
   },
   {
    "duration": 6,
    "start_time": "2023-04-29T09:45:41.316Z"
   },
   {
    "duration": 20,
    "start_time": "2023-04-29T09:45:41.323Z"
   },
   {
    "duration": 28,
    "start_time": "2023-04-29T09:45:41.344Z"
   },
   {
    "duration": 27,
    "start_time": "2023-04-29T09:45:41.373Z"
   },
   {
    "duration": 29,
    "start_time": "2023-04-29T09:45:41.402Z"
   },
   {
    "duration": 17,
    "start_time": "2023-04-29T09:45:41.433Z"
   },
   {
    "duration": 13,
    "start_time": "2023-04-29T09:45:41.451Z"
   },
   {
    "duration": 8,
    "start_time": "2023-04-29T09:45:41.466Z"
   },
   {
    "duration": 7,
    "start_time": "2023-04-29T09:45:41.477Z"
   },
   {
    "duration": 19,
    "start_time": "2023-04-29T09:45:41.485Z"
   },
   {
    "duration": 8,
    "start_time": "2023-04-29T09:45:41.506Z"
   },
   {
    "duration": 3,
    "start_time": "2023-04-29T09:45:48.138Z"
   },
   {
    "duration": 4399,
    "start_time": "2023-04-29T09:45:49.009Z"
   },
   {
    "duration": 265,
    "start_time": "2023-04-29T09:46:01.849Z"
   },
   {
    "duration": 3,
    "start_time": "2023-04-29T09:46:10.343Z"
   },
   {
    "duration": 60,
    "start_time": "2023-04-29T09:46:10.355Z"
   },
   {
    "duration": 15,
    "start_time": "2023-04-29T09:46:10.417Z"
   },
   {
    "duration": 9,
    "start_time": "2023-04-29T09:46:10.434Z"
   },
   {
    "duration": 63,
    "start_time": "2023-04-29T09:46:10.445Z"
   },
   {
    "duration": 37,
    "start_time": "2023-04-29T09:46:10.513Z"
   },
   {
    "duration": 1225,
    "start_time": "2023-04-29T09:46:10.552Z"
   },
   {
    "duration": 5,
    "start_time": "2023-04-29T09:46:11.783Z"
   },
   {
    "duration": 184,
    "start_time": "2023-04-29T09:46:11.790Z"
   },
   {
    "duration": 530,
    "start_time": "2023-04-29T09:46:11.975Z"
   },
   {
    "duration": 6,
    "start_time": "2023-04-29T09:46:12.507Z"
   },
   {
    "duration": 10,
    "start_time": "2023-04-29T09:46:12.515Z"
   },
   {
    "duration": 40,
    "start_time": "2023-04-29T09:46:12.527Z"
   },
   {
    "duration": 29,
    "start_time": "2023-04-29T09:46:12.569Z"
   },
   {
    "duration": 19,
    "start_time": "2023-04-29T09:46:12.604Z"
   },
   {
    "duration": 15,
    "start_time": "2023-04-29T09:46:12.625Z"
   },
   {
    "duration": 8,
    "start_time": "2023-04-29T09:46:12.642Z"
   },
   {
    "duration": 10,
    "start_time": "2023-04-29T09:46:12.652Z"
   },
   {
    "duration": 28,
    "start_time": "2023-04-29T09:46:12.663Z"
   },
   {
    "duration": 30,
    "start_time": "2023-04-29T09:46:12.695Z"
   },
   {
    "duration": 22,
    "start_time": "2023-04-29T09:46:12.727Z"
   },
   {
    "duration": 16,
    "start_time": "2023-04-29T09:46:12.751Z"
   },
   {
    "duration": 11,
    "start_time": "2023-04-29T09:46:12.768Z"
   },
   {
    "duration": 28,
    "start_time": "2023-04-29T09:46:12.781Z"
   },
   {
    "duration": 17,
    "start_time": "2023-04-29T09:46:12.810Z"
   },
   {
    "duration": 13,
    "start_time": "2023-04-29T09:46:12.829Z"
   },
   {
    "duration": 9,
    "start_time": "2023-04-29T09:46:12.844Z"
   },
   {
    "duration": 14,
    "start_time": "2023-04-29T09:46:12.854Z"
   },
   {
    "duration": 12,
    "start_time": "2023-04-29T09:46:12.870Z"
   },
   {
    "duration": 22,
    "start_time": "2023-04-29T09:46:12.889Z"
   },
   {
    "duration": 9,
    "start_time": "2023-04-29T09:46:12.913Z"
   },
   {
    "duration": 5493,
    "start_time": "2023-04-29T09:46:12.923Z"
   },
   {
    "duration": 400,
    "start_time": "2023-04-29T09:46:18.494Z"
   },
   {
    "duration": 3,
    "start_time": "2023-04-29T09:46:18.898Z"
   },
   {
    "duration": 10263,
    "start_time": "2023-04-29T09:46:18.904Z"
   },
   {
    "duration": 4,
    "start_time": "2023-04-29T09:46:29.169Z"
   },
   {
    "duration": 165,
    "start_time": "2023-04-29T09:46:29.175Z"
   },
   {
    "duration": 6,
    "start_time": "2023-04-29T09:46:29.342Z"
   },
   {
    "duration": 12,
    "start_time": "2023-04-29T09:46:29.349Z"
   },
   {
    "duration": 84373,
    "start_time": "2023-04-29T09:46:29.362Z"
   },
   {
    "duration": 11,
    "start_time": "2023-04-29T09:47:53.736Z"
   },
   {
    "duration": 158,
    "start_time": "2023-04-29T09:47:53.751Z"
   },
   {
    "duration": 127,
    "start_time": "2023-04-29T09:47:53.910Z"
   },
   {
    "duration": 3,
    "start_time": "2023-04-29T09:47:54.039Z"
   },
   {
    "duration": 25,
    "start_time": "2023-04-29T09:47:54.044Z"
   },
   {
    "duration": 118,
    "start_time": "2023-04-29T09:47:54.070Z"
   },
   {
    "duration": 6,
    "start_time": "2023-04-29T09:47:54.189Z"
   },
   {
    "duration": 114358,
    "start_time": "2023-04-29T09:47:54.197Z"
   },
   {
    "duration": 13,
    "start_time": "2023-04-29T09:49:48.556Z"
   },
   {
    "duration": 159,
    "start_time": "2023-04-29T09:49:48.570Z"
   },
   {
    "duration": 4,
    "start_time": "2023-04-29T09:49:48.731Z"
   },
   {
    "duration": 14,
    "start_time": "2023-04-29T09:49:48.736Z"
   },
   {
    "duration": 153,
    "start_time": "2023-04-29T09:49:48.752Z"
   },
   {
    "duration": 3,
    "start_time": "2023-04-29T09:49:48.907Z"
   },
   {
    "duration": 53981,
    "start_time": "2023-04-29T09:49:48.912Z"
   },
   {
    "duration": 15,
    "start_time": "2023-04-29T09:50:42.895Z"
   },
   {
    "duration": 150,
    "start_time": "2023-04-29T09:50:42.912Z"
   },
   {
    "duration": 3,
    "start_time": "2023-04-29T09:50:43.064Z"
   },
   {
    "duration": 90726,
    "start_time": "2023-04-29T09:50:43.086Z"
   },
   {
    "duration": 14,
    "start_time": "2023-04-29T09:52:13.814Z"
   },
   {
    "duration": 174,
    "start_time": "2023-04-29T09:52:13.829Z"
   },
   {
    "duration": 147,
    "start_time": "2023-04-29T09:52:14.004Z"
   },
   {
    "duration": 1404,
    "start_time": "2023-04-29T09:53:14.756Z"
   },
   {
    "duration": 65,
    "start_time": "2023-04-29T09:53:16.162Z"
   },
   {
    "duration": 12,
    "start_time": "2023-04-29T09:53:16.228Z"
   },
   {
    "duration": 23,
    "start_time": "2023-04-29T09:53:16.242Z"
   },
   {
    "duration": 32,
    "start_time": "2023-04-29T09:53:16.266Z"
   },
   {
    "duration": 29,
    "start_time": "2023-04-29T09:53:16.300Z"
   },
   {
    "duration": 2094,
    "start_time": "2023-04-29T09:53:16.331Z"
   },
   {
    "duration": 3,
    "start_time": "2023-04-29T09:53:18.426Z"
   },
   {
    "duration": 472,
    "start_time": "2023-04-29T09:53:18.430Z"
   },
   {
    "duration": 391,
    "start_time": "2023-04-29T09:53:18.905Z"
   },
   {
    "duration": 6,
    "start_time": "2023-04-29T09:53:19.297Z"
   },
   {
    "duration": 7,
    "start_time": "2023-04-29T09:53:19.305Z"
   },
   {
    "duration": 13,
    "start_time": "2023-04-29T09:53:19.313Z"
   },
   {
    "duration": 12,
    "start_time": "2023-04-29T09:53:19.328Z"
   },
   {
    "duration": 2,
    "start_time": "2023-04-29T09:53:19.342Z"
   },
   {
    "duration": 23,
    "start_time": "2023-04-29T09:53:19.346Z"
   },
   {
    "duration": 27,
    "start_time": "2023-04-29T09:53:19.370Z"
   },
   {
    "duration": 21,
    "start_time": "2023-04-29T09:53:19.399Z"
   },
   {
    "duration": 11,
    "start_time": "2023-04-29T09:53:19.421Z"
   },
   {
    "duration": 26,
    "start_time": "2023-04-29T09:53:19.433Z"
   },
   {
    "duration": 14,
    "start_time": "2023-04-29T09:53:19.461Z"
   },
   {
    "duration": 29,
    "start_time": "2023-04-29T09:53:19.477Z"
   },
   {
    "duration": 11,
    "start_time": "2023-04-29T09:53:19.508Z"
   },
   {
    "duration": 16,
    "start_time": "2023-04-29T09:53:19.521Z"
   },
   {
    "duration": 20,
    "start_time": "2023-04-29T09:53:19.538Z"
   },
   {
    "duration": 13,
    "start_time": "2023-04-29T09:53:19.559Z"
   },
   {
    "duration": 26,
    "start_time": "2023-04-29T09:53:19.574Z"
   },
   {
    "duration": 22,
    "start_time": "2023-04-29T09:53:19.603Z"
   },
   {
    "duration": 30,
    "start_time": "2023-04-29T09:53:19.626Z"
   },
   {
    "duration": 33,
    "start_time": "2023-04-29T09:53:19.658Z"
   },
   {
    "duration": 20,
    "start_time": "2023-04-29T09:53:19.692Z"
   },
   {
    "duration": 2777,
    "start_time": "2023-04-29T09:53:19.714Z"
   },
   {
    "duration": 406,
    "start_time": "2023-04-29T09:53:22.493Z"
   },
   {
    "duration": 81,
    "start_time": "2023-04-29T09:53:22.901Z"
   },
   {
    "duration": 9533,
    "start_time": "2023-04-29T09:53:22.984Z"
   },
   {
    "duration": 5,
    "start_time": "2023-04-29T09:53:32.518Z"
   },
   {
    "duration": 142,
    "start_time": "2023-04-29T09:53:32.524Z"
   },
   {
    "duration": 30,
    "start_time": "2023-04-29T09:53:32.668Z"
   },
   {
    "duration": 18,
    "start_time": "2023-04-29T09:53:32.701Z"
   },
   {
    "duration": 82587,
    "start_time": "2023-04-29T09:53:32.721Z"
   },
   {
    "duration": 16,
    "start_time": "2023-04-29T09:54:55.311Z"
   },
   {
    "duration": 182,
    "start_time": "2023-04-29T09:54:55.330Z"
   },
   {
    "duration": 138,
    "start_time": "2023-04-29T09:54:55.514Z"
   },
   {
    "duration": 4,
    "start_time": "2023-04-29T09:54:55.654Z"
   },
   {
    "duration": 52,
    "start_time": "2023-04-29T09:54:55.659Z"
   },
   {
    "duration": 149,
    "start_time": "2023-04-29T09:54:55.713Z"
   },
   {
    "duration": 4,
    "start_time": "2023-04-29T09:54:55.864Z"
   },
   {
    "duration": 120698,
    "start_time": "2023-04-29T09:54:55.870Z"
   },
   {
    "duration": 24,
    "start_time": "2023-04-29T09:56:56.570Z"
   },
   {
    "duration": 154,
    "start_time": "2023-04-29T09:56:56.595Z"
   },
   {
    "duration": 4,
    "start_time": "2023-04-29T09:56:56.751Z"
   },
   {
    "duration": 32,
    "start_time": "2023-04-29T09:56:56.757Z"
   },
   {
    "duration": 135,
    "start_time": "2023-04-29T09:56:56.791Z"
   },
   {
    "duration": 3,
    "start_time": "2023-04-29T09:56:56.928Z"
   },
   {
    "duration": 56879,
    "start_time": "2023-04-29T09:56:56.933Z"
   },
   {
    "duration": 12,
    "start_time": "2023-04-29T09:57:53.814Z"
   },
   {
    "duration": 167,
    "start_time": "2023-04-29T09:57:53.827Z"
   },
   {
    "duration": 4,
    "start_time": "2023-04-29T09:57:53.997Z"
   },
   {
    "duration": 48058,
    "start_time": "2023-04-29T09:57:54.002Z"
   },
   {
    "duration": 17,
    "start_time": "2023-04-29T09:58:42.062Z"
   },
   {
    "duration": 192,
    "start_time": "2023-04-29T09:58:42.081Z"
   },
   {
    "duration": 165,
    "start_time": "2023-04-29T09:58:42.282Z"
   },
   {
    "duration": 52,
    "start_time": "2023-04-29T10:04:22.753Z"
   },
   {
    "duration": 1485,
    "start_time": "2023-04-29T10:04:29.273Z"
   },
   {
    "duration": 70,
    "start_time": "2023-04-29T10:04:30.761Z"
   },
   {
    "duration": 14,
    "start_time": "2023-04-29T10:04:30.833Z"
   },
   {
    "duration": 26,
    "start_time": "2023-04-29T10:04:30.850Z"
   },
   {
    "duration": 44,
    "start_time": "2023-04-29T10:04:30.878Z"
   },
   {
    "duration": 51,
    "start_time": "2023-04-29T10:04:30.923Z"
   },
   {
    "duration": 1188,
    "start_time": "2023-04-29T10:04:30.976Z"
   },
   {
    "duration": 2,
    "start_time": "2023-04-29T10:04:32.166Z"
   },
   {
    "duration": 243,
    "start_time": "2023-04-29T10:04:32.170Z"
   },
   {
    "duration": 386,
    "start_time": "2023-04-29T10:04:32.415Z"
   },
   {
    "duration": 5,
    "start_time": "2023-04-29T10:04:32.803Z"
   },
   {
    "duration": 21,
    "start_time": "2023-04-29T10:04:32.809Z"
   },
   {
    "duration": 26,
    "start_time": "2023-04-29T10:04:32.832Z"
   },
   {
    "duration": 18,
    "start_time": "2023-04-29T10:04:32.860Z"
   },
   {
    "duration": 2,
    "start_time": "2023-04-29T10:04:32.879Z"
   },
   {
    "duration": 20,
    "start_time": "2023-04-29T10:04:32.883Z"
   },
   {
    "duration": 7,
    "start_time": "2023-04-29T10:04:34.409Z"
   },
   {
    "duration": 6,
    "start_time": "2023-04-29T10:04:36.309Z"
   },
   {
    "duration": 7,
    "start_time": "2023-04-29T10:04:41.210Z"
   },
   {
    "duration": 11,
    "start_time": "2023-04-29T10:04:44.140Z"
   },
   {
    "duration": 14,
    "start_time": "2023-04-29T10:04:46.507Z"
   },
   {
    "duration": 13,
    "start_time": "2023-04-29T10:04:47.120Z"
   },
   {
    "duration": 11,
    "start_time": "2023-04-29T10:04:49.098Z"
   },
   {
    "duration": 21,
    "start_time": "2023-04-29T10:04:50.829Z"
   },
   {
    "duration": 12,
    "start_time": "2023-04-29T10:04:51.501Z"
   },
   {
    "duration": 6,
    "start_time": "2023-04-29T10:04:53.819Z"
   },
   {
    "duration": 7,
    "start_time": "2023-04-29T10:04:54.860Z"
   },
   {
    "duration": 6,
    "start_time": "2023-04-29T10:05:00.342Z"
   },
   {
    "duration": 5,
    "start_time": "2023-04-29T10:05:06.995Z"
   },
   {
    "duration": 6,
    "start_time": "2023-04-29T10:05:11.992Z"
   },
   {
    "duration": 4626,
    "start_time": "2023-04-29T10:05:13.266Z"
   },
   {
    "duration": 388,
    "start_time": "2023-04-29T10:05:23.703Z"
   },
   {
    "duration": 3,
    "start_time": "2023-04-29T10:05:27.373Z"
   },
   {
    "duration": 4,
    "start_time": "2023-04-29T10:05:47.568Z"
   },
   {
    "duration": 64,
    "start_time": "2023-04-29T10:05:47.579Z"
   },
   {
    "duration": 13,
    "start_time": "2023-04-29T10:05:47.645Z"
   },
   {
    "duration": 16,
    "start_time": "2023-04-29T10:05:47.660Z"
   },
   {
    "duration": 32,
    "start_time": "2023-04-29T10:05:47.677Z"
   },
   {
    "duration": 40,
    "start_time": "2023-04-29T10:05:47.718Z"
   },
   {
    "duration": 1183,
    "start_time": "2023-04-29T10:05:47.760Z"
   },
   {
    "duration": 3,
    "start_time": "2023-04-29T10:05:48.944Z"
   },
   {
    "duration": 169,
    "start_time": "2023-04-29T10:05:48.948Z"
   },
   {
    "duration": 493,
    "start_time": "2023-04-29T10:05:49.119Z"
   },
   {
    "duration": 4,
    "start_time": "2023-04-29T10:05:49.613Z"
   },
   {
    "duration": 8,
    "start_time": "2023-04-29T10:05:49.619Z"
   },
   {
    "duration": 11,
    "start_time": "2023-04-29T10:05:49.629Z"
   },
   {
    "duration": 10,
    "start_time": "2023-04-29T10:05:49.642Z"
   },
   {
    "duration": 2,
    "start_time": "2023-04-29T10:05:49.655Z"
   },
   {
    "duration": 28,
    "start_time": "2023-04-29T10:05:49.659Z"
   },
   {
    "duration": 20,
    "start_time": "2023-04-29T10:05:49.688Z"
   },
   {
    "duration": 15,
    "start_time": "2023-04-29T10:05:49.710Z"
   },
   {
    "duration": 14,
    "start_time": "2023-04-29T10:05:49.727Z"
   },
   {
    "duration": 14,
    "start_time": "2023-04-29T10:05:49.743Z"
   },
   {
    "duration": 29,
    "start_time": "2023-04-29T10:05:49.759Z"
   },
   {
    "duration": 13,
    "start_time": "2023-04-29T10:05:49.793Z"
   },
   {
    "duration": 21,
    "start_time": "2023-04-29T10:05:49.809Z"
   },
   {
    "duration": 39,
    "start_time": "2023-04-29T10:05:49.832Z"
   },
   {
    "duration": 17,
    "start_time": "2023-04-29T10:05:49.873Z"
   },
   {
    "duration": 20,
    "start_time": "2023-04-29T10:05:49.893Z"
   },
   {
    "duration": 10,
    "start_time": "2023-04-29T10:05:49.914Z"
   },
   {
    "duration": 13,
    "start_time": "2023-04-29T10:05:49.926Z"
   },
   {
    "duration": 9,
    "start_time": "2023-04-29T10:05:49.940Z"
   },
   {
    "duration": 10,
    "start_time": "2023-04-29T10:05:49.951Z"
   },
   {
    "duration": 3926,
    "start_time": "2023-04-29T10:05:49.963Z"
   },
   {
    "duration": 588,
    "start_time": "2023-04-29T10:05:53.900Z"
   },
   {
    "duration": 3,
    "start_time": "2023-04-29T10:05:54.491Z"
   },
   {
    "duration": 9804,
    "start_time": "2023-04-29T10:05:54.496Z"
   },
   {
    "duration": 4,
    "start_time": "2023-04-29T10:06:04.302Z"
   },
   {
    "duration": 137,
    "start_time": "2023-04-29T10:06:04.308Z"
   },
   {
    "duration": 5,
    "start_time": "2023-04-29T10:06:04.447Z"
   },
   {
    "duration": 11,
    "start_time": "2023-04-29T10:06:04.454Z"
   },
   {
    "duration": 86524,
    "start_time": "2023-04-29T10:06:04.466Z"
   },
   {
    "duration": 15,
    "start_time": "2023-04-29T10:07:30.992Z"
   },
   {
    "duration": 216,
    "start_time": "2023-04-29T10:07:31.009Z"
   },
   {
    "duration": 150,
    "start_time": "2023-04-29T10:07:31.229Z"
   },
   {
    "duration": 5,
    "start_time": "2023-04-29T10:07:31.380Z"
   },
   {
    "duration": 70,
    "start_time": "2023-04-29T10:07:31.391Z"
   },
   {
    "duration": 165,
    "start_time": "2023-04-29T10:07:31.463Z"
   },
   {
    "duration": 4,
    "start_time": "2023-04-29T10:07:31.629Z"
   },
   {
    "duration": 121117,
    "start_time": "2023-04-29T10:07:31.634Z"
   },
   {
    "duration": 12,
    "start_time": "2023-04-29T10:09:32.753Z"
   },
   {
    "duration": 166,
    "start_time": "2023-04-29T10:09:32.767Z"
   },
   {
    "duration": 5,
    "start_time": "2023-04-29T10:09:32.935Z"
   },
   {
    "duration": 17,
    "start_time": "2023-04-29T10:09:32.942Z"
   },
   {
    "duration": 162,
    "start_time": "2023-04-29T10:09:32.961Z"
   },
   {
    "duration": 4,
    "start_time": "2023-04-29T10:09:33.125Z"
   },
   {
    "duration": 54614,
    "start_time": "2023-04-29T10:09:33.131Z"
   },
   {
    "duration": 12,
    "start_time": "2023-04-29T10:10:27.746Z"
   },
   {
    "duration": 169,
    "start_time": "2023-04-29T10:10:27.760Z"
   },
   {
    "duration": 4,
    "start_time": "2023-04-29T10:10:27.930Z"
   },
   {
    "duration": 86325,
    "start_time": "2023-04-29T10:10:27.935Z"
   },
   {
    "duration": 11,
    "start_time": "2023-04-29T10:11:54.261Z"
   },
   {
    "duration": 133,
    "start_time": "2023-04-29T10:11:54.282Z"
   },
   {
    "duration": 144,
    "start_time": "2023-04-29T10:11:54.416Z"
   },
   {
    "duration": 80,
    "start_time": "2023-04-29T10:17:56.983Z"
   },
   {
    "duration": 1875,
    "start_time": "2023-04-29T10:18:03.513Z"
   },
   {
    "duration": 3,
    "start_time": "2023-04-29T10:18:33.549Z"
   },
   {
    "duration": 1405,
    "start_time": "2023-04-29T10:18:34.486Z"
   },
   {
    "duration": 6,
    "start_time": "2023-04-29T10:19:42.618Z"
   },
   {
    "duration": 15,
    "start_time": "2023-04-29T10:19:58.185Z"
   },
   {
    "duration": 4,
    "start_time": "2023-04-29T10:20:25.968Z"
   },
   {
    "duration": 49,
    "start_time": "2023-04-29T10:20:25.983Z"
   },
   {
    "duration": 17,
    "start_time": "2023-04-29T10:20:26.035Z"
   },
   {
    "duration": 10,
    "start_time": "2023-04-29T10:20:26.054Z"
   },
   {
    "duration": 33,
    "start_time": "2023-04-29T10:20:26.065Z"
   },
   {
    "duration": 28,
    "start_time": "2023-04-29T10:20:26.101Z"
   },
   {
    "duration": 1157,
    "start_time": "2023-04-29T10:20:26.131Z"
   },
   {
    "duration": 3,
    "start_time": "2023-04-29T10:20:27.289Z"
   },
   {
    "duration": 248,
    "start_time": "2023-04-29T10:20:27.293Z"
   },
   {
    "duration": 446,
    "start_time": "2023-04-29T10:20:27.543Z"
   },
   {
    "duration": 5,
    "start_time": "2023-04-29T10:20:27.990Z"
   },
   {
    "duration": 3,
    "start_time": "2023-04-29T10:21:21.537Z"
   },
   {
    "duration": 6,
    "start_time": "2023-04-29T10:21:22.129Z"
   },
   {
    "duration": 14,
    "start_time": "2023-04-29T10:21:22.914Z"
   },
   {
    "duration": 6,
    "start_time": "2023-04-29T10:22:07.047Z"
   },
   {
    "duration": 12,
    "start_time": "2023-04-29T10:22:07.501Z"
   },
   {
    "duration": 4,
    "start_time": "2023-04-29T10:23:31.533Z"
   },
   {
    "duration": 98,
    "start_time": "2023-04-29T10:23:31.543Z"
   },
   {
    "duration": 17,
    "start_time": "2023-04-29T10:23:31.643Z"
   },
   {
    "duration": 43,
    "start_time": "2023-04-29T10:23:31.661Z"
   },
   {
    "duration": 31,
    "start_time": "2023-04-29T10:23:31.705Z"
   },
   {
    "duration": 42,
    "start_time": "2023-04-29T10:23:31.739Z"
   },
   {
    "duration": 1092,
    "start_time": "2023-04-29T10:23:31.783Z"
   },
   {
    "duration": 2,
    "start_time": "2023-04-29T10:23:32.884Z"
   },
   {
    "duration": 181,
    "start_time": "2023-04-29T10:23:32.888Z"
   },
   {
    "duration": 531,
    "start_time": "2023-04-29T10:23:33.071Z"
   },
   {
    "duration": 4,
    "start_time": "2023-04-29T10:23:33.604Z"
   },
   {
    "duration": 25,
    "start_time": "2023-04-29T10:23:33.610Z"
   },
   {
    "duration": 26,
    "start_time": "2023-04-29T10:23:33.636Z"
   },
   {
    "duration": 59,
    "start_time": "2023-04-29T10:23:33.663Z"
   },
   {
    "duration": 29,
    "start_time": "2023-04-29T10:23:33.725Z"
   },
   {
    "duration": 37,
    "start_time": "2023-04-29T10:23:33.755Z"
   },
   {
    "duration": 57,
    "start_time": "2023-04-29T10:23:33.793Z"
   },
   {
    "duration": 8,
    "start_time": "2023-04-29T10:23:33.852Z"
   },
   {
    "duration": 31,
    "start_time": "2023-04-29T10:23:33.862Z"
   },
   {
    "duration": 8,
    "start_time": "2023-04-29T10:23:35.501Z"
   },
   {
    "duration": 5,
    "start_time": "2023-04-29T10:23:37.677Z"
   },
   {
    "duration": 7,
    "start_time": "2023-04-29T10:23:40.627Z"
   },
   {
    "duration": 4,
    "start_time": "2023-04-29T10:23:47.419Z"
   },
   {
    "duration": 48,
    "start_time": "2023-04-29T10:23:47.433Z"
   },
   {
    "duration": 11,
    "start_time": "2023-04-29T10:23:47.483Z"
   },
   {
    "duration": 8,
    "start_time": "2023-04-29T10:23:47.496Z"
   },
   {
    "duration": 10,
    "start_time": "2023-04-29T10:23:47.506Z"
   },
   {
    "duration": 26,
    "start_time": "2023-04-29T10:23:47.518Z"
   },
   {
    "duration": 1129,
    "start_time": "2023-04-29T10:23:47.546Z"
   },
   {
    "duration": 8,
    "start_time": "2023-04-29T10:23:48.676Z"
   },
   {
    "duration": 150,
    "start_time": "2023-04-29T10:23:48.685Z"
   },
   {
    "duration": 396,
    "start_time": "2023-04-29T10:23:48.837Z"
   },
   {
    "duration": 4,
    "start_time": "2023-04-29T10:23:49.235Z"
   },
   {
    "duration": 18,
    "start_time": "2023-04-29T10:23:49.240Z"
   },
   {
    "duration": 14,
    "start_time": "2023-04-29T10:23:49.259Z"
   },
   {
    "duration": 18,
    "start_time": "2023-04-29T10:23:49.275Z"
   },
   {
    "duration": 10,
    "start_time": "2023-04-29T10:23:49.296Z"
   },
   {
    "duration": 23,
    "start_time": "2023-04-29T10:23:49.307Z"
   },
   {
    "duration": 13,
    "start_time": "2023-04-29T10:23:49.332Z"
   },
   {
    "duration": 3,
    "start_time": "2023-04-29T10:23:49.346Z"
   },
   {
    "duration": 98,
    "start_time": "2023-04-29T10:23:49.350Z"
   },
   {
    "duration": 29,
    "start_time": "2023-04-29T10:23:49.450Z"
   },
   {
    "duration": 14,
    "start_time": "2023-04-29T10:23:49.481Z"
   },
   {
    "duration": 13,
    "start_time": "2023-04-29T10:23:49.496Z"
   },
   {
    "duration": 18,
    "start_time": "2023-04-29T10:23:49.510Z"
   },
   {
    "duration": 20,
    "start_time": "2023-04-29T10:23:49.530Z"
   },
   {
    "duration": 10,
    "start_time": "2023-04-29T10:23:49.551Z"
   },
   {
    "duration": 27,
    "start_time": "2023-04-29T10:23:49.563Z"
   },
   {
    "duration": 16,
    "start_time": "2023-04-29T10:23:49.592Z"
   },
   {
    "duration": 12,
    "start_time": "2023-04-29T10:23:49.609Z"
   },
   {
    "duration": 7,
    "start_time": "2023-04-29T10:23:49.623Z"
   },
   {
    "duration": 8,
    "start_time": "2023-04-29T10:23:49.631Z"
   },
   {
    "duration": 14,
    "start_time": "2023-04-29T10:23:49.640Z"
   },
   {
    "duration": 8,
    "start_time": "2023-04-29T10:23:49.656Z"
   },
   {
    "duration": 2,
    "start_time": "2023-04-29T10:23:49.684Z"
   },
   {
    "duration": 2114,
    "start_time": "2023-04-29T10:23:49.688Z"
   },
   {
    "duration": 482,
    "start_time": "2023-04-29T10:23:51.803Z"
   },
   {
    "duration": 4,
    "start_time": "2023-04-29T10:23:52.288Z"
   },
   {
    "duration": 10601,
    "start_time": "2023-04-29T10:23:52.384Z"
   },
   {
    "duration": 4,
    "start_time": "2023-04-29T10:24:02.987Z"
   },
   {
    "duration": 162,
    "start_time": "2023-04-29T10:24:02.992Z"
   },
   {
    "duration": 6,
    "start_time": "2023-04-29T10:24:03.155Z"
   },
   {
    "duration": 33,
    "start_time": "2023-04-29T10:24:03.163Z"
   },
   {
    "duration": 79526,
    "start_time": "2023-04-29T10:24:03.199Z"
   },
   {
    "duration": 12,
    "start_time": "2023-04-29T10:25:22.727Z"
   },
   {
    "duration": 157,
    "start_time": "2023-04-29T10:25:22.740Z"
   },
   {
    "duration": 141,
    "start_time": "2023-04-29T10:25:22.898Z"
   },
   {
    "duration": 4,
    "start_time": "2023-04-29T10:25:23.041Z"
   },
   {
    "duration": 25,
    "start_time": "2023-04-29T10:25:23.047Z"
   },
   {
    "duration": 150,
    "start_time": "2023-04-29T10:25:23.074Z"
   },
   {
    "duration": 3,
    "start_time": "2023-04-29T10:25:23.226Z"
   },
   {
    "duration": 115906,
    "start_time": "2023-04-29T10:25:23.231Z"
   },
   {
    "duration": 13,
    "start_time": "2023-04-29T10:27:19.140Z"
   },
   {
    "duration": 161,
    "start_time": "2023-04-29T10:27:19.155Z"
   },
   {
    "duration": 5,
    "start_time": "2023-04-29T10:27:19.317Z"
   },
   {
    "duration": 14,
    "start_time": "2023-04-29T10:27:19.323Z"
   },
   {
    "duration": 159,
    "start_time": "2023-04-29T10:27:19.339Z"
   },
   {
    "duration": 3,
    "start_time": "2023-04-29T10:27:19.500Z"
   },
   {
    "duration": 53530,
    "start_time": "2023-04-29T10:27:19.505Z"
   },
   {
    "duration": 13,
    "start_time": "2023-04-29T10:28:13.036Z"
   },
   {
    "duration": 150,
    "start_time": "2023-04-29T10:28:13.050Z"
   },
   {
    "duration": 4,
    "start_time": "2023-04-29T10:28:13.202Z"
   },
   {
    "duration": 88055,
    "start_time": "2023-04-29T10:28:13.207Z"
   },
   {
    "duration": 29,
    "start_time": "2023-04-29T10:29:41.264Z"
   },
   {
    "duration": 147,
    "start_time": "2023-04-29T10:29:41.294Z"
   },
   {
    "duration": 198,
    "start_time": "2023-04-29T10:29:41.443Z"
   },
   {
    "duration": 5,
    "start_time": "2023-04-29T10:30:43.072Z"
   },
   {
    "duration": 1410,
    "start_time": "2023-04-29T10:33:06.136Z"
   },
   {
    "duration": 55,
    "start_time": "2023-04-29T10:33:07.547Z"
   },
   {
    "duration": 134,
    "start_time": "2023-04-29T10:33:07.604Z"
   },
   {
    "duration": 131,
    "start_time": "2023-04-29T10:33:07.740Z"
   },
   {
    "duration": 27,
    "start_time": "2023-04-29T10:33:07.873Z"
   },
   {
    "duration": 39,
    "start_time": "2023-04-29T10:33:07.902Z"
   },
   {
    "duration": 1142,
    "start_time": "2023-04-29T10:33:07.943Z"
   },
   {
    "duration": 3,
    "start_time": "2023-04-29T10:33:09.087Z"
   },
   {
    "duration": 269,
    "start_time": "2023-04-29T10:33:09.092Z"
   },
   {
    "duration": 464,
    "start_time": "2023-04-29T10:33:09.364Z"
   },
   {
    "duration": 6,
    "start_time": "2023-04-29T10:33:09.832Z"
   },
   {
    "duration": 52,
    "start_time": "2023-04-29T10:33:09.840Z"
   },
   {
    "duration": 36,
    "start_time": "2023-04-29T10:33:09.895Z"
   },
   {
    "duration": 31,
    "start_time": "2023-04-29T10:33:09.933Z"
   },
   {
    "duration": 40,
    "start_time": "2023-04-29T10:33:09.967Z"
   },
   {
    "duration": 3,
    "start_time": "2023-04-29T10:33:10.009Z"
   },
   {
    "duration": 22,
    "start_time": "2023-04-29T10:33:10.014Z"
   },
   {
    "duration": 20,
    "start_time": "2023-04-29T10:33:10.038Z"
   },
   {
    "duration": 32,
    "start_time": "2023-04-29T10:33:10.060Z"
   },
   {
    "duration": 6,
    "start_time": "2023-04-29T10:33:11.903Z"
   },
   {
    "duration": 8,
    "start_time": "2023-04-29T10:33:15.760Z"
   },
   {
    "duration": 16,
    "start_time": "2023-04-29T10:33:18.564Z"
   },
   {
    "duration": 24,
    "start_time": "2023-04-29T10:33:20.333Z"
   },
   {
    "duration": 16,
    "start_time": "2023-04-29T10:33:20.710Z"
   },
   {
    "duration": 14,
    "start_time": "2023-04-29T10:33:21.466Z"
   },
   {
    "duration": 17,
    "start_time": "2023-04-29T10:33:22.078Z"
   },
   {
    "duration": 17,
    "start_time": "2023-04-29T10:33:22.474Z"
   },
   {
    "duration": 6,
    "start_time": "2023-04-29T10:33:26.964Z"
   },
   {
    "duration": 7,
    "start_time": "2023-04-29T10:33:27.613Z"
   },
   {
    "duration": 6,
    "start_time": "2023-04-29T10:33:28.296Z"
   },
   {
    "duration": 1552,
    "start_time": "2023-04-29T10:33:40.128Z"
   },
   {
    "duration": 64,
    "start_time": "2023-04-29T10:33:41.683Z"
   },
   {
    "duration": 17,
    "start_time": "2023-04-29T10:33:41.753Z"
   },
   {
    "duration": 13,
    "start_time": "2023-04-29T10:33:41.773Z"
   },
   {
    "duration": 29,
    "start_time": "2023-04-29T10:33:41.788Z"
   },
   {
    "duration": 44,
    "start_time": "2023-04-29T10:33:41.819Z"
   },
   {
    "duration": 1172,
    "start_time": "2023-04-29T10:33:41.865Z"
   },
   {
    "duration": 2,
    "start_time": "2023-04-29T10:33:43.040Z"
   },
   {
    "duration": 246,
    "start_time": "2023-04-29T10:33:43.044Z"
   },
   {
    "duration": 437,
    "start_time": "2023-04-29T10:33:43.293Z"
   },
   {
    "duration": 5,
    "start_time": "2023-04-29T10:33:43.732Z"
   },
   {
    "duration": 17,
    "start_time": "2023-04-29T10:33:43.739Z"
   },
   {
    "duration": 10,
    "start_time": "2023-04-29T10:33:43.758Z"
   },
   {
    "duration": 32,
    "start_time": "2023-04-29T10:33:43.770Z"
   },
   {
    "duration": 19,
    "start_time": "2023-04-29T10:33:43.805Z"
   },
   {
    "duration": 3,
    "start_time": "2023-04-29T10:33:43.826Z"
   },
   {
    "duration": 17,
    "start_time": "2023-04-29T10:33:43.831Z"
   },
   {
    "duration": 14,
    "start_time": "2023-04-29T10:33:43.850Z"
   },
   {
    "duration": 13,
    "start_time": "2023-04-29T10:33:43.866Z"
   },
   {
    "duration": 9,
    "start_time": "2023-04-29T10:33:43.882Z"
   },
   {
    "duration": 22,
    "start_time": "2023-04-29T10:33:43.892Z"
   },
   {
    "duration": 14,
    "start_time": "2023-04-29T10:33:43.915Z"
   },
   {
    "duration": 26,
    "start_time": "2023-04-29T10:33:43.931Z"
   },
   {
    "duration": 23,
    "start_time": "2023-04-29T10:33:43.961Z"
   },
   {
    "duration": 20,
    "start_time": "2023-04-29T10:33:43.986Z"
   },
   {
    "duration": 23,
    "start_time": "2023-04-29T10:33:44.008Z"
   },
   {
    "duration": 17,
    "start_time": "2023-04-29T10:33:44.034Z"
   },
   {
    "duration": 28,
    "start_time": "2023-04-29T10:33:44.055Z"
   },
   {
    "duration": 31,
    "start_time": "2023-04-29T10:33:44.085Z"
   },
   {
    "duration": 16,
    "start_time": "2023-04-29T10:33:44.117Z"
   },
   {
    "duration": 13,
    "start_time": "2023-04-29T10:33:44.135Z"
   },
   {
    "duration": 32,
    "start_time": "2023-04-29T10:33:44.149Z"
   },
   {
    "duration": 1727,
    "start_time": "2023-04-29T10:33:44.183Z"
   },
   {
    "duration": 473,
    "start_time": "2023-04-29T10:33:45.912Z"
   },
   {
    "duration": 3,
    "start_time": "2023-04-29T10:33:46.387Z"
   },
   {
    "duration": 9988,
    "start_time": "2023-04-29T10:33:46.391Z"
   },
   {
    "duration": 3,
    "start_time": "2023-04-29T10:33:56.383Z"
   },
   {
    "duration": 168,
    "start_time": "2023-04-29T10:33:56.388Z"
   },
   {
    "duration": 7,
    "start_time": "2023-04-29T10:33:56.558Z"
   },
   {
    "duration": 34,
    "start_time": "2023-04-29T10:33:56.584Z"
   },
   {
    "duration": 82206,
    "start_time": "2023-04-29T10:33:56.621Z"
   },
   {
    "duration": 12,
    "start_time": "2023-04-29T10:35:18.829Z"
   },
   {
    "duration": 263,
    "start_time": "2023-04-29T10:35:18.843Z"
   },
   {
    "duration": 165,
    "start_time": "2023-04-29T10:35:19.107Z"
   },
   {
    "duration": 9,
    "start_time": "2023-04-29T10:35:19.274Z"
   },
   {
    "duration": 58,
    "start_time": "2023-04-29T10:35:19.285Z"
   },
   {
    "duration": 145,
    "start_time": "2023-04-29T10:35:19.345Z"
   },
   {
    "duration": 3,
    "start_time": "2023-04-29T10:35:19.492Z"
   },
   {
    "duration": 119549,
    "start_time": "2023-04-29T10:35:19.497Z"
   },
   {
    "duration": 18,
    "start_time": "2023-04-29T10:37:19.048Z"
   },
   {
    "duration": 163,
    "start_time": "2023-04-29T10:37:19.068Z"
   },
   {
    "duration": 5,
    "start_time": "2023-04-29T10:37:19.233Z"
   },
   {
    "duration": 27,
    "start_time": "2023-04-29T10:37:19.240Z"
   },
   {
    "duration": 131,
    "start_time": "2023-04-29T10:37:19.269Z"
   },
   {
    "duration": 3,
    "start_time": "2023-04-29T10:37:19.402Z"
   },
   {
    "duration": 53754,
    "start_time": "2023-04-29T10:37:19.407Z"
   },
   {
    "duration": 22,
    "start_time": "2023-04-29T10:38:13.163Z"
   },
   {
    "duration": 153,
    "start_time": "2023-04-29T10:38:13.186Z"
   },
   {
    "duration": 5,
    "start_time": "2023-04-29T10:38:13.341Z"
   },
   {
    "duration": 90366,
    "start_time": "2023-04-29T10:38:13.348Z"
   },
   {
    "duration": 17,
    "start_time": "2023-04-29T10:39:43.717Z"
   },
   {
    "duration": 181,
    "start_time": "2023-04-29T10:39:43.736Z"
   },
   {
    "duration": 180,
    "start_time": "2023-04-29T10:39:43.919Z"
   },
   {
    "duration": 1448,
    "start_time": "2023-04-29T10:40:54.810Z"
   },
   {
    "duration": 54,
    "start_time": "2023-04-29T10:40:56.260Z"
   },
   {
    "duration": 19,
    "start_time": "2023-04-29T10:40:56.316Z"
   },
   {
    "duration": 9,
    "start_time": "2023-04-29T10:40:56.337Z"
   },
   {
    "duration": 11,
    "start_time": "2023-04-29T10:40:56.347Z"
   },
   {
    "duration": 48,
    "start_time": "2023-04-29T10:40:56.360Z"
   },
   {
    "duration": 1166,
    "start_time": "2023-04-29T10:40:56.409Z"
   },
   {
    "duration": 7,
    "start_time": "2023-04-29T10:40:57.577Z"
   },
   {
    "duration": 227,
    "start_time": "2023-04-29T10:40:57.585Z"
   },
   {
    "duration": 411,
    "start_time": "2023-04-29T10:40:57.815Z"
   },
   {
    "duration": 5,
    "start_time": "2023-04-29T10:40:58.229Z"
   },
   {
    "duration": 7,
    "start_time": "2023-04-29T10:40:58.236Z"
   },
   {
    "duration": 5,
    "start_time": "2023-04-29T10:40:58.245Z"
   },
   {
    "duration": 35,
    "start_time": "2023-04-29T10:40:58.251Z"
   },
   {
    "duration": 14,
    "start_time": "2023-04-29T10:40:58.287Z"
   },
   {
    "duration": 3,
    "start_time": "2023-04-29T10:40:58.302Z"
   },
   {
    "duration": 6,
    "start_time": "2023-04-29T10:40:58.307Z"
   },
   {
    "duration": 7,
    "start_time": "2023-04-29T10:40:58.315Z"
   },
   {
    "duration": 8,
    "start_time": "2023-04-29T10:40:58.324Z"
   },
   {
    "duration": 7,
    "start_time": "2023-04-29T10:40:58.334Z"
   },
   {
    "duration": 44,
    "start_time": "2023-04-29T10:40:58.344Z"
   },
   {
    "duration": 15,
    "start_time": "2023-04-29T10:40:58.390Z"
   },
   {
    "duration": 18,
    "start_time": "2023-04-29T10:40:58.407Z"
   },
   {
    "duration": 12,
    "start_time": "2023-04-29T10:40:58.427Z"
   },
   {
    "duration": 12,
    "start_time": "2023-04-29T10:40:58.440Z"
   },
   {
    "duration": 54,
    "start_time": "2023-04-29T10:40:58.453Z"
   },
   {
    "duration": 11,
    "start_time": "2023-04-29T10:40:58.509Z"
   },
   {
    "duration": 13,
    "start_time": "2023-04-29T10:40:58.525Z"
   },
   {
    "duration": 8,
    "start_time": "2023-04-29T10:40:58.540Z"
   },
   {
    "duration": 7,
    "start_time": "2023-04-29T10:40:58.550Z"
   },
   {
    "duration": 8,
    "start_time": "2023-04-29T10:40:58.559Z"
   },
   {
    "duration": 10,
    "start_time": "2023-04-29T10:40:58.584Z"
   },
   {
    "duration": 2423,
    "start_time": "2023-04-29T10:40:58.596Z"
   },
   {
    "duration": 498,
    "start_time": "2023-04-29T10:41:01.084Z"
   },
   {
    "duration": 4,
    "start_time": "2023-04-29T10:41:01.584Z"
   },
   {
    "duration": 10257,
    "start_time": "2023-04-29T10:41:01.589Z"
   },
   {
    "duration": 5,
    "start_time": "2023-04-29T10:41:11.848Z"
   },
   {
    "duration": 154,
    "start_time": "2023-04-29T10:41:11.854Z"
   },
   {
    "duration": 7,
    "start_time": "2023-04-29T10:41:12.009Z"
   },
   {
    "duration": 31,
    "start_time": "2023-04-29T10:41:12.018Z"
   },
   {
    "duration": 85051,
    "start_time": "2023-04-29T10:41:12.051Z"
   },
   {
    "duration": 12,
    "start_time": "2023-04-29T10:42:37.103Z"
   },
   {
    "duration": 146,
    "start_time": "2023-04-29T10:42:37.117Z"
   },
   {
    "duration": 151,
    "start_time": "2023-04-29T10:42:37.264Z"
   },
   {
    "duration": 5,
    "start_time": "2023-04-29T10:42:37.416Z"
   },
   {
    "duration": 16,
    "start_time": "2023-04-29T10:42:37.423Z"
   },
   {
    "duration": 171,
    "start_time": "2023-04-29T10:42:37.441Z"
   },
   {
    "duration": 3,
    "start_time": "2023-04-29T10:42:37.613Z"
   },
   {
    "duration": 109999,
    "start_time": "2023-04-29T10:42:37.618Z"
   },
   {
    "duration": 14,
    "start_time": "2023-04-29T10:44:27.619Z"
   },
   {
    "duration": 195,
    "start_time": "2023-04-29T10:44:27.635Z"
   },
   {
    "duration": 8,
    "start_time": "2023-04-29T10:44:27.832Z"
   },
   {
    "duration": 19,
    "start_time": "2023-04-29T10:44:27.842Z"
   },
   {
    "duration": 132,
    "start_time": "2023-04-29T10:44:27.863Z"
   },
   {
    "duration": 5,
    "start_time": "2023-04-29T10:44:27.997Z"
   },
   {
    "duration": 54704,
    "start_time": "2023-04-29T10:44:28.004Z"
   },
   {
    "duration": 13,
    "start_time": "2023-04-29T10:45:22.710Z"
   },
   {
    "duration": 164,
    "start_time": "2023-04-29T10:45:22.725Z"
   },
   {
    "duration": 4,
    "start_time": "2023-04-29T10:45:22.891Z"
   },
   {
    "duration": 84048,
    "start_time": "2023-04-29T10:45:22.897Z"
   },
   {
    "duration": 12,
    "start_time": "2023-04-29T10:46:46.946Z"
   },
   {
    "duration": 160,
    "start_time": "2023-04-29T10:46:46.960Z"
   },
   {
    "duration": 182,
    "start_time": "2023-04-29T10:46:47.122Z"
   },
   {
    "duration": 14,
    "start_time": "2023-04-29T11:34:31.253Z"
   },
   {
    "duration": 12,
    "start_time": "2023-04-29T11:34:34.299Z"
   },
   {
    "duration": 1394,
    "start_time": "2023-04-29T12:19:23.399Z"
   },
   {
    "duration": 66,
    "start_time": "2023-04-29T12:19:24.796Z"
   },
   {
    "duration": 17,
    "start_time": "2023-04-29T12:19:24.864Z"
   },
   {
    "duration": 39,
    "start_time": "2023-04-29T12:19:24.884Z"
   },
   {
    "duration": 26,
    "start_time": "2023-04-29T12:19:24.925Z"
   },
   {
    "duration": 52,
    "start_time": "2023-04-29T12:19:24.952Z"
   },
   {
    "duration": 1259,
    "start_time": "2023-04-29T12:19:25.006Z"
   },
   {
    "duration": 3,
    "start_time": "2023-04-29T12:19:26.266Z"
   },
   {
    "duration": 242,
    "start_time": "2023-04-29T12:19:26.271Z"
   },
   {
    "duration": 406,
    "start_time": "2023-04-29T12:19:26.515Z"
   },
   {
    "duration": 4,
    "start_time": "2023-04-29T12:19:26.923Z"
   },
   {
    "duration": 18,
    "start_time": "2023-04-29T12:19:26.929Z"
   },
   {
    "duration": 22,
    "start_time": "2023-04-29T12:19:26.948Z"
   },
   {
    "duration": 38,
    "start_time": "2023-04-29T12:19:26.972Z"
   },
   {
    "duration": 17,
    "start_time": "2023-04-29T12:19:27.013Z"
   },
   {
    "duration": 3,
    "start_time": "2023-04-29T12:19:27.033Z"
   },
   {
    "duration": 7,
    "start_time": "2023-04-29T12:19:27.037Z"
   },
   {
    "duration": 10,
    "start_time": "2023-04-29T12:19:27.046Z"
   },
   {
    "duration": 17,
    "start_time": "2023-04-29T12:19:27.058Z"
   },
   {
    "duration": 5,
    "start_time": "2023-04-29T12:19:27.077Z"
   },
   {
    "duration": 27,
    "start_time": "2023-04-29T12:19:27.084Z"
   },
   {
    "duration": 12,
    "start_time": "2023-04-29T12:19:27.112Z"
   },
   {
    "duration": 16,
    "start_time": "2023-04-29T12:19:27.126Z"
   },
   {
    "duration": 9,
    "start_time": "2023-04-29T12:19:27.144Z"
   },
   {
    "duration": 16,
    "start_time": "2023-04-29T12:19:27.155Z"
   },
   {
    "duration": 28,
    "start_time": "2023-04-29T12:19:27.172Z"
   },
   {
    "duration": 8,
    "start_time": "2023-04-29T12:19:27.201Z"
   },
   {
    "duration": 6,
    "start_time": "2023-04-29T12:19:27.212Z"
   },
   {
    "duration": 7,
    "start_time": "2023-04-29T12:19:27.220Z"
   },
   {
    "duration": 6,
    "start_time": "2023-04-29T12:19:27.228Z"
   },
   {
    "duration": 8,
    "start_time": "2023-04-29T12:19:27.236Z"
   },
   {
    "duration": 4373,
    "start_time": "2023-04-29T12:19:27.245Z"
   },
   {
    "duration": 469,
    "start_time": "2023-04-29T12:19:31.622Z"
   },
   {
    "duration": 13,
    "start_time": "2023-04-29T12:19:32.096Z"
   },
   {
    "duration": 9987,
    "start_time": "2023-04-29T12:19:32.110Z"
   },
   {
    "duration": 4,
    "start_time": "2023-04-29T12:19:42.100Z"
   },
   {
    "duration": 140,
    "start_time": "2023-04-29T12:19:42.106Z"
   },
   {
    "duration": 7,
    "start_time": "2023-04-29T12:19:42.247Z"
   },
   {
    "duration": 11,
    "start_time": "2023-04-29T12:19:42.256Z"
   },
   {
    "duration": 88647,
    "start_time": "2023-04-29T12:19:42.269Z"
   },
   {
    "duration": 13,
    "start_time": "2023-04-29T12:21:10.918Z"
   },
   {
    "duration": 211,
    "start_time": "2023-04-29T12:21:10.932Z"
   },
   {
    "duration": 141,
    "start_time": "2023-04-29T12:21:11.144Z"
   },
   {
    "duration": 4,
    "start_time": "2023-04-29T12:21:11.287Z"
   },
   {
    "duration": 40,
    "start_time": "2023-04-29T12:21:11.295Z"
   },
   {
    "duration": 163,
    "start_time": "2023-04-29T12:21:11.337Z"
   },
   {
    "duration": 4,
    "start_time": "2023-04-29T12:21:11.502Z"
   },
   {
    "duration": 116332,
    "start_time": "2023-04-29T12:21:11.508Z"
   },
   {
    "duration": 28,
    "start_time": "2023-04-29T12:23:07.841Z"
   },
   {
    "duration": 193,
    "start_time": "2023-04-29T12:23:07.871Z"
   },
   {
    "duration": 8,
    "start_time": "2023-04-29T12:23:08.085Z"
   },
   {
    "duration": 45,
    "start_time": "2023-04-29T12:23:08.094Z"
   },
   {
    "duration": 157,
    "start_time": "2023-04-29T12:23:08.141Z"
   },
   {
    "duration": 3,
    "start_time": "2023-04-29T12:23:08.300Z"
   },
   {
    "duration": 57884,
    "start_time": "2023-04-29T12:23:08.305Z"
   },
   {
    "duration": 19,
    "start_time": "2023-04-29T12:24:06.191Z"
   },
   {
    "duration": 190,
    "start_time": "2023-04-29T12:24:06.212Z"
   },
   {
    "duration": 4,
    "start_time": "2023-04-29T12:24:06.403Z"
   },
   {
    "duration": 93634,
    "start_time": "2023-04-29T12:24:06.408Z"
   },
   {
    "duration": 14,
    "start_time": "2023-04-29T12:25:40.044Z"
   },
   {
    "duration": 201,
    "start_time": "2023-04-29T12:25:40.060Z"
   },
   {
    "duration": 172,
    "start_time": "2023-04-29T12:25:40.263Z"
   },
   {
    "duration": 1641,
    "start_time": "2023-07-15T17:09:14.044Z"
   },
   {
    "duration": 173,
    "start_time": "2023-07-15T17:09:15.687Z"
   },
   {
    "duration": 15,
    "start_time": "2023-07-15T17:09:15.862Z"
   },
   {
    "duration": 11,
    "start_time": "2023-07-15T17:09:15.880Z"
   },
   {
    "duration": 13,
    "start_time": "2023-07-15T17:09:15.893Z"
   },
   {
    "duration": 28,
    "start_time": "2023-07-15T17:09:15.907Z"
   },
   {
    "duration": 1193,
    "start_time": "2023-07-15T17:09:15.936Z"
   },
   {
    "duration": 3,
    "start_time": "2023-07-15T17:09:17.131Z"
   },
   {
    "duration": 169,
    "start_time": "2023-07-15T17:09:17.136Z"
   },
   {
    "duration": 412,
    "start_time": "2023-07-15T17:09:17.308Z"
   },
   {
    "duration": 4,
    "start_time": "2023-07-15T17:09:17.721Z"
   },
   {
    "duration": 8,
    "start_time": "2023-07-15T17:09:17.727Z"
   },
   {
    "duration": 10,
    "start_time": "2023-07-15T17:09:17.737Z"
   },
   {
    "duration": 20,
    "start_time": "2023-07-15T17:09:17.749Z"
   },
   {
    "duration": 13,
    "start_time": "2023-07-15T17:09:17.771Z"
   },
   {
    "duration": 2,
    "start_time": "2023-07-15T17:09:17.786Z"
   },
   {
    "duration": 7,
    "start_time": "2023-07-15T17:09:17.790Z"
   },
   {
    "duration": 9,
    "start_time": "2023-07-15T17:09:17.798Z"
   },
   {
    "duration": 10,
    "start_time": "2023-07-15T17:09:17.808Z"
   },
   {
    "duration": 3,
    "start_time": "2023-07-15T17:09:17.820Z"
   },
   {
    "duration": 6,
    "start_time": "2023-07-15T17:09:17.825Z"
   },
   {
    "duration": 40,
    "start_time": "2023-07-15T17:09:17.833Z"
   },
   {
    "duration": 16,
    "start_time": "2023-07-15T17:09:17.875Z"
   },
   {
    "duration": 11,
    "start_time": "2023-07-15T17:09:17.893Z"
   },
   {
    "duration": 13,
    "start_time": "2023-07-15T17:09:17.906Z"
   },
   {
    "duration": 10,
    "start_time": "2023-07-15T17:09:17.921Z"
   },
   {
    "duration": 5,
    "start_time": "2023-07-15T17:09:17.969Z"
   },
   {
    "duration": 8,
    "start_time": "2023-07-15T17:09:17.978Z"
   },
   {
    "duration": 7,
    "start_time": "2023-07-15T17:09:17.988Z"
   },
   {
    "duration": 6,
    "start_time": "2023-07-15T17:09:17.996Z"
   },
   {
    "duration": 7,
    "start_time": "2023-07-15T17:09:18.003Z"
   },
   {
    "duration": 3875,
    "start_time": "2023-07-15T17:09:18.011Z"
   },
   {
    "duration": 480,
    "start_time": "2023-07-15T17:09:21.889Z"
   },
   {
    "duration": 4,
    "start_time": "2023-07-15T17:09:22.371Z"
   },
   {
    "duration": 9180,
    "start_time": "2023-07-15T17:09:22.377Z"
   },
   {
    "duration": 10,
    "start_time": "2023-07-15T17:09:31.558Z"
   },
   {
    "duration": 147,
    "start_time": "2023-07-15T17:09:31.570Z"
   },
   {
    "duration": 7,
    "start_time": "2023-07-15T17:09:31.718Z"
   },
   {
    "duration": 20,
    "start_time": "2023-07-15T17:09:31.727Z"
   },
   {
    "duration": 76407,
    "start_time": "2023-07-15T17:09:31.748Z"
   },
   {
    "duration": 17,
    "start_time": "2023-07-15T17:10:48.157Z"
   },
   {
    "duration": 125,
    "start_time": "2023-07-15T17:10:48.175Z"
   },
   {
    "duration": 128,
    "start_time": "2023-07-15T17:10:48.302Z"
   },
   {
    "duration": 4,
    "start_time": "2023-07-15T17:10:48.431Z"
   },
   {
    "duration": 18,
    "start_time": "2023-07-15T17:10:48.436Z"
   },
   {
    "duration": 121,
    "start_time": "2023-07-15T17:10:48.456Z"
   },
   {
    "duration": 3,
    "start_time": "2023-07-15T17:10:48.579Z"
   },
   {
    "duration": 106912,
    "start_time": "2023-07-15T17:10:48.584Z"
   },
   {
    "duration": 12,
    "start_time": "2023-07-15T17:12:35.498Z"
   },
   {
    "duration": 141,
    "start_time": "2023-07-15T17:12:35.512Z"
   },
   {
    "duration": 13,
    "start_time": "2023-07-15T17:12:35.655Z"
   },
   {
    "duration": 11,
    "start_time": "2023-07-15T17:12:35.669Z"
   },
   {
    "duration": 134,
    "start_time": "2023-07-15T17:12:35.682Z"
   },
   {
    "duration": 3,
    "start_time": "2023-07-15T17:12:35.817Z"
   },
   {
    "duration": 50272,
    "start_time": "2023-07-15T17:12:35.821Z"
   },
   {
    "duration": 13,
    "start_time": "2023-07-15T17:13:26.094Z"
   },
   {
    "duration": 145,
    "start_time": "2023-07-15T17:13:26.108Z"
   },
   {
    "duration": 14,
    "start_time": "2023-07-15T17:13:26.254Z"
   },
   {
    "duration": 81366,
    "start_time": "2023-07-15T17:13:26.270Z"
   },
   {
    "duration": 12,
    "start_time": "2023-07-15T17:14:47.638Z"
   },
   {
    "duration": 159,
    "start_time": "2023-07-15T17:14:47.651Z"
   },
   {
    "duration": 180,
    "start_time": "2023-07-15T17:14:47.812Z"
   },
   {
    "duration": 3,
    "start_time": "2023-07-15T17:22:54.876Z"
   },
   {
    "duration": 45711,
    "start_time": "2023-07-15T17:22:56.154Z"
   },
   {
    "duration": 13,
    "start_time": "2023-07-15T17:23:45.664Z"
   },
   {
    "duration": 146,
    "start_time": "2023-07-15T17:23:58.480Z"
   },
   {
    "duration": 164,
    "start_time": "2023-07-15T17:24:08.810Z"
   }
  ],
  "kernelspec": {
   "display_name": "Python 3 (ipykernel)",
   "language": "python",
   "name": "python3"
  },
  "language_info": {
   "codemirror_mode": {
    "name": "ipython",
    "version": 3
   },
   "file_extension": ".py",
   "mimetype": "text/x-python",
   "name": "python",
   "nbconvert_exporter": "python",
   "pygments_lexer": "ipython3",
   "version": "3.9.5"
  },
  "toc": {
   "base_numbering": 1,
   "nav_menu": {},
   "number_sections": true,
   "sideBar": true,
   "skip_h1_title": true,
   "title_cell": "Содержание",
   "title_sidebar": "Contents",
   "toc_cell": true,
   "toc_position": {},
   "toc_section_display": true,
   "toc_window_display": true
  }
 },
 "nbformat": 4,
 "nbformat_minor": 2
}
